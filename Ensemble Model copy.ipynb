{
 "cells": [
  {
   "cell_type": "markdown",
   "metadata": {},
   "source": [
    "# Ensemble Model for Weather Forecasting"
   ]
  },
  {
   "cell_type": "markdown",
   "metadata": {},
   "source": [
    "# Data load And Preparation"
   ]
  },
  {
   "cell_type": "code",
   "execution_count": 2,
   "metadata": {},
   "outputs": [],
   "source": [
    "import pandas as pd\n",
    "import numpy as np \n",
    "from sklearn.preprocessing import StandardScaler\n",
    "from sklearn.svm import SVR\n",
    "from sklearn.svm import LinearSVR\n",
    "from sklearn.model_selection import train_test_split\n",
    "from sklearn.metrics import mean_squared_error\n",
    "from sklearn.metrics import r2_score\n",
    "from scipy.optimize import differential_evolution\n",
    "from scipy import stats\n",
    "import matplotlib.pyplot as plt\n",
    "import seaborn as sns\n",
    "import warnings\n",
    "import plotly.express as px\n",
    "warnings.filterwarnings('ignore')\n"
   ]
  },
  {
   "cell_type": "code",
   "execution_count": 8,
   "id": "de2747d6",
   "metadata": {},
   "outputs": [
    {
     "data": {
      "text/plain": [
       "Index(['station', 'Date', 'Present_Tmax', 'Present_Tmin', 'LDAPS_RHmin',\n",
       "       'LDAPS_RHmax', 'LDAPS_Tmax_lapse', 'LDAPS_Tmin_lapse', 'LDAPS_WS',\n",
       "       'LDAPS_LH', 'LDAPS_CC1', 'LDAPS_CC2', 'LDAPS_CC3', 'LDAPS_CC4',\n",
       "       'LDAPS_PPT1', 'LDAPS_PPT2', 'LDAPS_PPT3', 'LDAPS_PPT4', 'lat', 'lon',\n",
       "       'DEM', 'Slope', 'Solar radiation', 'Next_Tmax', 'Next_Tmin'],\n",
       "      dtype='object')"
      ]
     },
     "execution_count": 8,
     "metadata": {},
     "output_type": "execute_result"
    }
   ],
   "source": [
    "pd.options.display.float_format = '{:,.10f}'.format\n",
    "db = pd.read_csv('Bias_correction_ucl.csv').dropna()\n",
    "db = db[db['station']==1]\n",
    "db.columns"
   ]
  },
  {
   "cell_type": "code",
   "execution_count": 9,
   "id": "a6a70c8e",
   "metadata": {},
   "outputs": [
    {
     "data": {
      "text/html": [
       "<div>\n",
       "<style scoped>\n",
       "    .dataframe tbody tr th:only-of-type {\n",
       "        vertical-align: middle;\n",
       "    }\n",
       "\n",
       "    .dataframe tbody tr th {\n",
       "        vertical-align: top;\n",
       "    }\n",
       "\n",
       "    .dataframe thead th {\n",
       "        text-align: right;\n",
       "    }\n",
       "</style>\n",
       "<table border=\"1\" class=\"dataframe\">\n",
       "  <thead>\n",
       "    <tr style=\"text-align: right;\">\n",
       "      <th></th>\n",
       "      <th>Date</th>\n",
       "      <th>Temperatura Real</th>\n",
       "      <th>previsto_svr</th>\n",
       "      <th>previsto_rf</th>\n",
       "      <th>previsto_mlp</th>\n",
       "      <th>previsto_mme</th>\n",
       "      <th>LDAPS_Tmax_lapse</th>\n",
       "      <th>LDAPS_Tmin_lapse</th>\n",
       "    </tr>\n",
       "  </thead>\n",
       "  <tbody>\n",
       "    <tr>\n",
       "      <th>0</th>\n",
       "      <td>2017-06-30</td>\n",
       "      <td>29.2000000000</td>\n",
       "      <td>28.0440398829</td>\n",
       "      <td>27.3524000000</td>\n",
       "      <td>27.1887591130</td>\n",
       "      <td>27.5283996653</td>\n",
       "      <td>26.7983751400</td>\n",
       "      <td>20.8287135200</td>\n",
       "    </tr>\n",
       "    <tr>\n",
       "      <th>1</th>\n",
       "      <td>2017-07-01</td>\n",
       "      <td>24.1000000000</td>\n",
       "      <td>25.8503746813</td>\n",
       "      <td>23.8926000000</td>\n",
       "      <td>25.1000000000</td>\n",
       "      <td>24.9476582271</td>\n",
       "      <td>24.3613413300</td>\n",
       "      <td>22.5986772600</td>\n",
       "    </tr>\n",
       "    <tr>\n",
       "      <th>2</th>\n",
       "      <td>2017-07-03</td>\n",
       "      <td>29.9000000000</td>\n",
       "      <td>27.6964732923</td>\n",
       "      <td>28.2766000000</td>\n",
       "      <td>27.0360995078</td>\n",
       "      <td>27.6697242667</td>\n",
       "      <td>29.2454020900</td>\n",
       "      <td>21.7213791500</td>\n",
       "    </tr>\n",
       "    <tr>\n",
       "      <th>3</th>\n",
       "      <td>2017-07-04</td>\n",
       "      <td>30.0000000000</td>\n",
       "      <td>29.1014533072</td>\n",
       "      <td>29.8056000000</td>\n",
       "      <td>28.5593982244</td>\n",
       "      <td>29.1554838439</td>\n",
       "      <td>29.6111449800</td>\n",
       "      <td>22.4301356100</td>\n",
       "    </tr>\n",
       "    <tr>\n",
       "      <th>4</th>\n",
       "      <td>2017-07-05</td>\n",
       "      <td>31.2000000000</td>\n",
       "      <td>31.1787320339</td>\n",
       "      <td>31.6304000000</td>\n",
       "      <td>28.9461860697</td>\n",
       "      <td>30.5851060346</td>\n",
       "      <td>31.5103503600</td>\n",
       "      <td>22.6366783700</td>\n",
       "    </tr>\n",
       "  </tbody>\n",
       "</table>\n",
       "</div>"
      ],
      "text/plain": [
       "        Date  Temperatura Real  previsto_svr   previsto_rf  previsto_mlp  \\\n",
       "0 2017-06-30     29.2000000000 28.0440398829 27.3524000000 27.1887591130   \n",
       "1 2017-07-01     24.1000000000 25.8503746813 23.8926000000 25.1000000000   \n",
       "2 2017-07-03     29.9000000000 27.6964732923 28.2766000000 27.0360995078   \n",
       "3 2017-07-04     30.0000000000 29.1014533072 29.8056000000 28.5593982244   \n",
       "4 2017-07-05     31.2000000000 31.1787320339 31.6304000000 28.9461860697   \n",
       "\n",
       "   previsto_mme  LDAPS_Tmax_lapse  LDAPS_Tmin_lapse  \n",
       "0 27.5283996653     26.7983751400     20.8287135200  \n",
       "1 24.9476582271     24.3613413300     22.5986772600  \n",
       "2 27.6697242667     29.2454020900     21.7213791500  \n",
       "3 29.1554838439     29.6111449800     22.4301356100  \n",
       "4 30.5851060346     31.5103503600     22.6366783700  "
      ]
     },
     "execution_count": 9,
     "metadata": {},
     "output_type": "execute_result"
    }
   ],
   "source": [
    "db['Date'] = pd.to_datetime(db['Date'])\n",
    "df = pd.read_excel('graps.xlsx')\n",
    "db = df.merge(db[['Date', 'LDAPS_Tmax_lapse', 'LDAPS_Tmin_lapse']], on='Date', how='left')\n",
    "db.head()"
   ]
  },
  {
   "cell_type": "code",
   "execution_count": 10,
   "id": "f421d4b5",
   "metadata": {},
   "outputs": [],
   "source": [
    "db.to_excel('graps2.xlsx')"
   ]
  },
  {
   "cell_type": "code",
   "execution_count": 4,
   "metadata": {},
   "outputs": [],
   "source": [
    "pd.options.display.float_format = '{:,.10f}'.format\n",
    "db = pd.read_csv('Bias_correction_ucl.csv').dropna()\n",
    "db.Date = pd.to_datetime(db.Date)\n",
    "db['Year'] = db.Date.dt.year\n",
    "db = db.set_index(['station','Date','Year'])\n",
    "db = db[(np.abs(stats.zscore(db)) < 6).all(axis=1)]\n",
    "target = db[['Next_Tmax','Next_Tmin']]\n",
    "features = db.drop(['Next_Tmax','Next_Tmin'],axis=1)\n"
   ]
  },
  {
   "cell_type": "markdown",
   "metadata": {},
   "source": [
    "#### Data Transformation"
   ]
  },
  {
   "cell_type": "code",
   "execution_count": 5,
   "metadata": {
    "scrolled": true
   },
   "outputs": [],
   "source": [
    "x_scaler = StandardScaler()\n",
    "norm_features = pd.DataFrame(x_scaler.fit_transform(features.values), columns=features.columns, index=features.index)\n",
    "y_scaler_Tmax = StandardScaler()\n",
    "y_scaler_fit_Tmax = y_scaler_Tmax.fit(\n",
    "    np.array(target['Next_Tmax']).reshape(-1, 1))\n",
    "target_norm_max = pd.DataFrame(y_scaler_Tmax.fit_transform(np.array(\n",
    "    target['Next_Tmax']).reshape(-1, 1)), columns=target[['Next_Tmax']].columns, index=target[['Next_Tmax']].index)\n",
    "y_scaler_Tmin = StandardScaler()\n",
    "y_scaler_fit_Tmin = y_scaler_Tmin.fit(\n",
    "    np.array(target['Next_Tmin']).reshape(-1, 1))\n",
    "target_norm_Tmin = pd.DataFrame(y_scaler_Tmin.fit_transform(np.array(\n",
    "    target['Next_Tmin']).reshape(-1, 1)), columns=target[['Next_Tmin']].columns, index=target[['Next_Tmin']].index)\n"
   ]
  },
  {
   "cell_type": "markdown",
   "metadata": {},
   "source": [
    "## Train And Test Split"
   ]
  },
  {
   "cell_type": "code",
   "execution_count": 6,
   "metadata": {},
   "outputs": [],
   "source": [
    "X_train_org = features.loc[pd.IndexSlice[:, :, [2013, 2014, 2015, 2016]], :]\n",
    "X_test_org = features.loc[pd.IndexSlice[:, :, [2017]], :]\n",
    "y_train_Tmax_org = target.loc[pd.IndexSlice[:, :, [\n",
    "    2013, 2014, 2015, 2016]], :]['Next_Tmax']\n",
    "y_test_Tmax_org = target.loc[pd.IndexSlice[:, :, [2017]], :]['Next_Tmax']\n",
    "y_train_Tmin_org = target.loc[pd.IndexSlice[:, :, [\n",
    "    2013, 2014, 2015, 2016]], :]['Next_Tmin']\n",
    "y_test_Tmin_org = target.loc[pd.IndexSlice[:, :, [2017]], :]['Next_Tmin']\n"
   ]
  },
  {
   "cell_type": "code",
   "execution_count": 7,
   "metadata": {},
   "outputs": [],
   "source": [
    "X_train = norm_features.loc[pd.IndexSlice[:, :,[2013,2014,2015,2016]], :]\n",
    "X_test = norm_features.loc[pd.IndexSlice[:, :,[2017]], :]\n",
    "y_train_Tmax = target_norm_max.loc[pd.IndexSlice[:, :,[2013,2014,2015,2016]], :]['Next_Tmax']\n",
    "y_test_Tmax =  target_norm_max.loc[pd.IndexSlice[:, :,[2017]], :]['Next_Tmax']\n",
    "y_train_Tmin = target_norm_Tmin.loc[pd.IndexSlice[:, :,[2013,2014,2015,2016]], :]['Next_Tmin']\n",
    "y_test_Tmin =  target_norm_Tmin.loc[pd.IndexSlice[:, :,[2017]], :]['Next_Tmin']\n",
    "\n",
    "X_train_st1 = norm_features.loc[pd.IndexSlice[[\n",
    "    1], :, [2013, 2014, 2015, 2016]], :]\n",
    "X_test_st1 = norm_features.loc[pd.IndexSlice[[1], :, [2017]], :]\n",
    "y_train_Tmax_st1 = target_norm_max.loc[pd.IndexSlice[[\n",
    "    1], :, [2013, 2014, 2015, 2016]], :]['Next_Tmax']\n",
    "y_test_Tmax_st1 = target_norm_max.loc[pd.IndexSlice[[\n",
    "    1], :, [2017]], :]['Next_Tmax']\n",
    "y_train_Tmin_st1 = target_norm_Tmin.loc[pd.IndexSlice[[\n",
    "    1], :, [2013, 2014, 2015, 2016]], :]['Next_Tmin']\n",
    "y_test_Tmin_st1 = target_norm_Tmin.loc[pd.IndexSlice[[\n",
    "    1], :, [2017]], :]['Next_Tmin']\n"
   ]
  },
  {
   "cell_type": "markdown",
   "metadata": {},
   "source": [
    "# SVR Model"
   ]
  },
  {
   "cell_type": "markdown",
   "metadata": {},
   "source": [
    "## Model Implementation For Tmax"
   ]
  },
  {
   "cell_type": "markdown",
   "metadata": {},
   "source": [
    "### For all 25 Stations"
   ]
  },
  {
   "cell_type": "code",
   "execution_count": 5,
   "metadata": {},
   "outputs": [],
   "source": [
    "def evaluate(v):\n",
    "    C,e = v\n",
    "    model = LinearSVR(C=C, epsilon=e)\n",
    "    svr = model.fit(X_train, y_train_Tmax.ravel())\n",
    "    yfit = svr.predict(X_test)\n",
    "    return mean_squared_error(y_test_Tmax,yfit)\n"
   ]
  },
  {
   "cell_type": "code",
   "execution_count": 6,
   "metadata": {},
   "outputs": [
    {
     "name": "stdout",
     "output_type": "stream",
     "text": [
      "differential_evolution step 1: f(x)= 0.296722\n",
      "differential_evolution step 2: f(x)= 0.268823\n",
      "differential_evolution step 3: f(x)= 0.268823\n",
      "differential_evolution step 4: f(x)= 0.255362\n",
      "differential_evolution step 5: f(x)= 0.255362\n",
      "differential_evolution step 6: f(x)= 0.255362\n",
      "differential_evolution step 7: f(x)= 0.255362\n",
      "differential_evolution step 8: f(x)= 0.255362\n",
      "differential_evolution step 9: f(x)= 0.255362\n",
      "differential_evolution step 10: f(x)= 0.255362\n",
      "differential_evolution step 11: f(x)= 0.255362\n",
      "differential_evolution step 12: f(x)= 0.255362\n",
      "differential_evolution step 13: f(x)= 0.255362\n",
      "differential_evolution step 14: f(x)= 0.255362\n",
      "differential_evolution step 15: f(x)= 0.255362\n",
      "differential_evolution step 16: f(x)= 0.255362\n",
      "differential_evolution step 17: f(x)= 0.255362\n",
      "differential_evolution step 18: f(x)= 0.255362\n",
      "differential_evolution step 19: f(x)= 0.255362\n",
      "differential_evolution step 20: f(x)= 0.255362\n",
      "differential_evolution step 21: f(x)= 0.255362\n",
      "differential_evolution step 22: f(x)= 0.255362\n",
      "differential_evolution step 23: f(x)= 0.255362\n",
      "differential_evolution step 24: f(x)= 0.255362\n",
      "differential_evolution step 25: f(x)= 0.255362\n",
      "differential_evolution step 26: f(x)= 0.255362\n",
      "differential_evolution step 27: f(x)= 0.255362\n",
      "differential_evolution step 28: f(x)= 0.255362\n",
      "differential_evolution step 29: f(x)= 0.255362\n",
      "differential_evolution step 30: f(x)= 0.255362\n"
     ]
    },
    {
     "data": {
      "text/plain": [
       "array([14.9623851 ,  0.05708199])"
      ]
     },
     "execution_count": 6,
     "metadata": {},
     "output_type": "execute_result"
    }
   ],
   "source": [
    "bounds = [[0.1,15],[0.0001,1]]\n",
    "result = differential_evolution(evaluate, bounds, disp=True, maxiter=30)\n",
    "result['x']\n"
   ]
  },
  {
   "cell_type": "code",
   "execution_count": 8,
   "metadata": {},
   "outputs": [
    {
     "name": "stdout",
     "output_type": "stream",
     "text": [
      "R-squared: 0.14744975248021697\n",
      "MSE: 8.332369578456035\n"
     ]
    }
   ],
   "source": [
    "model = SVR(C=11, epsilon=0.07)\n",
    "svr_Tmax = model.fit(X_train_org,y_train_Tmax_org.ravel())\n",
    "yfit = svr_Tmax.predict(X_test_org)\n",
    "score = svr_Tmax.score(X_test_org,y_test_Tmax_org)\n",
    "print(\"R-squared:\",  r2_score(y_test_Tmax_org,yfit))\n",
    "print(\"MSE:\", mean_squared_error(y_test_Tmax_org,yfit))\n"
   ]
  },
  {
   "cell_type": "code",
   "execution_count": 8,
   "metadata": {},
   "outputs": [
    {
     "data": {
      "image/png": "[encoded data removed]",
      "text/plain": [
       "<Figure size 432x288 with 1 Axes>"
      ]
     },
     "metadata": {
      "needs_background": "light"
     },
     "output_type": "display_data"
    }
   ],
   "source": [
    "slope, intercept, r_value, p_value, std_err = stats.linregress(y_scaler_fit_Tmax.inverse_transform(y_test_Tmax),y_scaler_fit_Tmax.inverse_transform(yfit))\n",
    "ax = sns.regplot(x=y_scaler_fit_Tmax.inverse_transform(y_test_Tmax), y=y_scaler_fit_Tmax.inverse_transform(yfit),line_kws={'color': 'red','label':\"y={0:.1f}x+{1:.1f}\".format(slope,intercept)})\n",
    "sns.kdeplot(y_scaler_fit_Tmax.inverse_transform(y_test_Tmax), y_scaler_fit_Tmax.inverse_transform(yfit))\n",
    "ax.legend(loc='upper left')\n",
    "ax.set(xlabel='Next_Tmin (°C)', ylabel='Previsão (°C)', title='SVR')\n",
    "ax.figure.savefig(\"SVR_tmax.jpeg\")"
   ]
  },
  {
   "cell_type": "markdown",
   "metadata": {},
   "source": [
    "### Unique Station"
   ]
  },
  {
   "cell_type": "code",
   "execution_count": 9,
   "metadata": {},
   "outputs": [
    {
     "name": "stdout",
     "output_type": "stream",
     "text": [
      "R-squared: 0.7170368105024928\n",
      "MSE: 2.406268469652395\n"
     ]
    }
   ],
   "source": [
    "yfit_st1 = svr_Tmax.predict(X_test_st1)\n",
    "print(\"R-squared:\",  r2_score(y_scaler_fit_Tmax.inverse_transform(y_test_Tmax_st1),y_scaler_fit_Tmax.inverse_transform(yfit_st1)))\n",
    "print(\"MSE:\", mean_squared_error(y_scaler_fit_Tmax.inverse_transform(y_test_Tmax_st1), y_scaler_fit_Tmax.inverse_transform(yfit_st1)))\n"
   ]
  },
  {
   "cell_type": "code",
   "execution_count": 10,
   "metadata": {},
   "outputs": [
    {
     "data": {
      "text/html": [
       "<div>\n",
       "<style scoped>\n",
       "    .dataframe tbody tr th:only-of-type {\n",
       "        vertical-align: middle;\n",
       "    }\n",
       "\n",
       "    .dataframe tbody tr th {\n",
       "        vertical-align: top;\n",
       "    }\n",
       "\n",
       "    .dataframe thead th {\n",
       "        text-align: right;\n",
       "    }\n",
       "</style>\n",
       "<table border=\"1\" class=\"dataframe\">\n",
       "  <thead>\n",
       "    <tr style=\"text-align: right;\">\n",
       "      <th></th>\n",
       "      <th>station</th>\n",
       "      <th>Date</th>\n",
       "      <th>Year</th>\n",
       "      <th>Present_Tmax</th>\n",
       "      <th>Present_Tmin</th>\n",
       "      <th>LDAPS_RHmin</th>\n",
       "      <th>LDAPS_RHmax</th>\n",
       "      <th>LDAPS_Tmax_lapse</th>\n",
       "      <th>LDAPS_Tmin_lapse</th>\n",
       "      <th>LDAPS_WS</th>\n",
       "      <th>...</th>\n",
       "      <th>LDAPS_PPT2</th>\n",
       "      <th>LDAPS_PPT3</th>\n",
       "      <th>LDAPS_PPT4</th>\n",
       "      <th>lat</th>\n",
       "      <th>lon</th>\n",
       "      <th>DEM</th>\n",
       "      <th>Slope</th>\n",
       "      <th>Solar radiation</th>\n",
       "      <th>Next_Tmax</th>\n",
       "      <th>Previsão</th>\n",
       "    </tr>\n",
       "  </thead>\n",
       "  <tbody>\n",
       "    <tr>\n",
       "      <th>0</th>\n",
       "      <td>1.0000000000</td>\n",
       "      <td>2017-06-30</td>\n",
       "      <td>2017</td>\n",
       "      <td>-0.6353088184</td>\n",
       "      <td>-1.3677698573</td>\n",
       "      <td>0.1786262381</td>\n",
       "      <td>1.3296752649</td>\n",
       "      <td>-0.9846526951</td>\n",
       "      <td>-1.1434685968</td>\n",
       "      <td>-0.3077624363</td>\n",
       "      <td>...</td>\n",
       "      <td>-0.2896729941</td>\n",
       "      <td>-0.2525800675</td>\n",
       "      <td>-0.1928158068</td>\n",
       "      <td>1.1906687093</td>\n",
       "      <td>-0.0008005538</td>\n",
       "      <td>2.7726693600</td>\n",
       "      <td>1.1163202881</td>\n",
       "      <td>1.5175509274</td>\n",
       "      <td>29.2000000000</td>\n",
       "      <td>28.3523554128</td>\n",
       "    </tr>\n",
       "    <tr>\n",
       "      <th>1</th>\n",
       "      <td>1.0000000000</td>\n",
       "      <td>2017-07-01</td>\n",
       "      <td>2017</td>\n",
       "      <td>-0.1975405447</td>\n",
       "      <td>-1.4093038588</td>\n",
       "      <td>2.4081613579</td>\n",
       "      <td>1.6303044350</td>\n",
       "      <td>-1.8206951910</td>\n",
       "      <td>-0.3916778506</td>\n",
       "      <td>1.0452531562</td>\n",
       "      <td>...</td>\n",
       "      <td>0.0044358885</td>\n",
       "      <td>0.4212376731</td>\n",
       "      <td>2.5402188894</td>\n",
       "      <td>1.1906687093</td>\n",
       "      <td>-0.0008005538</td>\n",
       "      <td>2.7726693600</td>\n",
       "      <td>1.1163202881</td>\n",
       "      <td>1.5054912834</td>\n",
       "      <td>24.1000000000</td>\n",
       "      <td>24.6410321143</td>\n",
       "    </tr>\n",
       "    <tr>\n",
       "      <th>2</th>\n",
       "      <td>1.0000000000</td>\n",
       "      <td>2017-07-02</td>\n",
       "      <td>2017</td>\n",
       "      <td>-2.0159626049</td>\n",
       "      <td>-1.0770318467</td>\n",
       "      <td>2.5316435620</td>\n",
       "      <td>1.6313746261</td>\n",
       "      <td>-1.9865524721</td>\n",
       "      <td>-0.6483755441</td>\n",
       "      <td>1.6574241297</td>\n",
       "      <td>...</td>\n",
       "      <td>6.9196671336</td>\n",
       "      <td>-0.2449624428</td>\n",
       "      <td>-0.1149365838</td>\n",
       "      <td>1.1906687093</td>\n",
       "      <td>-0.0008005538</td>\n",
       "      <td>2.7726693600</td>\n",
       "      <td>1.1163202881</td>\n",
       "      <td>1.4921225140</td>\n",
       "      <td>25.5000000000</td>\n",
       "      <td>27.0757382125</td>\n",
       "    </tr>\n",
       "    <tr>\n",
       "      <th>3</th>\n",
       "      <td>1.0000000000</td>\n",
       "      <td>2017-07-03</td>\n",
       "      <td>2017</td>\n",
       "      <td>-1.6118688137</td>\n",
       "      <td>-1.1185658482</td>\n",
       "      <td>0.1989934770</td>\n",
       "      <td>1.1605716197</td>\n",
       "      <td>-0.1451819785</td>\n",
       "      <td>-0.7643095525</td>\n",
       "      <td>0.0932883947</td>\n",
       "      <td>...</td>\n",
       "      <td>-0.2896729941</td>\n",
       "      <td>-0.2525800675</td>\n",
       "      <td>-0.2308736478</td>\n",
       "      <td>1.1906687093</td>\n",
       "      <td>-0.0008005538</td>\n",
       "      <td>2.7726693600</td>\n",
       "      <td>1.1163202881</td>\n",
       "      <td>1.4774400722</td>\n",
       "      <td>29.9000000000</td>\n",
       "      <td>27.4280342367</td>\n",
       "    </tr>\n",
       "    <tr>\n",
       "      <th>4</th>\n",
       "      <td>1.0000000000</td>\n",
       "      <td>2017-07-04</td>\n",
       "      <td>2017</td>\n",
       "      <td>-0.3995874402</td>\n",
       "      <td>-0.5786238285</td>\n",
       "      <td>-0.3558916090</td>\n",
       "      <td>0.0327526714</td>\n",
       "      <td>-0.0197111715</td>\n",
       "      <td>-0.4632657877</td>\n",
       "      <td>-0.3097391219</td>\n",
       "      <td>...</td>\n",
       "      <td>-0.2896729941</td>\n",
       "      <td>-0.2525800675</td>\n",
       "      <td>-0.2308736478</td>\n",
       "      <td>1.1906687093</td>\n",
       "      <td>-0.0008005538</td>\n",
       "      <td>2.7726693600</td>\n",
       "      <td>1.1163202881</td>\n",
       "      <td>1.4614439534</td>\n",
       "      <td>30.0000000000</td>\n",
       "      <td>31.1556694776</td>\n",
       "    </tr>\n",
       "  </tbody>\n",
       "</table>\n",
       "<p>5 rows × 26 columns</p>\n",
       "</div>"
      ],
      "text/plain": [
       "       station       Date  Year  Present_Tmax  Present_Tmin   LDAPS_RHmin  \\\n",
       "0 1.0000000000 2017-06-30  2017 -0.6353088184 -1.3677698573  0.1786262381   \n",
       "1 1.0000000000 2017-07-01  2017 -0.1975405447 -1.4093038588  2.4081613579   \n",
       "2 1.0000000000 2017-07-02  2017 -2.0159626049 -1.0770318467  2.5316435620   \n",
       "3 1.0000000000 2017-07-03  2017 -1.6118688137 -1.1185658482  0.1989934770   \n",
       "4 1.0000000000 2017-07-04  2017 -0.3995874402 -0.5786238285 -0.3558916090   \n",
       "\n",
       "   LDAPS_RHmax  LDAPS_Tmax_lapse  LDAPS_Tmin_lapse      LDAPS_WS  ...  \\\n",
       "0 1.3296752649     -0.9846526951     -1.1434685968 -0.3077624363  ...   \n",
       "1 1.6303044350     -1.8206951910     -0.3916778506  1.0452531562  ...   \n",
       "2 1.6313746261     -1.9865524721     -0.6483755441  1.6574241297  ...   \n",
       "3 1.1605716197     -0.1451819785     -0.7643095525  0.0932883947  ...   \n",
       "4 0.0327526714     -0.0197111715     -0.4632657877 -0.3097391219  ...   \n",
       "\n",
       "     LDAPS_PPT2    LDAPS_PPT3    LDAPS_PPT4          lat           lon  \\\n",
       "0 -0.2896729941 -0.2525800675 -0.1928158068 1.1906687093 -0.0008005538   \n",
       "1  0.0044358885  0.4212376731  2.5402188894 1.1906687093 -0.0008005538   \n",
       "2  6.9196671336 -0.2449624428 -0.1149365838 1.1906687093 -0.0008005538   \n",
       "3 -0.2896729941 -0.2525800675 -0.2308736478 1.1906687093 -0.0008005538   \n",
       "4 -0.2896729941 -0.2525800675 -0.2308736478 1.1906687093 -0.0008005538   \n",
       "\n",
       "           DEM        Slope  Solar radiation     Next_Tmax      Previsão  \n",
       "0 2.7726693600 1.1163202881     1.5175509274 29.2000000000 28.3523554128  \n",
       "1 2.7726693600 1.1163202881     1.5054912834 24.1000000000 24.6410321143  \n",
       "2 2.7726693600 1.1163202881     1.4921225140 25.5000000000 27.0757382125  \n",
       "3 2.7726693600 1.1163202881     1.4774400722 29.9000000000 27.4280342367  \n",
       "4 2.7726693600 1.1163202881     1.4614439534 30.0000000000 31.1556694776  \n",
       "\n",
       "[5 rows x 26 columns]"
      ]
     },
     "execution_count": 10,
     "metadata": {},
     "output_type": "execute_result"
    }
   ],
   "source": [
    "y_test_Tmax_st1_frame = y_test_Tmax_st1.to_frame('Next_Tmax')\n",
    "y_test_Tmax_st1_frame['Next_Tmax'] = y_scaler_fit_Tmax.inverse_transform(y_test_Tmax_st1)\n",
    "forecast_results = pd.merge(X_test_st1, y_test_Tmax_st1_frame, left_index=True, right_index=True)\n",
    "forecast_results = forecast_results.reset_index()\n",
    "forecast_results = forecast_results.merge(pd.DataFrame(y_scaler_fit_Tmax.inverse_transform(yfit_st1),columns=['Previsão']).reset_index(drop=True), left_index=True, right_index=True)\n",
    "forecast_results.head()"
   ]
  },
  {
   "cell_type": "code",
   "execution_count": 11,
   "metadata": {},
   "outputs": [
    {
     "data": {
      "application/vnd.plotly.v1+json": {
       "config": {
        "plotlyServerURL": "https://plot.ly"
       },
       "data": [
        {
         "hovertemplate": "variable=Next_Tmax<br>Date=%{x}<br>Temperatura Máxima Seoul (°C)=%{y}<extra></extra>",
         "legendgroup": "Next_Tmax",
         "line": {
          "color": "#636efa",
          "dash": "solid"
         },
         "mode": "lines",
         "name": "Next_Tmax",
         "orientation": "v",
         "showlegend": true,
         "type": "scatter",
         "x": [
          "2017-06-30T00:00:00",
          "2017-07-01T00:00:00",
          "2017-07-02T00:00:00",
          "2017-07-03T00:00:00",
          "2017-07-04T00:00:00",
          "2017-07-05T00:00:00",
          "2017-07-06T00:00:00",
          "2017-07-07T00:00:00",
          "2017-07-08T00:00:00",
          "2017-07-09T00:00:00",
          "2017-07-10T00:00:00",
          "2017-07-11T00:00:00",
          "2017-07-12T00:00:00",
          "2017-07-13T00:00:00",
          "2017-07-14T00:00:00",
          "2017-07-15T00:00:00",
          "2017-07-16T00:00:00",
          "2017-07-17T00:00:00",
          "2017-07-18T00:00:00",
          "2017-07-19T00:00:00",
          "2017-07-20T00:00:00",
          "2017-07-21T00:00:00",
          "2017-07-22T00:00:00",
          "2017-07-23T00:00:00",
          "2017-07-24T00:00:00",
          "2017-07-25T00:00:00",
          "2017-07-26T00:00:00",
          "2017-07-27T00:00:00",
          "2017-07-28T00:00:00",
          "2017-07-29T00:00:00",
          "2017-07-30T00:00:00",
          "2017-07-31T00:00:00",
          "2017-08-01T00:00:00",
          "2017-08-02T00:00:00",
          "2017-08-03T00:00:00",
          "2017-08-04T00:00:00",
          "2017-08-05T00:00:00",
          "2017-08-06T00:00:00",
          "2017-08-07T00:00:00",
          "2017-08-08T00:00:00",
          "2017-08-09T00:00:00",
          "2017-08-10T00:00:00",
          "2017-08-11T00:00:00",
          "2017-08-12T00:00:00",
          "2017-08-13T00:00:00",
          "2017-08-15T00:00:00",
          "2017-08-16T00:00:00",
          "2017-08-17T00:00:00",
          "2017-08-18T00:00:00",
          "2017-08-19T00:00:00",
          "2017-08-20T00:00:00",
          "2017-08-21T00:00:00",
          "2017-08-22T00:00:00",
          "2017-08-23T00:00:00",
          "2017-08-24T00:00:00",
          "2017-08-25T00:00:00",
          "2017-08-26T00:00:00",
          "2017-08-27T00:00:00",
          "2017-08-28T00:00:00",
          "2017-08-29T00:00:00",
          "2017-08-30T00:00:00"
         ],
         "xaxis": "x",
         "y": [
          29.2,
          24.1,
          25.5,
          29.9,
          30,
          31.2,
          25.2,
          25.2,
          27.6,
          23.5,
          29.1,
          29.2,
          29.2,
          30.7,
          25.2,
          26.7,
          26.7,
          28,
          31,
          31.9,
          29.7,
          29.7,
          25.8,
          24.9,
          31.5,
          30.5,
          26.2,
          24.1,
          27.2,
          29.5,
          25.2,
          30,
          30.2,
          31.4,
          31.7,
          33.4,
          30.1,
          31.1,
          28.8,
          28.6,
          23.5,
          29.6,
          29.6,
          25.2,
          24.2,
          25,
          25.4,
          26.7,
          26,
          23.3,
          26.6,
          29.6,
          27.4,
          25.5,
          28.1,
          25.8,
          23.5,
          24.2,
          20.8,
          20.4,
          23.8
         ],
         "yaxis": "y"
        },
        {
         "hovertemplate": "variable=Previsão<br>Date=%{x}<br>Temperatura Máxima Seoul (°C)=%{y}<extra></extra>",
         "legendgroup": "Previsão",
         "line": {
          "color": "#EF553B",
          "dash": "solid"
         },
         "mode": "lines",
         "name": "Previsão",
         "orientation": "v",
         "showlegend": true,
         "type": "scatter",
         "x": [
          "2017-06-30T00:00:00",
          "2017-07-01T00:00:00",
          "2017-07-02T00:00:00",
          "2017-07-03T00:00:00",
          "2017-07-04T00:00:00",
          "2017-07-05T00:00:00",
          "2017-07-06T00:00:00",
          "2017-07-07T00:00:00",
          "2017-07-08T00:00:00",
          "2017-07-09T00:00:00",
          "2017-07-10T00:00:00",
          "2017-07-11T00:00:00",
          "2017-07-12T00:00:00",
          "2017-07-13T00:00:00",
          "2017-07-14T00:00:00",
          "2017-07-15T00:00:00",
          "2017-07-16T00:00:00",
          "2017-07-17T00:00:00",
          "2017-07-18T00:00:00",
          "2017-07-19T00:00:00",
          "2017-07-20T00:00:00",
          "2017-07-21T00:00:00",
          "2017-07-22T00:00:00",
          "2017-07-23T00:00:00",
          "2017-07-24T00:00:00",
          "2017-07-25T00:00:00",
          "2017-07-26T00:00:00",
          "2017-07-27T00:00:00",
          "2017-07-28T00:00:00",
          "2017-07-29T00:00:00",
          "2017-07-30T00:00:00",
          "2017-07-31T00:00:00",
          "2017-08-01T00:00:00",
          "2017-08-02T00:00:00",
          "2017-08-03T00:00:00",
          "2017-08-04T00:00:00",
          "2017-08-05T00:00:00",
          "2017-08-06T00:00:00",
          "2017-08-07T00:00:00",
          "2017-08-08T00:00:00",
          "2017-08-09T00:00:00",
          "2017-08-10T00:00:00",
          "2017-08-11T00:00:00",
          "2017-08-12T00:00:00",
          "2017-08-13T00:00:00",
          "2017-08-15T00:00:00",
          "2017-08-16T00:00:00",
          "2017-08-17T00:00:00",
          "2017-08-18T00:00:00",
          "2017-08-19T00:00:00",
          "2017-08-20T00:00:00",
          "2017-08-21T00:00:00",
          "2017-08-22T00:00:00",
          "2017-08-23T00:00:00",
          "2017-08-24T00:00:00",
          "2017-08-25T00:00:00",
          "2017-08-26T00:00:00",
          "2017-08-27T00:00:00",
          "2017-08-28T00:00:00",
          "2017-08-29T00:00:00",
          "2017-08-30T00:00:00"
         ],
         "xaxis": "x",
         "y": [
          28.352355412803412,
          24.64103211434716,
          27.075738212511652,
          27.42803423668363,
          31.155669477638526,
          31.240825575502956,
          26.909592176992394,
          24.127961480920078,
          25.003703240483762,
          22.92421095202605,
          26.911838438546507,
          27.14498684635207,
          30.976518144083204,
          30.525196840002867,
          27.68014571431401,
          27.24636598766543,
          26.95753340691069,
          29.46134134173842,
          29.473323696406396,
          32.6064039363454,
          30.679688111738187,
          28.722782843088982,
          26.514307209878783,
          27.56196029150274,
          31.488346402424195,
          30.312441264297796,
          28.425603875547818,
          25.348730374650618,
          26.884215103850174,
          28.705114181166614,
          29.63050215649708,
          29.55204916605349,
          31.006122180330106,
          30.722049976501363,
          32.77193371910823,
          33.37077325646541,
          31.66165845343908,
          31.58589924527445,
          28.220472921631966,
          29.13350408387766,
          27.73499432954317,
          28.865658627879725,
          28.314597389291055,
          27.017250027436297,
          23.44927248998167,
          22.055488078861224,
          25.16830163529886,
          27.13201863303759,
          27.469274085882375,
          24.0325413404827,
          26.43054783937413,
          28.256869248115677,
          26.92662228059048,
          26.667468416397288,
          27.14726458110127,
          27.06915944848539,
          24.925678871002127,
          23.44978364974393,
          23.214829298245295,
          23.086569465479457,
          25.088678181725484
         ],
         "yaxis": "y"
        }
       ],
       "layout": {
        "height": 400,
        "legend": {
         "title": {
          "text": "variable"
         },
         "tracegroupgap": 0
        },
        "template": {
         "data": {
          "bar": [
           {
            "error_x": {
             "color": "#2a3f5f"
            },
            "error_y": {
             "color": "#2a3f5f"
            },
            "marker": {
             "line": {
              "color": "#E5ECF6",
              "width": 0.5
             }
            },
            "type": "bar"
           }
          ],
          "barpolar": [
           {
            "marker": {
             "line": {
              "color": "#E5ECF6",
              "width": 0.5
             }
            },
            "type": "barpolar"
           }
          ],
          "carpet": [
           {
            "aaxis": {
             "endlinecolor": "#2a3f5f",
             "gridcolor": "white",
             "linecolor": "white",
             "minorgridcolor": "white",
             "startlinecolor": "#2a3f5f"
            },
            "baxis": {
             "endlinecolor": "#2a3f5f",
             "gridcolor": "white",
             "linecolor": "white",
             "minorgridcolor": "white",
             "startlinecolor": "#2a3f5f"
            },
            "type": "carpet"
           }
          ],
          "choropleth": [
           {
            "colorbar": {
             "outlinewidth": 0,
             "ticks": ""
            },
            "type": "choropleth"
           }
          ],
          "contour": [
           {
            "colorbar": {
             "outlinewidth": 0,
             "ticks": ""
            },
            "colorscale": [
             [
              0,
              "#0d0887"
             ],
             [
              0.1111111111111111,
              "#46039f"
             ],
             [
              0.2222222222222222,
              "#7201a8"
             ],
             [
              0.3333333333333333,
              "#9c179e"
             ],
             [
              0.4444444444444444,
              "#bd3786"
             ],
             [
              0.5555555555555556,
              "#d8576b"
             ],
             [
              0.6666666666666666,
              "#ed7953"
             ],
             [
              0.7777777777777778,
              "#fb9f3a"
             ],
             [
              0.8888888888888888,
              "#fdca26"
             ],
             [
              1,
              "#f0f921"
             ]
            ],
            "type": "contour"
           }
          ],
          "contourcarpet": [
           {
            "colorbar": {
             "outlinewidth": 0,
             "ticks": ""
            },
            "type": "contourcarpet"
           }
          ],
          "heatmap": [
           {
            "colorbar": {
             "outlinewidth": 0,
             "ticks": ""
            },
            "colorscale": [
             [
              0,
              "#0d0887"
             ],
             [
              0.1111111111111111,
              "#46039f"
             ],
             [
              0.2222222222222222,
              "#7201a8"
             ],
             [
              0.3333333333333333,
              "#9c179e"
             ],
             [
              0.4444444444444444,
              "#bd3786"
             ],
             [
              0.5555555555555556,
              "#d8576b"
             ],
             [
              0.6666666666666666,
              "#ed7953"
             ],
             [
              0.7777777777777778,
              "#fb9f3a"
             ],
             [
              0.8888888888888888,
              "#fdca26"
             ],
             [
              1,
              "#f0f921"
             ]
            ],
            "type": "heatmap"
           }
          ],
          "heatmapgl": [
           {
            "colorbar": {
             "outlinewidth": 0,
             "ticks": ""
            },
            "colorscale": [
             [
              0,
              "#0d0887"
             ],
             [
              0.1111111111111111,
              "#46039f"
             ],
             [
              0.2222222222222222,
              "#7201a8"
             ],
             [
              0.3333333333333333,
              "#9c179e"
             ],
             [
              0.4444444444444444,
              "#bd3786"
             ],
             [
              0.5555555555555556,
              "#d8576b"
             ],
             [
              0.6666666666666666,
              "#ed7953"
             ],
             [
              0.7777777777777778,
              "#fb9f3a"
             ],
             [
              0.8888888888888888,
              "#fdca26"
             ],
             [
              1,
              "#f0f921"
             ]
            ],
            "type": "heatmapgl"
           }
          ],
          "histogram": [
           {
            "marker": {
             "colorbar": {
              "outlinewidth": 0,
              "ticks": ""
             }
            },
            "type": "histogram"
           }
          ],
          "histogram2d": [
           {
            "colorbar": {
             "outlinewidth": 0,
             "ticks": ""
            },
            "colorscale": [
             [
              0,
              "#0d0887"
             ],
             [
              0.1111111111111111,
              "#46039f"
             ],
             [
              0.2222222222222222,
              "#7201a8"
             ],
             [
              0.3333333333333333,
              "#9c179e"
             ],
             [
              0.4444444444444444,
              "#bd3786"
             ],
             [
              0.5555555555555556,
              "#d8576b"
             ],
             [
              0.6666666666666666,
              "#ed7953"
             ],
             [
              0.7777777777777778,
              "#fb9f3a"
             ],
             [
              0.8888888888888888,
              "#fdca26"
             ],
             [
              1,
              "#f0f921"
             ]
            ],
            "type": "histogram2d"
           }
          ],
          "histogram2dcontour": [
           {
            "colorbar": {
             "outlinewidth": 0,
             "ticks": ""
            },
            "colorscale": [
             [
              0,
              "#0d0887"
             ],
             [
              0.1111111111111111,
              "#46039f"
             ],
             [
              0.2222222222222222,
              "#7201a8"
             ],
             [
              0.3333333333333333,
              "#9c179e"
             ],
             [
              0.4444444444444444,
              "#bd3786"
             ],
             [
              0.5555555555555556,
              "#d8576b"
             ],
             [
              0.6666666666666666,
              "#ed7953"
             ],
             [
              0.7777777777777778,
              "#fb9f3a"
             ],
             [
              0.8888888888888888,
              "#fdca26"
             ],
             [
              1,
              "#f0f921"
             ]
            ],
            "type": "histogram2dcontour"
           }
          ],
          "mesh3d": [
           {
            "colorbar": {
             "outlinewidth": 0,
             "ticks": ""
            },
            "type": "mesh3d"
           }
          ],
          "parcoords": [
           {
            "line": {
             "colorbar": {
              "outlinewidth": 0,
              "ticks": ""
             }
            },
            "type": "parcoords"
           }
          ],
          "pie": [
           {
            "automargin": true,
            "type": "pie"
           }
          ],
          "scatter": [
           {
            "marker": {
             "colorbar": {
              "outlinewidth": 0,
              "ticks": ""
             }
            },
            "type": "scatter"
           }
          ],
          "scatter3d": [
           {
            "line": {
             "colorbar": {
              "outlinewidth": 0,
              "ticks": ""
             }
            },
            "marker": {
             "colorbar": {
              "outlinewidth": 0,
              "ticks": ""
             }
            },
            "type": "scatter3d"
           }
          ],
          "scattercarpet": [
           {
            "marker": {
             "colorbar": {
              "outlinewidth": 0,
              "ticks": ""
             }
            },
            "type": "scattercarpet"
           }
          ],
          "scattergeo": [
           {
            "marker": {
             "colorbar": {
              "outlinewidth": 0,
              "ticks": ""
             }
            },
            "type": "scattergeo"
           }
          ],
          "scattergl": [
           {
            "marker": {
             "colorbar": {
              "outlinewidth": 0,
              "ticks": ""
             }
            },
            "type": "scattergl"
           }
          ],
          "scattermapbox": [
           {
            "marker": {
             "colorbar": {
              "outlinewidth": 0,
              "ticks": ""
             }
            },
            "type": "scattermapbox"
           }
          ],
          "scatterpolar": [
           {
            "marker": {
             "colorbar": {
              "outlinewidth": 0,
              "ticks": ""
             }
            },
            "type": "scatterpolar"
           }
          ],
          "scatterpolargl": [
           {
            "marker": {
             "colorbar": {
              "outlinewidth": 0,
              "ticks": ""
             }
            },
            "type": "scatterpolargl"
           }
          ],
          "scatterternary": [
           {
            "marker": {
             "colorbar": {
              "outlinewidth": 0,
              "ticks": ""
             }
            },
            "type": "scatterternary"
           }
          ],
          "surface": [
           {
            "colorbar": {
             "outlinewidth": 0,
             "ticks": ""
            },
            "colorscale": [
             [
              0,
              "#0d0887"
             ],
             [
              0.1111111111111111,
              "#46039f"
             ],
             [
              0.2222222222222222,
              "#7201a8"
             ],
             [
              0.3333333333333333,
              "#9c179e"
             ],
             [
              0.4444444444444444,
              "#bd3786"
             ],
             [
              0.5555555555555556,
              "#d8576b"
             ],
             [
              0.6666666666666666,
              "#ed7953"
             ],
             [
              0.7777777777777778,
              "#fb9f3a"
             ],
             [
              0.8888888888888888,
              "#fdca26"
             ],
             [
              1,
              "#f0f921"
             ]
            ],
            "type": "surface"
           }
          ],
          "table": [
           {
            "cells": {
             "fill": {
              "color": "#EBF0F8"
             },
             "line": {
              "color": "white"
             }
            },
            "header": {
             "fill": {
              "color": "#C8D4E3"
             },
             "line": {
              "color": "white"
             }
            },
            "type": "table"
           }
          ]
         },
         "layout": {
          "annotationdefaults": {
           "arrowcolor": "#2a3f5f",
           "arrowhead": 0,
           "arrowwidth": 1
          },
          "autotypenumbers": "strict",
          "coloraxis": {
           "colorbar": {
            "outlinewidth": 0,
            "ticks": ""
           }
          },
          "colorscale": {
           "diverging": [
            [
             0,
             "#8e0152"
            ],
            [
             0.1,
             "#c51b7d"
            ],
            [
             0.2,
             "#de77ae"
            ],
            [
             0.3,
             "#f1b6da"
            ],
            [
             0.4,
             "#fde0ef"
            ],
            [
             0.5,
             "#f7f7f7"
            ],
            [
             0.6,
             "#e6f5d0"
            ],
            [
             0.7,
             "#b8e186"
            ],
            [
             0.8,
             "#7fbc41"
            ],
            [
             0.9,
             "#4d9221"
            ],
            [
             1,
             "#276419"
            ]
           ],
           "sequential": [
            [
             0,
             "#0d0887"
            ],
            [
             0.1111111111111111,
             "#46039f"
            ],
            [
             0.2222222222222222,
             "#7201a8"
            ],
            [
             0.3333333333333333,
             "#9c179e"
            ],
            [
             0.4444444444444444,
             "#bd3786"
            ],
            [
             0.5555555555555556,
             "#d8576b"
            ],
            [
             0.6666666666666666,
             "#ed7953"
            ],
            [
             0.7777777777777778,
             "#fb9f3a"
            ],
            [
             0.8888888888888888,
             "#fdca26"
            ],
            [
             1,
             "#f0f921"
            ]
           ],
           "sequentialminus": [
            [
             0,
             "#0d0887"
            ],
            [
             0.1111111111111111,
             "#46039f"
            ],
            [
             0.2222222222222222,
             "#7201a8"
            ],
            [
             0.3333333333333333,
             "#9c179e"
            ],
            [
             0.4444444444444444,
             "#bd3786"
            ],
            [
             0.5555555555555556,
             "#d8576b"
            ],
            [
             0.6666666666666666,
             "#ed7953"
            ],
            [
             0.7777777777777778,
             "#fb9f3a"
            ],
            [
             0.8888888888888888,
             "#fdca26"
            ],
            [
             1,
             "#f0f921"
            ]
           ]
          },
          "colorway": [
           "#636efa",
           "#EF553B",
           "#00cc96",
           "#ab63fa",
           "#FFA15A",
           "#19d3f3",
           "#FF6692",
           "#B6E880",
           "#FF97FF",
           "#FECB52"
          ],
          "font": {
           "color": "#2a3f5f"
          },
          "geo": {
           "bgcolor": "white",
           "lakecolor": "white",
           "landcolor": "#E5ECF6",
           "showlakes": true,
           "showland": true,
           "subunitcolor": "white"
          },
          "hoverlabel": {
           "align": "left"
          },
          "hovermode": "closest",
          "mapbox": {
           "style": "light"
          },
          "paper_bgcolor": "white",
          "plot_bgcolor": "#E5ECF6",
          "polar": {
           "angularaxis": {
            "gridcolor": "white",
            "linecolor": "white",
            "ticks": ""
           },
           "bgcolor": "#E5ECF6",
           "radialaxis": {
            "gridcolor": "white",
            "linecolor": "white",
            "ticks": ""
           }
          },
          "scene": {
           "xaxis": {
            "backgroundcolor": "#E5ECF6",
            "gridcolor": "white",
            "gridwidth": 2,
            "linecolor": "white",
            "showbackground": true,
            "ticks": "",
            "zerolinecolor": "white"
           },
           "yaxis": {
            "backgroundcolor": "#E5ECF6",
            "gridcolor": "white",
            "gridwidth": 2,
            "linecolor": "white",
            "showbackground": true,
            "ticks": "",
            "zerolinecolor": "white"
           },
           "zaxis": {
            "backgroundcolor": "#E5ECF6",
            "gridcolor": "white",
            "gridwidth": 2,
            "linecolor": "white",
            "showbackground": true,
            "ticks": "",
            "zerolinecolor": "white"
           }
          },
          "shapedefaults": {
           "line": {
            "color": "#2a3f5f"
           }
          },
          "ternary": {
           "aaxis": {
            "gridcolor": "white",
            "linecolor": "white",
            "ticks": ""
           },
           "baxis": {
            "gridcolor": "white",
            "linecolor": "white",
            "ticks": ""
           },
           "bgcolor": "#E5ECF6",
           "caxis": {
            "gridcolor": "white",
            "linecolor": "white",
            "ticks": ""
           }
          },
          "title": {
           "x": 0.05
          },
          "xaxis": {
           "automargin": true,
           "gridcolor": "white",
           "linecolor": "white",
           "ticks": "",
           "title": {
            "standoff": 15
           },
           "zerolinecolor": "white",
           "zerolinewidth": 2
          },
          "yaxis": {
           "automargin": true,
           "gridcolor": "white",
           "linecolor": "white",
           "ticks": "",
           "title": {
            "standoff": 15
           },
           "zerolinecolor": "white",
           "zerolinewidth": 2
          }
         }
        },
        "title": {
         "text": "Previsão Modelo SVR (Temperatura Máxima T+1)"
        },
        "width": 800,
        "xaxis": {
         "anchor": "y",
         "domain": [
          0,
          1
         ],
         "title": {
          "text": "Date"
         }
        },
        "yaxis": {
         "anchor": "x",
         "domain": [
          0,
          1
         ],
         "title": {
          "text": "Temperatura Máxima Seoul (°C)"
         }
        }
       }
      }
     },
     "metadata": {},
     "output_type": "display_data"
    }
   ],
   "source": [
    "fig = px.line(forecast_results, x='Date', y=['Next_Tmax','Previsão'],labels={'value':\"Temperatura Máxima Seoul (°C)\"},title='Previsão Modelo SVR (Temperatura Máxima T+1)',width=800, height=400)\n",
    "fig.show()"
   ]
  },
  {
   "cell_type": "markdown",
   "metadata": {},
   "source": [
    "## Model Implementation for Tmin"
   ]
  },
  {
   "cell_type": "code",
   "execution_count": 12,
   "metadata": {},
   "outputs": [],
   "source": [
    "def evaluate(v):\n",
    "    C,e = v\n",
    "    model = LinearSVR(C=C, epsilon=e)\n",
    "    svr = model.fit(X_train, y_train_Tmin.ravel())\n",
    "    yfit = svr.predict(X_test)\n",
    "    return mean_squared_error(y_test_Tmin,yfit)"
   ]
  },
  {
   "cell_type": "code",
   "execution_count": 13,
   "metadata": {},
   "outputs": [
    {
     "name": "stdout",
     "output_type": "stream",
     "text": [
      "differential_evolution step 1: f(x)= 0.12973\n",
      "differential_evolution step 2: f(x)= 0.12973\n",
      "differential_evolution step 3: f(x)= 0.12973\n",
      "differential_evolution step 4: f(x)= 0.129005\n",
      "differential_evolution step 5: f(x)= 0.129005\n",
      "differential_evolution step 6: f(x)= 0.129005\n"
     ]
    },
    {
     "data": {
      "text/plain": [
       "array([2.58389143, 0.42273709])"
      ]
     },
     "execution_count": 13,
     "metadata": {},
     "output_type": "execute_result"
    }
   ],
   "source": [
    "bounds = [[0.1,15],[0.0001,1]]\n",
    "result = differential_evolution(evaluate, bounds, disp=True, maxiter=30)\n",
    "result['x']"
   ]
  },
  {
   "cell_type": "code",
   "execution_count": 14,
   "metadata": {},
   "outputs": [
    {
     "name": "stdout",
     "output_type": "stream",
     "text": [
      "R-squared: 0.8705046895440152\n",
      "MSE: 1.2458791034705112\n"
     ]
    }
   ],
   "source": [
    "model = LinearSVR(C=result['x'][0], epsilon=result['x'][1])\n",
    "svr_Tmin = model.fit(X_train,y_train_Tmin.ravel())\n",
    "yfit_Tmin = svr_Tmin.predict(X_test)\n",
    "score = svr_Tmin.score(X_test,y_test_Tmin)\n",
    "print(\"R-squared:\",  r2_score(y_scaler_fit_Tmax.inverse_transform(y_test_Tmin), y_scaler_fit_Tmax.inverse_transform(yfit_Tmin)))\n",
    "print(\"MSE:\", mean_squared_error(y_scaler_fit_Tmax.inverse_transform(y_test_Tmin),y_scaler_fit_Tmax.inverse_transform(yfit_Tmin)))"
   ]
  },
  {
   "cell_type": "code",
   "execution_count": 15,
   "metadata": {},
   "outputs": [
    {
     "data": {
      "image/png": "[encoded data removed]",
      "text/plain": [
       "<Figure size 432x288 with 1 Axes>"
      ]
     },
     "metadata": {
      "needs_background": "light"
     },
     "output_type": "display_data"
    }
   ],
   "source": [
    "slope, intercept, r_value, p_value, std_err = stats.linregress(\n",
    "    y_scaler_fit_Tmin.inverse_transform(y_test_Tmin), y_scaler_fit_Tmin.inverse_transform(yfit_Tmin))\n",
    "ax = sns.regplot(x=y_scaler_fit_Tmin.inverse_transform(y_test_Tmin), y=y_scaler_fit_Tmin.inverse_transform(\n",
    "    yfit_Tmin), line_kws={'color': 'red', 'label': \"y={0:.1f}x+{1:.1f}\".format(slope, intercept)})\n",
    "sns.kdeplot(y_scaler_fit_Tmin.inverse_transform(y_test_Tmin),\n",
    "            y_scaler_fit_Tmin.inverse_transform(yfit_Tmin))\n",
    "ax.legend(loc='upper left')\n",
    "ax.set(xlabel='Next_Tmin (°C)', ylabel='Previsão (°C)', title='SVR')\n",
    "ax.figure.savefig(\"SVR_tmin.jpeg\")\n"
   ]
  },
  {
   "cell_type": "markdown",
   "metadata": {},
   "source": [
    "### Unique Station"
   ]
  },
  {
   "cell_type": "code",
   "execution_count": 16,
   "metadata": {},
   "outputs": [
    {
     "name": "stdout",
     "output_type": "stream",
     "text": [
      "R-squared: 0.8807067767786201\n",
      "MSE: 0.6397079058088607\n"
     ]
    }
   ],
   "source": [
    "yfit_st1 = svr_Tmin.predict(X_test_st1)\n",
    "print(\"R-squared:\",  r2_score(y_scaler_fit_Tmin.inverse_transform(y_test_Tmin_st1),y_scaler_fit_Tmin.inverse_transform(yfit_st1)))\n",
    "print(\"MSE:\", mean_squared_error(y_scaler_fit_Tmin.inverse_transform(y_test_Tmin_st1), y_scaler_fit_Tmin.inverse_transform(yfit_st1)))\n"
   ]
  },
  {
   "cell_type": "code",
   "execution_count": 17,
   "metadata": {},
   "outputs": [
    {
     "data": {
      "text/html": [
       "<div>\n",
       "<style scoped>\n",
       "    .dataframe tbody tr th:only-of-type {\n",
       "        vertical-align: middle;\n",
       "    }\n",
       "\n",
       "    .dataframe tbody tr th {\n",
       "        vertical-align: top;\n",
       "    }\n",
       "\n",
       "    .dataframe thead th {\n",
       "        text-align: right;\n",
       "    }\n",
       "</style>\n",
       "<table border=\"1\" class=\"dataframe\">\n",
       "  <thead>\n",
       "    <tr style=\"text-align: right;\">\n",
       "      <th></th>\n",
       "      <th>station</th>\n",
       "      <th>Date</th>\n",
       "      <th>Year</th>\n",
       "      <th>Present_Tmax</th>\n",
       "      <th>Present_Tmin</th>\n",
       "      <th>LDAPS_RHmin</th>\n",
       "      <th>LDAPS_RHmax</th>\n",
       "      <th>LDAPS_Tmax_lapse</th>\n",
       "      <th>LDAPS_Tmin_lapse</th>\n",
       "      <th>LDAPS_WS</th>\n",
       "      <th>...</th>\n",
       "      <th>LDAPS_PPT2</th>\n",
       "      <th>LDAPS_PPT3</th>\n",
       "      <th>LDAPS_PPT4</th>\n",
       "      <th>lat</th>\n",
       "      <th>lon</th>\n",
       "      <th>DEM</th>\n",
       "      <th>Slope</th>\n",
       "      <th>Solar radiation</th>\n",
       "      <th>Next_Tmin</th>\n",
       "      <th>Previsão</th>\n",
       "    </tr>\n",
       "  </thead>\n",
       "  <tbody>\n",
       "    <tr>\n",
       "      <th>0</th>\n",
       "      <td>1.0000000000</td>\n",
       "      <td>2017-06-30</td>\n",
       "      <td>2017</td>\n",
       "      <td>-0.6353088184</td>\n",
       "      <td>-1.3677698573</td>\n",
       "      <td>0.1786262381</td>\n",
       "      <td>1.3296752649</td>\n",
       "      <td>-0.9846526951</td>\n",
       "      <td>-1.1434685968</td>\n",
       "      <td>-0.3077624363</td>\n",
       "      <td>...</td>\n",
       "      <td>-0.2896729941</td>\n",
       "      <td>-0.2525800675</td>\n",
       "      <td>-0.1928158068</td>\n",
       "      <td>1.1906687093</td>\n",
       "      <td>-0.0008005538</td>\n",
       "      <td>2.7726693600</td>\n",
       "      <td>1.1163202881</td>\n",
       "      <td>1.5175509274</td>\n",
       "      <td>19.6000000000</td>\n",
       "      <td>19.3969590742</td>\n",
       "    </tr>\n",
       "    <tr>\n",
       "      <th>1</th>\n",
       "      <td>1.0000000000</td>\n",
       "      <td>2017-07-01</td>\n",
       "      <td>2017</td>\n",
       "      <td>-0.1975405447</td>\n",
       "      <td>-1.4093038588</td>\n",
       "      <td>2.4081613579</td>\n",
       "      <td>1.6303044350</td>\n",
       "      <td>-1.8206951910</td>\n",
       "      <td>-0.3916778506</td>\n",
       "      <td>1.0452531562</td>\n",
       "      <td>...</td>\n",
       "      <td>0.0044358885</td>\n",
       "      <td>0.4212376731</td>\n",
       "      <td>2.5402188894</td>\n",
       "      <td>1.1906687093</td>\n",
       "      <td>-0.0008005538</td>\n",
       "      <td>2.7726693600</td>\n",
       "      <td>1.1163202881</td>\n",
       "      <td>1.5054912834</td>\n",
       "      <td>20.4000000000</td>\n",
       "      <td>20.0748537100</td>\n",
       "    </tr>\n",
       "    <tr>\n",
       "      <th>2</th>\n",
       "      <td>1.0000000000</td>\n",
       "      <td>2017-07-02</td>\n",
       "      <td>2017</td>\n",
       "      <td>-2.0159626049</td>\n",
       "      <td>-1.0770318467</td>\n",
       "      <td>2.5316435620</td>\n",
       "      <td>1.6313746261</td>\n",
       "      <td>-1.9865524721</td>\n",
       "      <td>-0.6483755441</td>\n",
       "      <td>1.6574241297</td>\n",
       "      <td>...</td>\n",
       "      <td>6.9196671336</td>\n",
       "      <td>-0.2449624428</td>\n",
       "      <td>-0.1149365838</td>\n",
       "      <td>1.1906687093</td>\n",
       "      <td>-0.0008005538</td>\n",
       "      <td>2.7726693600</td>\n",
       "      <td>1.1163202881</td>\n",
       "      <td>1.4921225140</td>\n",
       "      <td>20.5000000000</td>\n",
       "      <td>19.2632813681</td>\n",
       "    </tr>\n",
       "    <tr>\n",
       "      <th>3</th>\n",
       "      <td>1.0000000000</td>\n",
       "      <td>2017-07-03</td>\n",
       "      <td>2017</td>\n",
       "      <td>-1.6118688137</td>\n",
       "      <td>-1.1185658482</td>\n",
       "      <td>0.1989934770</td>\n",
       "      <td>1.1605716197</td>\n",
       "      <td>-0.1451819785</td>\n",
       "      <td>-0.7643095525</td>\n",
       "      <td>0.0932883947</td>\n",
       "      <td>...</td>\n",
       "      <td>-0.2896729941</td>\n",
       "      <td>-0.2525800675</td>\n",
       "      <td>-0.2308736478</td>\n",
       "      <td>1.1906687093</td>\n",
       "      <td>-0.0008005538</td>\n",
       "      <td>2.7726693600</td>\n",
       "      <td>1.1163202881</td>\n",
       "      <td>1.4774400722</td>\n",
       "      <td>20.6000000000</td>\n",
       "      <td>19.5631370452</td>\n",
       "    </tr>\n",
       "    <tr>\n",
       "      <th>4</th>\n",
       "      <td>1.0000000000</td>\n",
       "      <td>2017-07-04</td>\n",
       "      <td>2017</td>\n",
       "      <td>-0.3995874402</td>\n",
       "      <td>-0.5786238285</td>\n",
       "      <td>-0.3558916090</td>\n",
       "      <td>0.0327526714</td>\n",
       "      <td>-0.0197111715</td>\n",
       "      <td>-0.4632657877</td>\n",
       "      <td>-0.3097391219</td>\n",
       "      <td>...</td>\n",
       "      <td>-0.2896729941</td>\n",
       "      <td>-0.2525800675</td>\n",
       "      <td>-0.2308736478</td>\n",
       "      <td>1.1906687093</td>\n",
       "      <td>-0.0008005538</td>\n",
       "      <td>2.7726693600</td>\n",
       "      <td>1.1163202881</td>\n",
       "      <td>1.4614439534</td>\n",
       "      <td>20.5000000000</td>\n",
       "      <td>20.9317148666</td>\n",
       "    </tr>\n",
       "  </tbody>\n",
       "</table>\n",
       "<p>5 rows × 26 columns</p>\n",
       "</div>"
      ],
      "text/plain": [
       "       station       Date  Year  Present_Tmax  Present_Tmin   LDAPS_RHmin  \\\n",
       "0 1.0000000000 2017-06-30  2017 -0.6353088184 -1.3677698573  0.1786262381   \n",
       "1 1.0000000000 2017-07-01  2017 -0.1975405447 -1.4093038588  2.4081613579   \n",
       "2 1.0000000000 2017-07-02  2017 -2.0159626049 -1.0770318467  2.5316435620   \n",
       "3 1.0000000000 2017-07-03  2017 -1.6118688137 -1.1185658482  0.1989934770   \n",
       "4 1.0000000000 2017-07-04  2017 -0.3995874402 -0.5786238285 -0.3558916090   \n",
       "\n",
       "   LDAPS_RHmax  LDAPS_Tmax_lapse  LDAPS_Tmin_lapse      LDAPS_WS  ...  \\\n",
       "0 1.3296752649     -0.9846526951     -1.1434685968 -0.3077624363  ...   \n",
       "1 1.6303044350     -1.8206951910     -0.3916778506  1.0452531562  ...   \n",
       "2 1.6313746261     -1.9865524721     -0.6483755441  1.6574241297  ...   \n",
       "3 1.1605716197     -0.1451819785     -0.7643095525  0.0932883947  ...   \n",
       "4 0.0327526714     -0.0197111715     -0.4632657877 -0.3097391219  ...   \n",
       "\n",
       "     LDAPS_PPT2    LDAPS_PPT3    LDAPS_PPT4          lat           lon  \\\n",
       "0 -0.2896729941 -0.2525800675 -0.1928158068 1.1906687093 -0.0008005538   \n",
       "1  0.0044358885  0.4212376731  2.5402188894 1.1906687093 -0.0008005538   \n",
       "2  6.9196671336 -0.2449624428 -0.1149365838 1.1906687093 -0.0008005538   \n",
       "3 -0.2896729941 -0.2525800675 -0.2308736478 1.1906687093 -0.0008005538   \n",
       "4 -0.2896729941 -0.2525800675 -0.2308736478 1.1906687093 -0.0008005538   \n",
       "\n",
       "           DEM        Slope  Solar radiation     Next_Tmin      Previsão  \n",
       "0 2.7726693600 1.1163202881     1.5175509274 19.6000000000 19.3969590742  \n",
       "1 2.7726693600 1.1163202881     1.5054912834 20.4000000000 20.0748537100  \n",
       "2 2.7726693600 1.1163202881     1.4921225140 20.5000000000 19.2632813681  \n",
       "3 2.7726693600 1.1163202881     1.4774400722 20.6000000000 19.5631370452  \n",
       "4 2.7726693600 1.1163202881     1.4614439534 20.5000000000 20.9317148666  \n",
       "\n",
       "[5 rows x 26 columns]"
      ]
     },
     "execution_count": 17,
     "metadata": {},
     "output_type": "execute_result"
    }
   ],
   "source": [
    "y_test_Tmin_st1_frame = y_test_Tmin_st1.to_frame('Next_Tmin')\n",
    "y_test_Tmin_st1_frame['Next_Tmin'] = y_scaler_fit_Tmin.inverse_transform(y_test_Tmin_st1)\n",
    "forecast_results = pd.merge(X_test, y_test_Tmin_st1_frame, left_index=True, right_index=True)\n",
    "forecast_results = forecast_results.reset_index()\n",
    "forecast_results = forecast_results.merge(pd.DataFrame(y_scaler_fit_Tmin.inverse_transform(yfit_st1), columns=['Previsão']).reset_index(drop=True), left_index=True, right_index=True)\n",
    "forecast_results.head()\n"
   ]
  },
  {
   "cell_type": "code",
   "execution_count": 18,
   "metadata": {},
   "outputs": [
    {
     "data": {
      "application/vnd.plotly.v1+json": {
       "config": {
        "plotlyServerURL": "https://plot.ly"
       },
       "data": [
        {
         "hovertemplate": "variable=Next_Tmin<br>Date=%{x}<br>Temperatura Mínima Seoul (°C)=%{y}<extra></extra>",
         "legendgroup": "Next_Tmin",
         "line": {
          "color": "#636efa",
          "dash": "solid"
         },
         "mode": "lines",
         "name": "Next_Tmin",
         "orientation": "v",
         "showlegend": true,
         "type": "scatter",
         "x": [
          "2017-06-30T00:00:00",
          "2017-07-01T00:00:00",
          "2017-07-02T00:00:00",
          "2017-07-03T00:00:00",
          "2017-07-04T00:00:00",
          "2017-07-05T00:00:00",
          "2017-07-06T00:00:00",
          "2017-07-07T00:00:00",
          "2017-07-08T00:00:00",
          "2017-07-09T00:00:00",
          "2017-07-10T00:00:00",
          "2017-07-11T00:00:00",
          "2017-07-12T00:00:00",
          "2017-07-13T00:00:00",
          "2017-07-14T00:00:00",
          "2017-07-15T00:00:00",
          "2017-07-16T00:00:00",
          "2017-07-17T00:00:00",
          "2017-07-18T00:00:00",
          "2017-07-19T00:00:00",
          "2017-07-20T00:00:00",
          "2017-07-21T00:00:00",
          "2017-07-22T00:00:00",
          "2017-07-23T00:00:00",
          "2017-07-24T00:00:00",
          "2017-07-25T00:00:00",
          "2017-07-26T00:00:00",
          "2017-07-27T00:00:00",
          "2017-07-28T00:00:00",
          "2017-07-29T00:00:00",
          "2017-07-30T00:00:00",
          "2017-07-31T00:00:00",
          "2017-08-01T00:00:00",
          "2017-08-02T00:00:00",
          "2017-08-03T00:00:00",
          "2017-08-04T00:00:00",
          "2017-08-05T00:00:00",
          "2017-08-06T00:00:00",
          "2017-08-07T00:00:00",
          "2017-08-08T00:00:00",
          "2017-08-09T00:00:00",
          "2017-08-10T00:00:00",
          "2017-08-11T00:00:00",
          "2017-08-12T00:00:00",
          "2017-08-13T00:00:00",
          "2017-08-15T00:00:00",
          "2017-08-16T00:00:00",
          "2017-08-17T00:00:00",
          "2017-08-18T00:00:00",
          "2017-08-19T00:00:00",
          "2017-08-20T00:00:00",
          "2017-08-21T00:00:00",
          "2017-08-22T00:00:00",
          "2017-08-23T00:00:00",
          "2017-08-24T00:00:00",
          "2017-08-25T00:00:00",
          "2017-08-26T00:00:00",
          "2017-08-27T00:00:00",
          "2017-08-28T00:00:00",
          "2017-08-29T00:00:00",
          "2017-08-30T00:00:00"
         ],
         "xaxis": "x",
         "y": [
          19.6,
          20.4,
          20.5,
          20.6,
          20.5,
          21.5,
          22.1,
          22.6,
          21.7,
          20.7,
          20.3,
          22.4,
          21.7,
          23.7,
          21.2,
          21.4,
          21.9,
          21.8,
          21.8,
          23.2,
          24.6,
          24.7,
          23.5,
          22.5,
          22.5,
          21.7,
          21.9,
          22,
          22.6,
          22.1,
          22.2,
          21.7,
          24.1,
          24.4,
          22.8,
          25.3,
          24.6,
          23.1,
          22.5,
          21.9,
          21.6,
          21.4,
          21,
          21.3,
          20.4,
          18.8,
          19.1,
          21.3,
          20.8,
          20.2,
          21.6,
          20.8,
          22.2,
          21.8,
          19.2,
          17.8,
          17.2,
          15.9,
          13.6,
          14.6,
          15.100000000000001
         ],
         "yaxis": "y"
        },
        {
         "hovertemplate": "variable=Previsão<br>Date=%{x}<br>Temperatura Mínima Seoul (°C)=%{y}<extra></extra>",
         "legendgroup": "Previsão",
         "line": {
          "color": "#EF553B",
          "dash": "solid"
         },
         "mode": "lines",
         "name": "Previsão",
         "orientation": "v",
         "showlegend": true,
         "type": "scatter",
         "x": [
          "2017-06-30T00:00:00",
          "2017-07-01T00:00:00",
          "2017-07-02T00:00:00",
          "2017-07-03T00:00:00",
          "2017-07-04T00:00:00",
          "2017-07-05T00:00:00",
          "2017-07-06T00:00:00",
          "2017-07-07T00:00:00",
          "2017-07-08T00:00:00",
          "2017-07-09T00:00:00",
          "2017-07-10T00:00:00",
          "2017-07-11T00:00:00",
          "2017-07-12T00:00:00",
          "2017-07-13T00:00:00",
          "2017-07-14T00:00:00",
          "2017-07-15T00:00:00",
          "2017-07-16T00:00:00",
          "2017-07-17T00:00:00",
          "2017-07-18T00:00:00",
          "2017-07-19T00:00:00",
          "2017-07-20T00:00:00",
          "2017-07-21T00:00:00",
          "2017-07-22T00:00:00",
          "2017-07-23T00:00:00",
          "2017-07-24T00:00:00",
          "2017-07-25T00:00:00",
          "2017-07-26T00:00:00",
          "2017-07-27T00:00:00",
          "2017-07-28T00:00:00",
          "2017-07-29T00:00:00",
          "2017-07-30T00:00:00",
          "2017-07-31T00:00:00",
          "2017-08-01T00:00:00",
          "2017-08-02T00:00:00",
          "2017-08-03T00:00:00",
          "2017-08-04T00:00:00",
          "2017-08-05T00:00:00",
          "2017-08-06T00:00:00",
          "2017-08-07T00:00:00",
          "2017-08-08T00:00:00",
          "2017-08-09T00:00:00",
          "2017-08-10T00:00:00",
          "2017-08-11T00:00:00",
          "2017-08-12T00:00:00",
          "2017-08-13T00:00:00",
          "2017-08-15T00:00:00",
          "2017-08-16T00:00:00",
          "2017-08-17T00:00:00",
          "2017-08-18T00:00:00",
          "2017-08-19T00:00:00",
          "2017-08-20T00:00:00",
          "2017-08-21T00:00:00",
          "2017-08-22T00:00:00",
          "2017-08-23T00:00:00",
          "2017-08-24T00:00:00",
          "2017-08-25T00:00:00",
          "2017-08-26T00:00:00",
          "2017-08-27T00:00:00",
          "2017-08-28T00:00:00",
          "2017-08-29T00:00:00",
          "2017-08-30T00:00:00"
         ],
         "xaxis": "x",
         "y": [
          19.396959074236168,
          20.07485371002027,
          19.263281368145993,
          19.56313704515029,
          20.931714866562523,
          21.204052195965613,
          21.453758681602043,
          21.924179978614955,
          22.187985346073734,
          21.02518669793826,
          20.006764968313203,
          20.591893027116527,
          21.084171281474692,
          22.153280724420373,
          21.476830619601305,
          20.343832420789454,
          22.09422921706534,
          21.259563428099867,
          21.17289080257257,
          22.240092895456247,
          23.493708206925355,
          23.761182283779746,
          23.618807319209218,
          23.0339498884604,
          22.206968316480246,
          21.18437818148614,
          20.753552216032286,
          20.990159563442546,
          21.39308072577944,
          21.324362932984243,
          21.930593426176554,
          20.938274284692174,
          22.895287900062787,
          23.349032870452255,
          22.771046684902583,
          23.6227579941895,
          25.06944513272399,
          23.26508910054246,
          22.6016153641091,
          21.808591256360174,
          22.205227488047623,
          21.343863321120146,
          20.675265283383876,
          20.457643301186888,
          19.24737660908521,
          18.397598649027362,
          18.958844820373297,
          19.857576868815947,
          20.354266816177063,
          19.726665709651797,
          20.562773889831732,
          20.96039854918932,
          21.605123543379797,
          20.878492222088358,
          19.814113698257795,
          18.10143718121088,
          16.551419356026187,
          16.668590360356852,
          13.49467259547924,
          12.914260075558772,
          14.36345732459334
         ],
         "yaxis": "y"
        }
       ],
       "layout": {
        "height": 400,
        "legend": {
         "title": {
          "text": "variable"
         },
         "tracegroupgap": 0
        },
        "template": {
         "data": {
          "bar": [
           {
            "error_x": {
             "color": "#2a3f5f"
            },
            "error_y": {
             "color": "#2a3f5f"
            },
            "marker": {
             "line": {
              "color": "#E5ECF6",
              "width": 0.5
             }
            },
            "type": "bar"
           }
          ],
          "barpolar": [
           {
            "marker": {
             "line": {
              "color": "#E5ECF6",
              "width": 0.5
             }
            },
            "type": "barpolar"
           }
          ],
          "carpet": [
           {
            "aaxis": {
             "endlinecolor": "#2a3f5f",
             "gridcolor": "white",
             "linecolor": "white",
             "minorgridcolor": "white",
             "startlinecolor": "#2a3f5f"
            },
            "baxis": {
             "endlinecolor": "#2a3f5f",
             "gridcolor": "white",
             "linecolor": "white",
             "minorgridcolor": "white",
             "startlinecolor": "#2a3f5f"
            },
            "type": "carpet"
           }
          ],
          "choropleth": [
           {
            "colorbar": {
             "outlinewidth": 0,
             "ticks": ""
            },
            "type": "choropleth"
           }
          ],
          "contour": [
           {
            "colorbar": {
             "outlinewidth": 0,
             "ticks": ""
            },
            "colorscale": [
             [
              0,
              "#0d0887"
             ],
             [
              0.1111111111111111,
              "#46039f"
             ],
             [
              0.2222222222222222,
              "#7201a8"
             ],
             [
              0.3333333333333333,
              "#9c179e"
             ],
             [
              0.4444444444444444,
              "#bd3786"
             ],
             [
              0.5555555555555556,
              "#d8576b"
             ],
             [
              0.6666666666666666,
              "#ed7953"
             ],
             [
              0.7777777777777778,
              "#fb9f3a"
             ],
             [
              0.8888888888888888,
              "#fdca26"
             ],
             [
              1,
              "#f0f921"
             ]
            ],
            "type": "contour"
           }
          ],
          "contourcarpet": [
           {
            "colorbar": {
             "outlinewidth": 0,
             "ticks": ""
            },
            "type": "contourcarpet"
           }
          ],
          "heatmap": [
           {
            "colorbar": {
             "outlinewidth": 0,
             "ticks": ""
            },
            "colorscale": [
             [
              0,
              "#0d0887"
             ],
             [
              0.1111111111111111,
              "#46039f"
             ],
             [
              0.2222222222222222,
              "#7201a8"
             ],
             [
              0.3333333333333333,
              "#9c179e"
             ],
             [
              0.4444444444444444,
              "#bd3786"
             ],
             [
              0.5555555555555556,
              "#d8576b"
             ],
             [
              0.6666666666666666,
              "#ed7953"
             ],
             [
              0.7777777777777778,
              "#fb9f3a"
             ],
             [
              0.8888888888888888,
              "#fdca26"
             ],
             [
              1,
              "#f0f921"
             ]
            ],
            "type": "heatmap"
           }
          ],
          "heatmapgl": [
           {
            "colorbar": {
             "outlinewidth": 0,
             "ticks": ""
            },
            "colorscale": [
             [
              0,
              "#0d0887"
             ],
             [
              0.1111111111111111,
              "#46039f"
             ],
             [
              0.2222222222222222,
              "#7201a8"
             ],
             [
              0.3333333333333333,
              "#9c179e"
             ],
             [
              0.4444444444444444,
              "#bd3786"
             ],
             [
              0.5555555555555556,
              "#d8576b"
             ],
             [
              0.6666666666666666,
              "#ed7953"
             ],
             [
              0.7777777777777778,
              "#fb9f3a"
             ],
             [
              0.8888888888888888,
              "#fdca26"
             ],
             [
              1,
              "#f0f921"
             ]
            ],
            "type": "heatmapgl"
           }
          ],
          "histogram": [
           {
            "marker": {
             "colorbar": {
              "outlinewidth": 0,
              "ticks": ""
             }
            },
            "type": "histogram"
           }
          ],
          "histogram2d": [
           {
            "colorbar": {
             "outlinewidth": 0,
             "ticks": ""
            },
            "colorscale": [
             [
              0,
              "#0d0887"
             ],
             [
              0.1111111111111111,
              "#46039f"
             ],
             [
              0.2222222222222222,
              "#7201a8"
             ],
             [
              0.3333333333333333,
              "#9c179e"
             ],
             [
              0.4444444444444444,
              "#bd3786"
             ],
             [
              0.5555555555555556,
              "#d8576b"
             ],
             [
              0.6666666666666666,
              "#ed7953"
             ],
             [
              0.7777777777777778,
              "#fb9f3a"
             ],
             [
              0.8888888888888888,
              "#fdca26"
             ],
             [
              1,
              "#f0f921"
             ]
            ],
            "type": "histogram2d"
           }
          ],
          "histogram2dcontour": [
           {
            "colorbar": {
             "outlinewidth": 0,
             "ticks": ""
            },
            "colorscale": [
             [
              0,
              "#0d0887"
             ],
             [
              0.1111111111111111,
              "#46039f"
             ],
             [
              0.2222222222222222,
              "#7201a8"
             ],
             [
              0.3333333333333333,
              "#9c179e"
             ],
             [
              0.4444444444444444,
              "#bd3786"
             ],
             [
              0.5555555555555556,
              "#d8576b"
             ],
             [
              0.6666666666666666,
              "#ed7953"
             ],
             [
              0.7777777777777778,
              "#fb9f3a"
             ],
             [
              0.8888888888888888,
              "#fdca26"
             ],
             [
              1,
              "#f0f921"
             ]
            ],
            "type": "histogram2dcontour"
           }
          ],
          "mesh3d": [
           {
            "colorbar": {
             "outlinewidth": 0,
             "ticks": ""
            },
            "type": "mesh3d"
           }
          ],
          "parcoords": [
           {
            "line": {
             "colorbar": {
              "outlinewidth": 0,
              "ticks": ""
             }
            },
            "type": "parcoords"
           }
          ],
          "pie": [
           {
            "automargin": true,
            "type": "pie"
           }
          ],
          "scatter": [
           {
            "marker": {
             "colorbar": {
              "outlinewidth": 0,
              "ticks": ""
             }
            },
            "type": "scatter"
           }
          ],
          "scatter3d": [
           {
            "line": {
             "colorbar": {
              "outlinewidth": 0,
              "ticks": ""
             }
            },
            "marker": {
             "colorbar": {
              "outlinewidth": 0,
              "ticks": ""
             }
            },
            "type": "scatter3d"
           }
          ],
          "scattercarpet": [
           {
            "marker": {
             "colorbar": {
              "outlinewidth": 0,
              "ticks": ""
             }
            },
            "type": "scattercarpet"
           }
          ],
          "scattergeo": [
           {
            "marker": {
             "colorbar": {
              "outlinewidth": 0,
              "ticks": ""
             }
            },
            "type": "scattergeo"
           }
          ],
          "scattergl": [
           {
            "marker": {
             "colorbar": {
              "outlinewidth": 0,
              "ticks": ""
             }
            },
            "type": "scattergl"
           }
          ],
          "scattermapbox": [
           {
            "marker": {
             "colorbar": {
              "outlinewidth": 0,
              "ticks": ""
             }
            },
            "type": "scattermapbox"
           }
          ],
          "scatterpolar": [
           {
            "marker": {
             "colorbar": {
              "outlinewidth": 0,
              "ticks": ""
             }
            },
            "type": "scatterpolar"
           }
          ],
          "scatterpolargl": [
           {
            "marker": {
             "colorbar": {
              "outlinewidth": 0,
              "ticks": ""
             }
            },
            "type": "scatterpolargl"
           }
          ],
          "scatterternary": [
           {
            "marker": {
             "colorbar": {
              "outlinewidth": 0,
              "ticks": ""
             }
            },
            "type": "scatterternary"
           }
          ],
          "surface": [
           {
            "colorbar": {
             "outlinewidth": 0,
             "ticks": ""
            },
            "colorscale": [
             [
              0,
              "#0d0887"
             ],
             [
              0.1111111111111111,
              "#46039f"
             ],
             [
              0.2222222222222222,
              "#7201a8"
             ],
             [
              0.3333333333333333,
              "#9c179e"
             ],
             [
              0.4444444444444444,
              "#bd3786"
             ],
             [
              0.5555555555555556,
              "#d8576b"
             ],
             [
              0.6666666666666666,
              "#ed7953"
             ],
             [
              0.7777777777777778,
              "#fb9f3a"
             ],
             [
              0.8888888888888888,
              "#fdca26"
             ],
             [
              1,
              "#f0f921"
             ]
            ],
            "type": "surface"
           }
          ],
          "table": [
           {
            "cells": {
             "fill": {
              "color": "#EBF0F8"
             },
             "line": {
              "color": "white"
             }
            },
            "header": {
             "fill": {
              "color": "#C8D4E3"
             },
             "line": {
              "color": "white"
             }
            },
            "type": "table"
           }
          ]
         },
         "layout": {
          "annotationdefaults": {
           "arrowcolor": "#2a3f5f",
           "arrowhead": 0,
           "arrowwidth": 1
          },
          "autotypenumbers": "strict",
          "coloraxis": {
           "colorbar": {
            "outlinewidth": 0,
            "ticks": ""
           }
          },
          "colorscale": {
           "diverging": [
            [
             0,
             "#8e0152"
            ],
            [
             0.1,
             "#c51b7d"
            ],
            [
             0.2,
             "#de77ae"
            ],
            [
             0.3,
             "#f1b6da"
            ],
            [
             0.4,
             "#fde0ef"
            ],
            [
             0.5,
             "#f7f7f7"
            ],
            [
             0.6,
             "#e6f5d0"
            ],
            [
             0.7,
             "#b8e186"
            ],
            [
             0.8,
             "#7fbc41"
            ],
            [
             0.9,
             "#4d9221"
            ],
            [
             1,
             "#276419"
            ]
           ],
           "sequential": [
            [
             0,
             "#0d0887"
            ],
            [
             0.1111111111111111,
             "#46039f"
            ],
            [
             0.2222222222222222,
             "#7201a8"
            ],
            [
             0.3333333333333333,
             "#9c179e"
            ],
            [
             0.4444444444444444,
             "#bd3786"
            ],
            [
             0.5555555555555556,
             "#d8576b"
            ],
            [
             0.6666666666666666,
             "#ed7953"
            ],
            [
             0.7777777777777778,
             "#fb9f3a"
            ],
            [
             0.8888888888888888,
             "#fdca26"
            ],
            [
             1,
             "#f0f921"
            ]
           ],
           "sequentialminus": [
            [
             0,
             "#0d0887"
            ],
            [
             0.1111111111111111,
             "#46039f"
            ],
            [
             0.2222222222222222,
             "#7201a8"
            ],
            [
             0.3333333333333333,
             "#9c179e"
            ],
            [
             0.4444444444444444,
             "#bd3786"
            ],
            [
             0.5555555555555556,
             "#d8576b"
            ],
            [
             0.6666666666666666,
             "#ed7953"
            ],
            [
             0.7777777777777778,
             "#fb9f3a"
            ],
            [
             0.8888888888888888,
             "#fdca26"
            ],
            [
             1,
             "#f0f921"
            ]
           ]
          },
          "colorway": [
           "#636efa",
           "#EF553B",
           "#00cc96",
           "#ab63fa",
           "#FFA15A",
           "#19d3f3",
           "#FF6692",
           "#B6E880",
           "#FF97FF",
           "#FECB52"
          ],
          "font": {
           "color": "#2a3f5f"
          },
          "geo": {
           "bgcolor": "white",
           "lakecolor": "white",
           "landcolor": "#E5ECF6",
           "showlakes": true,
           "showland": true,
           "subunitcolor": "white"
          },
          "hoverlabel": {
           "align": "left"
          },
          "hovermode": "closest",
          "mapbox": {
           "style": "light"
          },
          "paper_bgcolor": "white",
          "plot_bgcolor": "#E5ECF6",
          "polar": {
           "angularaxis": {
            "gridcolor": "white",
            "linecolor": "white",
            "ticks": ""
           },
           "bgcolor": "#E5ECF6",
           "radialaxis": {
            "gridcolor": "white",
            "linecolor": "white",
            "ticks": ""
           }
          },
          "scene": {
           "xaxis": {
            "backgroundcolor": "#E5ECF6",
            "gridcolor": "white",
            "gridwidth": 2,
            "linecolor": "white",
            "showbackground": true,
            "ticks": "",
            "zerolinecolor": "white"
           },
           "yaxis": {
            "backgroundcolor": "#E5ECF6",
            "gridcolor": "white",
            "gridwidth": 2,
            "linecolor": "white",
            "showbackground": true,
            "ticks": "",
            "zerolinecolor": "white"
           },
           "zaxis": {
            "backgroundcolor": "#E5ECF6",
            "gridcolor": "white",
            "gridwidth": 2,
            "linecolor": "white",
            "showbackground": true,
            "ticks": "",
            "zerolinecolor": "white"
           }
          },
          "shapedefaults": {
           "line": {
            "color": "#2a3f5f"
           }
          },
          "ternary": {
           "aaxis": {
            "gridcolor": "white",
            "linecolor": "white",
            "ticks": ""
           },
           "baxis": {
            "gridcolor": "white",
            "linecolor": "white",
            "ticks": ""
           },
           "bgcolor": "#E5ECF6",
           "caxis": {
            "gridcolor": "white",
            "linecolor": "white",
            "ticks": ""
           }
          },
          "title": {
           "x": 0.05
          },
          "xaxis": {
           "automargin": true,
           "gridcolor": "white",
           "linecolor": "white",
           "ticks": "",
           "title": {
            "standoff": 15
           },
           "zerolinecolor": "white",
           "zerolinewidth": 2
          },
          "yaxis": {
           "automargin": true,
           "gridcolor": "white",
           "linecolor": "white",
           "ticks": "",
           "title": {
            "standoff": 15
           },
           "zerolinecolor": "white",
           "zerolinewidth": 2
          }
         }
        },
        "title": {
         "text": "Previsão Modelo SVR (Temperatura Mínima T+1)"
        },
        "width": 800,
        "xaxis": {
         "anchor": "y",
         "domain": [
          0,
          1
         ],
         "title": {
          "text": "Date"
         }
        },
        "yaxis": {
         "anchor": "x",
         "domain": [
          0,
          1
         ],
         "title": {
          "text": "Temperatura Mínima Seoul (°C)"
         }
        }
       }
      }
     },
     "metadata": {},
     "output_type": "display_data"
    }
   ],
   "source": [
    "fig = px.line(forecast_results, x='Date', y=['Next_Tmin','Previsão'],labels={'value':\"Temperatura Mínima Seoul (°C)\"},title='Previsão Modelo SVR (Temperatura Mínima T+1)',width=800, height=400)\n",
    "fig.show()"
   ]
  },
  {
   "cell_type": "markdown",
   "metadata": {},
   "source": [
    "## Model Implementation for Tmax"
   ]
  },
  {
   "cell_type": "code",
   "execution_count": 2,
   "metadata": {},
   "outputs": [
    {
     "name": "stdout",
     "output_type": "stream",
     "text": [
      "INFO:tensorflow:Enabling eager execution\n",
      "INFO:tensorflow:Enabling v2 tensorshape\n",
      "INFO:tensorflow:Enabling resource variables\n",
      "INFO:tensorflow:Enabling tensor equality\n",
      "INFO:tensorflow:Enabling control flow v2\n"
     ]
    }
   ],
   "source": [
    "import tensorflow as tf\n",
    "from keras.models import Sequential\n",
    "from keras.layers import Dense\n",
    "from keras.callbacks import ReduceLROnPlateau"
   ]
  },
  {
   "cell_type": "code",
   "execution_count": 3,
   "metadata": {},
   "outputs": [],
   "source": [
    "pd.options.display.float_format = '{:,.10f}'.format\n",
    "db = pd.read_csv('Bias_correction_ucl.csv').dropna()\n",
    "db.Date = pd.to_datetime(db.Date)\n",
    "db['Year'] = db.Date.dt.year\n",
    "db = db.set_index(['station', 'Date', 'Year'])\n",
    "db = db[(np.abs(stats.zscore(db)) < 6).all(axis=1)]\n",
    "target = db[['Next_Tmax', 'Next_Tmin']]\n",
    "features = db.drop(['Next_Tmax', 'Next_Tmin'], axis=1)\n"
   ]
  },
  {
   "cell_type": "code",
   "execution_count": 4,
   "metadata": {},
   "outputs": [],
   "source": [
    "X_train = features.loc[pd.IndexSlice[:, :, [2013, 2014, 2015, 2016]], :]\n",
    "X_test = features.loc[pd.IndexSlice[:, :, [2017]], :]\n",
    "y_train_Tmax = target.loc[pd.IndexSlice[:, :, [\n",
    "    2013, 2014, 2015, 2016]], :]['Next_Tmax']\n",
    "y_test_Tmax = target.loc[pd.IndexSlice[:, :, [2017]], :]['Next_Tmax']\n",
    "y_train_Tmin = target.loc[pd.IndexSlice[:, :, [\n",
    "    2013, 2014, 2015, 2016]], :]['Next_Tmin']\n",
    "y_test_Tmin = target.loc[pd.IndexSlice[:, :, [2017]], :]['Next_Tmin']\n",
    "\n",
    "X_train_st1 = features.loc[pd.IndexSlice[[\n",
    "    1], :, [2013, 2014, 2015, 2016]], :]\n",
    "X_test_st1 = features.loc[pd.IndexSlice[[1], :, [2017]], :]\n",
    "y_train_Tmax_st1 = target.loc[pd.IndexSlice[[\n",
    "    1], :, [2013, 2014, 2015, 2016]], :]['Next_Tmax']\n",
    "y_test_Tmax_st1 = target.loc[pd.IndexSlice[[\n",
    "    1], :, [2017]], :]['Next_Tmax']\n",
    "y_train_Tmin_st1 = target.loc[pd.IndexSlice[[\n",
    "    1], :, [2013, 2014, 2015, 2016]], :]['Next_Tmin']\n",
    "y_test_Tmin_st1 = target.loc[pd.IndexSlice[[\n",
    "    1], :, [2017]], :]['Next_Tmin']\n"
   ]
  },
  {
   "cell_type": "markdown",
   "metadata": {},
   "source": [
    "### All 25 stations"
   ]
  },
  {
   "cell_type": "code",
   "execution_count": 7,
   "metadata": {},
   "outputs": [
    {
     "name": "stdout",
     "output_type": "stream",
     "text": [
      "Epoch 1/1000\n",
      "186/186 [==============================] - 2s 4ms/step - loss: 3115.1881 - val_loss: 10.3806\n",
      "Epoch 2/1000\n",
      "186/186 [==============================] - 0s 2ms/step - loss: 17.9715 - val_loss: 10.1283\n",
      "Epoch 3/1000\n",
      "186/186 [==============================] - 0s 2ms/step - loss: 17.3012 - val_loss: 9.3032\n",
      "Epoch 4/1000\n",
      "186/186 [==============================] - 0s 2ms/step - loss: 16.9412 - val_loss: 9.0722\n",
      "Epoch 5/1000\n",
      "186/186 [==============================] - 0s 2ms/step - loss: 15.8702 - val_loss: 8.3554\n",
      "Epoch 6/1000\n",
      "186/186 [==============================] - 0s 2ms/step - loss: 14.6939 - val_loss: 7.9449\n",
      "Epoch 7/1000\n",
      "186/186 [==============================] - 0s 2ms/step - loss: 14.3521 - val_loss: 8.1091\n",
      "Epoch 8/1000\n",
      "186/186 [==============================] - 0s 2ms/step - loss: 13.1099 - val_loss: 7.4617\n",
      "Epoch 9/1000\n",
      "186/186 [==============================] - 0s 2ms/step - loss: 12.7356 - val_loss: 7.1458\n",
      "Epoch 10/1000\n",
      "186/186 [==============================] - 0s 2ms/step - loss: 12.0542 - val_loss: 6.4309\n",
      "Epoch 11/1000\n",
      "186/186 [==============================] - 0s 2ms/step - loss: 10.8531 - val_loss: 6.1640\n",
      "Epoch 12/1000\n",
      "186/186 [==============================] - 0s 2ms/step - loss: 10.2784 - val_loss: 7.5934\n",
      "Epoch 13/1000\n",
      "186/186 [==============================] - 0s 2ms/step - loss: 9.3629 - val_loss: 5.1484\n",
      "Epoch 14/1000\n",
      "186/186 [==============================] - 0s 2ms/step - loss: 8.2708 - val_loss: 4.8156\n",
      "Epoch 15/1000\n",
      "186/186 [==============================] - 0s 2ms/step - loss: 7.0341 - val_loss: 4.3740\n",
      "Epoch 16/1000\n",
      "186/186 [==============================] - 0s 2ms/step - loss: 5.5270 - val_loss: 6.2452\n",
      "Epoch 17/1000\n",
      "186/186 [==============================] - 0s 2ms/step - loss: 5.4570 - val_loss: 4.6755\n",
      "Epoch 18/1000\n",
      "186/186 [==============================] - 0s 2ms/step - loss: 4.6586 - val_loss: 5.2295\n",
      "Epoch 19/1000\n",
      "186/186 [==============================] - 0s 2ms/step - loss: 4.1507 - val_loss: 5.2292\n",
      "Epoch 20/1000\n",
      "186/186 [==============================] - 0s 2ms/step - loss: 4.2664 - val_loss: 7.7449\n",
      "\n",
      "Epoch 00020: ReduceLROnPlateau reducing learning rate to 0.0009000000427477062.\n",
      "Epoch 21/1000\n",
      "186/186 [==============================] - 0s 1ms/step - loss: 4.5592 - val_loss: 5.0207\n",
      "Epoch 22/1000\n",
      "186/186 [==============================] - 0s 1ms/step - loss: 3.3701 - val_loss: 5.0088\n",
      "Epoch 23/1000\n",
      "186/186 [==============================] - 0s 2ms/step - loss: 3.5270 - val_loss: 11.3197\n",
      "Epoch 24/1000\n",
      "186/186 [==============================] - 0s 1ms/step - loss: 4.6446 - val_loss: 3.6452\n",
      "Epoch 25/1000\n",
      "186/186 [==============================] - 0s 1ms/step - loss: 3.3525 - val_loss: 3.5704\n",
      "Epoch 26/1000\n",
      "186/186 [==============================] - 0s 1ms/step - loss: 3.6471 - val_loss: 4.3168\n",
      "Epoch 27/1000\n",
      "186/186 [==============================] - 0s 1ms/step - loss: 3.5169 - val_loss: 5.1082\n",
      "Epoch 28/1000\n",
      "186/186 [==============================] - 0s 1ms/step - loss: 3.8431 - val_loss: 3.5059\n",
      "Epoch 29/1000\n",
      "186/186 [==============================] - 0s 1ms/step - loss: 3.2359 - val_loss: 3.9059\n",
      "Epoch 30/1000\n",
      "186/186 [==============================] - 0s 1ms/step - loss: 3.2672 - val_loss: 3.4912\n",
      "Epoch 31/1000\n",
      "186/186 [==============================] - 0s 1ms/step - loss: 3.2182 - val_loss: 3.9473\n",
      "Epoch 32/1000\n",
      "186/186 [==============================] - 0s 1ms/step - loss: 3.9195 - val_loss: 4.4722\n",
      "Epoch 33/1000\n",
      "186/186 [==============================] - 0s 2ms/step - loss: 3.1141 - val_loss: 4.3480\n",
      "Epoch 34/1000\n",
      "186/186 [==============================] - 0s 1ms/step - loss: 3.1550 - val_loss: 4.4826\n",
      "Epoch 35/1000\n",
      "186/186 [==============================] - 0s 1ms/step - loss: 3.8027 - val_loss: 4.6999\n",
      "\n",
      "Epoch 00035: ReduceLROnPlateau reducing learning rate to 0.0008100000384729356.\n",
      "Epoch 36/1000\n",
      "186/186 [==============================] - 0s 1ms/step - loss: 3.1592 - val_loss: 3.9943\n",
      "Epoch 37/1000\n",
      "186/186 [==============================] - 0s 1ms/step - loss: 3.0243 - val_loss: 3.9710\n",
      "Epoch 38/1000\n",
      "186/186 [==============================] - 0s 1ms/step - loss: 3.2067 - val_loss: 3.5974\n",
      "Epoch 39/1000\n",
      "186/186 [==============================] - 0s 1ms/step - loss: 2.9089 - val_loss: 9.3770\n",
      "Epoch 40/1000\n",
      "186/186 [==============================] - 0s 1ms/step - loss: 3.8753 - val_loss: 4.2162\n",
      "\n",
      "Epoch 00040: ReduceLROnPlateau reducing learning rate to 0.0007290000503417104.\n",
      "Epoch 41/1000\n",
      "186/186 [==============================] - 0s 1ms/step - loss: 2.9606 - val_loss: 3.9699\n",
      "Epoch 42/1000\n",
      "186/186 [==============================] - 0s 1ms/step - loss: 3.2860 - val_loss: 3.8686\n",
      "Epoch 43/1000\n",
      "186/186 [==============================] - 0s 1ms/step - loss: 2.6896 - val_loss: 3.4853\n",
      "Epoch 44/1000\n",
      "186/186 [==============================] - 0s 1ms/step - loss: 3.1571 - val_loss: 6.2831\n",
      "Epoch 45/1000\n",
      "186/186 [==============================] - 0s 1ms/step - loss: 3.2819 - val_loss: 3.6421\n",
      "Epoch 46/1000\n",
      "186/186 [==============================] - 0s 1ms/step - loss: 3.0631 - val_loss: 4.9743\n",
      "Epoch 47/1000\n",
      "186/186 [==============================] - 0s 1ms/step - loss: 3.2837 - val_loss: 4.3672\n",
      "Epoch 48/1000\n",
      "186/186 [==============================] - 0s 1ms/step - loss: 2.8789 - val_loss: 3.5314\n",
      "\n",
      "Epoch 00048: ReduceLROnPlateau reducing learning rate to 0.0006561000715009868.\n",
      "Epoch 49/1000\n",
      "186/186 [==============================] - 0s 1ms/step - loss: 2.6625 - val_loss: 3.3932\n",
      "Epoch 50/1000\n",
      "186/186 [==============================] - 0s 1ms/step - loss: 2.7379 - val_loss: 3.7140\n",
      "Epoch 51/1000\n",
      "186/186 [==============================] - 0s 1ms/step - loss: 2.8343 - val_loss: 3.7377\n",
      "Epoch 52/1000\n",
      "186/186 [==============================] - 0s 1ms/step - loss: 3.5522 - val_loss: 3.2264\n",
      "Epoch 53/1000\n",
      "186/186 [==============================] - 0s 1ms/step - loss: 2.7964 - val_loss: 3.2479\n",
      "Epoch 54/1000\n",
      "186/186 [==============================] - 0s 1ms/step - loss: 3.1409 - val_loss: 5.1369\n",
      "Epoch 55/1000\n",
      "186/186 [==============================] - 0s 1ms/step - loss: 3.1315 - val_loss: 16.8314\n",
      "Epoch 56/1000\n",
      "186/186 [==============================] - 0s 1ms/step - loss: 4.2490 - val_loss: 5.9032\n",
      "Epoch 57/1000\n",
      "186/186 [==============================] - 0s 1ms/step - loss: 3.1976 - val_loss: 3.2322\n",
      "\n",
      "Epoch 00057: ReduceLROnPlateau reducing learning rate to 0.0005904900433961303.\n",
      "Epoch 58/1000\n",
      "186/186 [==============================] - 0s 1ms/step - loss: 2.5767 - val_loss: 5.8600\n",
      "Epoch 59/1000\n",
      "186/186 [==============================] - 0s 2ms/step - loss: 2.9452 - val_loss: 3.4906\n",
      "Epoch 60/1000\n",
      "186/186 [==============================] - 0s 1ms/step - loss: 2.5267 - val_loss: 3.4644\n",
      "Epoch 61/1000\n",
      "186/186 [==============================] - 0s 1ms/step - loss: 2.6271 - val_loss: 4.5793\n",
      "Epoch 62/1000\n",
      "186/186 [==============================] - 0s 1ms/step - loss: 3.0336 - val_loss: 3.2232\n",
      "Epoch 63/1000\n",
      "186/186 [==============================] - 0s 1ms/step - loss: 2.5275 - val_loss: 4.9013\n",
      "Epoch 64/1000\n",
      "186/186 [==============================] - 0s 1ms/step - loss: 2.7439 - val_loss: 6.6426\n",
      "Epoch 65/1000\n",
      "186/186 [==============================] - 0s 1ms/step - loss: 2.6650 - val_loss: 4.7801\n",
      "Epoch 66/1000\n",
      "186/186 [==============================] - 0s 1ms/step - loss: 2.8210 - val_loss: 3.8910\n",
      "Epoch 67/1000\n",
      "186/186 [==============================] - 0s 1ms/step - loss: 2.7614 - val_loss: 3.1448\n",
      "Epoch 68/1000\n",
      "186/186 [==============================] - 0s 1ms/step - loss: 2.6305 - val_loss: 3.1413\n",
      "Epoch 69/1000\n",
      "186/186 [==============================] - 0s 1ms/step - loss: 2.4745 - val_loss: 9.4310\n",
      "Epoch 70/1000\n",
      "186/186 [==============================] - 0s 1ms/step - loss: 3.1475 - val_loss: 3.6381\n",
      "Epoch 71/1000\n",
      "186/186 [==============================] - 0s 1ms/step - loss: 13.7123 - val_loss: 3.7965\n",
      "Epoch 72/1000\n",
      "186/186 [==============================] - 0s 1ms/step - loss: 2.7463 - val_loss: 3.5790\n",
      "Epoch 73/1000\n",
      "186/186 [==============================] - 0s 1ms/step - loss: 2.5403 - val_loss: 3.1573\n",
      "\n",
      "Epoch 00073: ReduceLROnPlateau reducing learning rate to 0.0005314410547725857.\n",
      "Epoch 74/1000\n",
      "186/186 [==============================] - 0s 2ms/step - loss: 2.4719 - val_loss: 3.3101\n",
      "Epoch 75/1000\n",
      "186/186 [==============================] - 0s 1ms/step - loss: 2.6016 - val_loss: 3.1750\n",
      "Epoch 76/1000\n",
      "186/186 [==============================] - 0s 1ms/step - loss: 2.5386 - val_loss: 4.8018\n",
      "Epoch 77/1000\n",
      "186/186 [==============================] - 0s 2ms/step - loss: 2.7094 - val_loss: 8.5866\n",
      "Epoch 78/1000\n",
      "186/186 [==============================] - 0s 2ms/step - loss: 2.9420 - val_loss: 3.7133\n",
      "\n",
      "Epoch 00078: ReduceLROnPlateau reducing learning rate to 0.00047829695977270604.\n",
      "Epoch 79/1000\n",
      "186/186 [==============================] - 0s 1ms/step - loss: 2.5539 - val_loss: 3.2799\n",
      "Epoch 80/1000\n",
      "186/186 [==============================] - 0s 2ms/step - loss: 2.6650 - val_loss: 3.1231\n",
      "Epoch 81/1000\n",
      "186/186 [==============================] - 0s 1ms/step - loss: 2.8146 - val_loss: 4.3046\n",
      "Epoch 82/1000\n",
      "186/186 [==============================] - 0s 1ms/step - loss: 2.5661 - val_loss: 3.5987\n",
      "Epoch 83/1000\n",
      "186/186 [==============================] - 0s 1ms/step - loss: 2.4007 - val_loss: 5.9500\n",
      "Epoch 84/1000\n",
      "186/186 [==============================] - 0s 1ms/step - loss: 2.7608 - val_loss: 3.4506\n",
      "Epoch 85/1000\n",
      "186/186 [==============================] - 0s 2ms/step - loss: 2.3700 - val_loss: 3.7069\n",
      "\n",
      "Epoch 00085: ReduceLROnPlateau reducing learning rate to 0.0004304672533180565.\n",
      "Epoch 86/1000\n",
      "186/186 [==============================] - 0s 1ms/step - loss: 2.5249 - val_loss: 3.1763\n",
      "Epoch 87/1000\n",
      "186/186 [==============================] - 0s 1ms/step - loss: 2.3285 - val_loss: 3.5303\n",
      "Epoch 88/1000\n",
      "186/186 [==============================] - 0s 1ms/step - loss: 2.5099 - val_loss: 4.2790\n",
      "Epoch 89/1000\n",
      "186/186 [==============================] - 0s 1ms/step - loss: 2.6072 - val_loss: 3.2889\n",
      "Epoch 90/1000\n",
      "186/186 [==============================] - 0s 1ms/step - loss: 2.3886 - val_loss: 3.3526\n",
      "\n",
      "Epoch 00090: ReduceLROnPlateau reducing learning rate to 0.00038742052274756136.\n",
      "Epoch 91/1000\n",
      "186/186 [==============================] - 0s 1ms/step - loss: 2.3540 - val_loss: 3.1120\n",
      "Epoch 92/1000\n",
      "186/186 [==============================] - 0s 1ms/step - loss: 2.1935 - val_loss: 3.0951\n",
      "Epoch 93/1000\n",
      "186/186 [==============================] - 0s 2ms/step - loss: 2.2846 - val_loss: 3.1761\n",
      "Epoch 94/1000\n",
      "186/186 [==============================] - 0s 2ms/step - loss: 2.4624 - val_loss: 3.5629\n",
      "Epoch 95/1000\n",
      "186/186 [==============================] - 0s 1ms/step - loss: 2.5053 - val_loss: 4.9336\n",
      "Epoch 96/1000\n",
      "186/186 [==============================] - 0s 2ms/step - loss: 2.5341 - val_loss: 3.8981\n",
      "Epoch 97/1000\n",
      "186/186 [==============================] - 0s 2ms/step - loss: 2.6037 - val_loss: 3.1012\n",
      "\n",
      "Epoch 00097: ReduceLROnPlateau reducing learning rate to 0.0003486784757114947.\n",
      "Epoch 98/1000\n",
      "186/186 [==============================] - 0s 1ms/step - loss: 2.3997 - val_loss: 3.0550\n",
      "Epoch 99/1000\n",
      "186/186 [==============================] - 0s 1ms/step - loss: 2.4345 - val_loss: 3.4165\n",
      "Epoch 100/1000\n",
      "186/186 [==============================] - 0s 1ms/step - loss: 2.4003 - val_loss: 5.3095\n",
      "Epoch 101/1000\n",
      "186/186 [==============================] - 0s 1ms/step - loss: 2.4554 - val_loss: 4.1563\n",
      "Epoch 102/1000\n",
      "186/186 [==============================] - 0s 2ms/step - loss: 2.5143 - val_loss: 3.2187\n",
      "Epoch 103/1000\n",
      "186/186 [==============================] - 0s 2ms/step - loss: 2.5272 - val_loss: 3.6790\n",
      "\n",
      "Epoch 00103: ReduceLROnPlateau reducing learning rate to 0.00031381062290165574.\n",
      "Epoch 104/1000\n",
      "186/186 [==============================] - 0s 2ms/step - loss: 2.2675 - val_loss: 3.4154\n",
      "Epoch 105/1000\n",
      "186/186 [==============================] - 0s 1ms/step - loss: 2.6829 - val_loss: 3.1817\n",
      "Epoch 106/1000\n",
      "186/186 [==============================] - 0s 2ms/step - loss: 2.2989 - val_loss: 3.8717\n",
      "Epoch 107/1000\n",
      "186/186 [==============================] - 0s 2ms/step - loss: 2.4765 - val_loss: 3.4117\n",
      "Epoch 108/1000\n",
      "186/186 [==============================] - 0s 1ms/step - loss: 2.3820 - val_loss: 3.1723\n",
      "\n",
      "Epoch 00108: ReduceLROnPlateau reducing learning rate to 0.0002824295632308349.\n",
      "Epoch 109/1000\n",
      "186/186 [==============================] - 0s 1ms/step - loss: 2.4220 - val_loss: 3.7600\n",
      "Epoch 110/1000\n",
      "186/186 [==============================] - 0s 2ms/step - loss: 2.2112 - val_loss: 5.6251\n",
      "Epoch 111/1000\n",
      "186/186 [==============================] - 0s 1ms/step - loss: 2.3361 - val_loss: 3.0951\n",
      "Epoch 112/1000\n",
      "186/186 [==============================] - 0s 1ms/step - loss: 2.2202 - val_loss: 3.5708\n",
      "Epoch 113/1000\n",
      "186/186 [==============================] - 0s 1ms/step - loss: 2.5791 - val_loss: 3.5309\n",
      "\n",
      "Epoch 00113: ReduceLROnPlateau reducing learning rate to 0.00025418660952709616.\n",
      "Epoch 114/1000\n",
      "186/186 [==============================] - 0s 1ms/step - loss: 2.2910 - val_loss: 4.1049\n",
      "Epoch 115/1000\n",
      "186/186 [==============================] - 0s 1ms/step - loss: 2.3360 - val_loss: 3.2657\n",
      "Epoch 116/1000\n",
      "186/186 [==============================] - 0s 1ms/step - loss: 2.2976 - val_loss: 3.2466\n",
      "Epoch 117/1000\n",
      "186/186 [==============================] - 0s 1ms/step - loss: 2.2253 - val_loss: 3.1666\n",
      "Epoch 118/1000\n",
      "186/186 [==============================] - 0s 1ms/step - loss: 2.3557 - val_loss: 4.5663\n",
      "\n",
      "Epoch 00118: ReduceLROnPlateau reducing learning rate to 0.00022876793809700757.\n",
      "Epoch 119/1000\n",
      "186/186 [==============================] - 0s 1ms/step - loss: 2.2187 - val_loss: 3.1399\n",
      "Epoch 120/1000\n",
      "186/186 [==============================] - 0s 1ms/step - loss: 2.3304 - val_loss: 3.1186\n",
      "Epoch 121/1000\n",
      "186/186 [==============================] - 0s 1ms/step - loss: 2.1965 - val_loss: 5.2844\n",
      "Epoch 122/1000\n",
      "186/186 [==============================] - 0s 1ms/step - loss: 2.3217 - val_loss: 4.7520\n",
      "Epoch 123/1000\n",
      "186/186 [==============================] - 0s 1ms/step - loss: 2.2985 - val_loss: 4.2023\n",
      "\n",
      "Epoch 00123: ReduceLROnPlateau reducing learning rate to 0.00020589114428730683.\n",
      "Epoch 124/1000\n",
      "186/186 [==============================] - 0s 2ms/step - loss: 2.1544 - val_loss: 3.1132\n",
      "Epoch 125/1000\n",
      "186/186 [==============================] - 0s 2ms/step - loss: 2.3004 - val_loss: 3.9180\n",
      "Epoch 126/1000\n",
      "186/186 [==============================] - 0s 1ms/step - loss: 2.2190 - val_loss: 3.8550\n",
      "Epoch 127/1000\n",
      "186/186 [==============================] - 0s 1ms/step - loss: 2.2212 - val_loss: 3.2041\n",
      "Epoch 128/1000\n",
      "186/186 [==============================] - 0s 1ms/step - loss: 2.1912 - val_loss: 3.3136\n",
      "\n",
      "Epoch 00128: ReduceLROnPlateau reducing learning rate to 0.00018530203378759326.\n",
      "Epoch 129/1000\n",
      "186/186 [==============================] - 0s 1ms/step - loss: 2.2945 - val_loss: 3.8779\n",
      "Epoch 130/1000\n",
      "186/186 [==============================] - 0s 1ms/step - loss: 2.2560 - val_loss: 3.1748\n",
      "Epoch 131/1000\n",
      "186/186 [==============================] - 1s 3ms/step - loss: 2.4644 - val_loss: 3.2558\n",
      "Epoch 132/1000\n",
      "186/186 [==============================] - 0s 2ms/step - loss: 2.2456 - val_loss: 3.2449\n",
      "Epoch 133/1000\n",
      "186/186 [==============================] - 0s 2ms/step - loss: 2.1611 - val_loss: 3.2506\n",
      "\n",
      "Epoch 00133: ReduceLROnPlateau reducing learning rate to 0.00016677183302817866.\n",
      "Epoch 134/1000\n",
      "186/186 [==============================] - 0s 1ms/step - loss: 2.2120 - val_loss: 3.1569\n",
      "Epoch 135/1000\n",
      "186/186 [==============================] - 0s 1ms/step - loss: 2.3156 - val_loss: 3.3835\n",
      "Epoch 136/1000\n",
      "186/186 [==============================] - 0s 1ms/step - loss: 2.1815 - val_loss: 3.1414\n",
      "Epoch 137/1000\n",
      "186/186 [==============================] - 0s 1ms/step - loss: 2.2253 - val_loss: 3.1755\n",
      "Epoch 138/1000\n",
      "186/186 [==============================] - 0s 1ms/step - loss: 2.2451 - val_loss: 4.2585\n",
      "\n",
      "Epoch 00138: ReduceLROnPlateau reducing learning rate to 0.00015009464841568844.\n",
      "Epoch 139/1000\n",
      "186/186 [==============================] - 0s 1ms/step - loss: 2.2322 - val_loss: 3.2309\n",
      "Epoch 140/1000\n",
      "186/186 [==============================] - 0s 1ms/step - loss: 2.3190 - val_loss: 5.2229\n",
      "Epoch 141/1000\n",
      "186/186 [==============================] - 0s 1ms/step - loss: 2.6875 - val_loss: 3.2195\n",
      "Epoch 142/1000\n",
      "186/186 [==============================] - 0s 1ms/step - loss: 2.1288 - val_loss: 3.1485\n",
      "Epoch 143/1000\n",
      "186/186 [==============================] - 0s 1ms/step - loss: 2.1101 - val_loss: 3.7584\n",
      "\n",
      "Epoch 00143: ReduceLROnPlateau reducing learning rate to 0.0001350851875031367.\n",
      "Epoch 144/1000\n",
      "186/186 [==============================] - 0s 1ms/step - loss: 2.1710 - val_loss: 3.2415\n",
      "Epoch 145/1000\n",
      "186/186 [==============================] - 0s 1ms/step - loss: 2.1839 - val_loss: 3.1544\n",
      "Epoch 146/1000\n",
      "186/186 [==============================] - 0s 1ms/step - loss: 2.2300 - val_loss: 3.1329\n",
      "Epoch 147/1000\n",
      "186/186 [==============================] - 0s 1ms/step - loss: 2.0903 - val_loss: 3.3727\n",
      "Epoch 148/1000\n",
      "186/186 [==============================] - 0s 1ms/step - loss: 2.2688 - val_loss: 4.2591\n",
      "\n",
      "Epoch 00148: ReduceLROnPlateau reducing learning rate to 0.00012157666351413355.\n",
      "Epoch 149/1000\n",
      "186/186 [==============================] - 0s 1ms/step - loss: 2.1496 - val_loss: 3.1227\n",
      "Epoch 150/1000\n",
      "186/186 [==============================] - 0s 1ms/step - loss: 2.1097 - val_loss: 3.6610\n",
      "Epoch 151/1000\n",
      "186/186 [==============================] - 0s 1ms/step - loss: 2.1651 - val_loss: 3.1061\n",
      "Epoch 152/1000\n",
      "186/186 [==============================] - 0s 1ms/step - loss: 2.1427 - val_loss: 3.4286\n",
      "Epoch 153/1000\n",
      "186/186 [==============================] - 0s 1ms/step - loss: 2.1906 - val_loss: 3.4899\n",
      "\n",
      "Epoch 00153: ReduceLROnPlateau reducing learning rate to 0.00010941899454337544.\n",
      "Epoch 154/1000\n",
      "186/186 [==============================] - 0s 1ms/step - loss: 2.2160 - val_loss: 3.6674\n",
      "Epoch 155/1000\n",
      "186/186 [==============================] - 0s 1ms/step - loss: 2.1151 - val_loss: 3.1294\n",
      "Epoch 156/1000\n",
      "186/186 [==============================] - 0s 1ms/step - loss: 2.2111 - val_loss: 3.2375\n",
      "Epoch 157/1000\n",
      "186/186 [==============================] - 0s 1ms/step - loss: 2.2474 - val_loss: 3.3128\n",
      "Epoch 158/1000\n",
      "186/186 [==============================] - 0s 1ms/step - loss: 2.1384 - val_loss: 3.2182\n",
      "\n",
      "Epoch 00158: ReduceLROnPlateau reducing learning rate to 9.847709443420172e-05.\n",
      "Epoch 159/1000\n",
      "186/186 [==============================] - 0s 1ms/step - loss: 2.2125 - val_loss: 3.1677\n",
      "Epoch 160/1000\n",
      "186/186 [==============================] - 0s 1ms/step - loss: 2.0989 - val_loss: 3.1491\n",
      "Epoch 161/1000\n",
      "186/186 [==============================] - 0s 1ms/step - loss: 2.0834 - val_loss: 3.2852\n",
      "Epoch 162/1000\n",
      "186/186 [==============================] - 0s 1ms/step - loss: 2.1936 - val_loss: 3.1569\n",
      "Epoch 163/1000\n",
      "186/186 [==============================] - 0s 1ms/step - loss: 2.1905 - val_loss: 3.3914\n",
      "\n",
      "Epoch 00163: ReduceLROnPlateau reducing learning rate to 8.862938630045391e-05.\n",
      "Epoch 164/1000\n",
      "186/186 [==============================] - 0s 1ms/step - loss: 2.1031 - val_loss: 4.0512\n",
      "Epoch 165/1000\n",
      "186/186 [==============================] - 0s 1ms/step - loss: 2.0541 - val_loss: 3.1670\n",
      "Epoch 166/1000\n",
      "186/186 [==============================] - 0s 1ms/step - loss: 2.1779 - val_loss: 3.1595\n",
      "Epoch 167/1000\n",
      "186/186 [==============================] - 0s 1ms/step - loss: 2.0733 - val_loss: 3.1574\n",
      "Epoch 168/1000\n",
      "186/186 [==============================] - 0s 1ms/step - loss: 2.1573 - val_loss: 3.1714\n",
      "\n",
      "Epoch 00168: ReduceLROnPlateau reducing learning rate to 7.976644701557234e-05.\n",
      "Epoch 169/1000\n",
      "186/186 [==============================] - 0s 1ms/step - loss: 2.2533 - val_loss: 3.7444\n",
      "Epoch 170/1000\n",
      "186/186 [==============================] - 0s 1ms/step - loss: 2.1542 - val_loss: 3.4572\n",
      "Epoch 171/1000\n",
      "186/186 [==============================] - 0s 2ms/step - loss: 2.1369 - val_loss: 3.8922\n",
      "Epoch 172/1000\n",
      "186/186 [==============================] - 0s 2ms/step - loss: 2.0934 - val_loss: 3.7663\n",
      "Epoch 173/1000\n",
      "186/186 [==============================] - 0s 2ms/step - loss: 2.3542 - val_loss: 3.1458\n",
      "\n",
      "Epoch 00173: ReduceLROnPlateau reducing learning rate to 7.178980231401511e-05.\n",
      "Epoch 174/1000\n",
      "186/186 [==============================] - 0s 2ms/step - loss: 2.1063 - val_loss: 3.3486\n",
      "Epoch 175/1000\n",
      "186/186 [==============================] - 0s 2ms/step - loss: 2.2007 - val_loss: 3.6090\n",
      "Epoch 176/1000\n",
      "186/186 [==============================] - 0s 2ms/step - loss: 1.9916 - val_loss: 3.1927\n",
      "Epoch 177/1000\n",
      "186/186 [==============================] - 0s 1ms/step - loss: 2.2367 - val_loss: 3.2066\n",
      "Epoch 178/1000\n",
      "186/186 [==============================] - 0s 2ms/step - loss: 1.9672 - val_loss: 3.3393\n",
      "\n",
      "Epoch 00178: ReduceLROnPlateau reducing learning rate to 6.461082011810504e-05.\n",
      "Epoch 179/1000\n",
      "186/186 [==============================] - 0s 2ms/step - loss: 2.0330 - val_loss: 4.3283\n",
      "Epoch 180/1000\n",
      "186/186 [==============================] - 0s 2ms/step - loss: 2.1897 - val_loss: 3.7914\n",
      "Epoch 181/1000\n",
      "186/186 [==============================] - 0s 2ms/step - loss: 2.1463 - val_loss: 4.3328\n",
      "Epoch 182/1000\n",
      "186/186 [==============================] - 0s 2ms/step - loss: 2.1428 - val_loss: 3.3537\n",
      "Epoch 183/1000\n",
      "186/186 [==============================] - 0s 2ms/step - loss: 2.0950 - val_loss: 3.1773\n",
      "\n",
      "Epoch 00183: ReduceLROnPlateau reducing learning rate to 5.8149741380475466e-05.\n",
      "Epoch 184/1000\n",
      "186/186 [==============================] - 0s 2ms/step - loss: 2.1882 - val_loss: 3.1352\n",
      "Epoch 185/1000\n",
      "186/186 [==============================] - 0s 2ms/step - loss: 2.1052 - val_loss: 3.3098\n",
      "Epoch 186/1000\n",
      "186/186 [==============================] - 0s 2ms/step - loss: 2.0625 - val_loss: 3.6859\n",
      "Epoch 187/1000\n",
      "186/186 [==============================] - 0s 2ms/step - loss: 2.0697 - val_loss: 3.1496\n",
      "Epoch 188/1000\n",
      "186/186 [==============================] - 0s 2ms/step - loss: 2.0429 - val_loss: 3.1652\n",
      "\n",
      "Epoch 00188: ReduceLROnPlateau reducing learning rate to 5.233476658759173e-05.\n",
      "Epoch 189/1000\n",
      "186/186 [==============================] - 0s 2ms/step - loss: 2.1233 - val_loss: 3.5611\n",
      "Epoch 190/1000\n",
      "186/186 [==============================] - 0s 2ms/step - loss: 2.0866 - val_loss: 3.4626\n",
      "Epoch 191/1000\n",
      "186/186 [==============================] - 0s 2ms/step - loss: 2.1588 - val_loss: 3.4319\n",
      "Epoch 192/1000\n",
      "186/186 [==============================] - 0s 2ms/step - loss: 2.0917 - val_loss: 3.3354\n",
      "Epoch 193/1000\n",
      "186/186 [==============================] - 0s 2ms/step - loss: 2.1241 - val_loss: 3.6683\n",
      "\n",
      "Epoch 00193: ReduceLROnPlateau reducing learning rate to 4.7101289601414466e-05.\n",
      "Epoch 194/1000\n",
      "186/186 [==============================] - 0s 2ms/step - loss: 2.0814 - val_loss: 3.5885\n",
      "Epoch 195/1000\n",
      "186/186 [==============================] - 0s 2ms/step - loss: 2.0764 - val_loss: 3.1385\n",
      "Epoch 196/1000\n",
      "186/186 [==============================] - 0s 1ms/step - loss: 2.1053 - val_loss: 3.1669\n",
      "Epoch 197/1000\n",
      "186/186 [==============================] - 0s 2ms/step - loss: 2.1220 - val_loss: 3.7730\n",
      "Epoch 198/1000\n",
      "186/186 [==============================] - 0s 2ms/step - loss: 2.1153 - val_loss: 3.6094\n",
      "\n",
      "Epoch 00198: ReduceLROnPlateau reducing learning rate to 4.239116096869111e-05.\n",
      "Epoch 199/1000\n",
      "186/186 [==============================] - 0s 1ms/step - loss: 2.2166 - val_loss: 3.1596\n",
      "Epoch 200/1000\n",
      "186/186 [==============================] - 0s 1ms/step - loss: 2.1286 - val_loss: 3.5218\n",
      "Epoch 201/1000\n",
      "186/186 [==============================] - 0s 2ms/step - loss: 2.0544 - val_loss: 3.8336\n",
      "Epoch 202/1000\n",
      "186/186 [==============================] - 0s 2ms/step - loss: 2.1588 - val_loss: 3.1435\n",
      "Epoch 203/1000\n",
      "186/186 [==============================] - 0s 1ms/step - loss: 2.1113 - val_loss: 3.2077\n",
      "\n",
      "Epoch 00203: ReduceLROnPlateau reducing learning rate to 3.815204618149437e-05.\n",
      "Epoch 204/1000\n",
      "186/186 [==============================] - 0s 1ms/step - loss: 2.0715 - val_loss: 3.3681\n",
      "Epoch 205/1000\n",
      "186/186 [==============================] - 0s 2ms/step - loss: 2.0448 - val_loss: 3.4679\n",
      "Epoch 206/1000\n",
      "186/186 [==============================] - 0s 1ms/step - loss: 2.0844 - val_loss: 3.3190\n",
      "Epoch 207/1000\n",
      "186/186 [==============================] - 0s 2ms/step - loss: 2.0115 - val_loss: 3.8265\n",
      "Epoch 208/1000\n",
      "186/186 [==============================] - 0s 1ms/step - loss: 2.1139 - val_loss: 3.3158\n",
      "\n",
      "Epoch 00208: ReduceLROnPlateau reducing learning rate to 3.4336842873017304e-05.\n",
      "Epoch 209/1000\n",
      "186/186 [==============================] - 0s 2ms/step - loss: 2.0419 - val_loss: 3.2917\n",
      "Epoch 210/1000\n",
      "186/186 [==============================] - 0s 1ms/step - loss: 2.1068 - val_loss: 3.1840\n",
      "Epoch 211/1000\n",
      "186/186 [==============================] - 0s 1ms/step - loss: 2.0106 - val_loss: 3.2026\n",
      "Epoch 212/1000\n",
      "186/186 [==============================] - 0s 1ms/step - loss: 2.1267 - val_loss: 3.4102\n",
      "Epoch 213/1000\n",
      "186/186 [==============================] - 0s 1ms/step - loss: 2.0631 - val_loss: 3.1705\n",
      "\n",
      "Epoch 00213: ReduceLROnPlateau reducing learning rate to 3.0903160222806036e-05.\n",
      "Epoch 214/1000\n",
      "186/186 [==============================] - 0s 1ms/step - loss: 1.9728 - val_loss: 3.6402\n",
      "Epoch 215/1000\n",
      "186/186 [==============================] - 0s 1ms/step - loss: 2.1315 - val_loss: 3.2917\n",
      "Epoch 216/1000\n",
      "186/186 [==============================] - 0s 2ms/step - loss: 2.1539 - val_loss: 3.3220\n",
      "Epoch 217/1000\n",
      "186/186 [==============================] - 0s 1ms/step - loss: 2.0396 - val_loss: 3.2043\n",
      "Epoch 218/1000\n",
      "186/186 [==============================] - 0s 1ms/step - loss: 2.1075 - val_loss: 3.1482\n",
      "\n",
      "Epoch 00218: ReduceLROnPlateau reducing learning rate to 2.7812844200525434e-05.\n",
      "Epoch 219/1000\n",
      "186/186 [==============================] - 0s 1ms/step - loss: 2.0065 - val_loss: 3.1963\n",
      "Epoch 220/1000\n",
      "186/186 [==============================] - 0s 1ms/step - loss: 2.0234 - val_loss: 3.2552\n",
      "Epoch 221/1000\n",
      "186/186 [==============================] - 0s 1ms/step - loss: 2.0712 - val_loss: 3.2282\n",
      "Epoch 222/1000\n",
      "186/186 [==============================] - 0s 1ms/step - loss: 2.0231 - val_loss: 3.1435\n",
      "Epoch 223/1000\n",
      "186/186 [==============================] - 0s 2ms/step - loss: 2.0637 - val_loss: 3.5737\n",
      "\n",
      "Epoch 00223: ReduceLROnPlateau reducing learning rate to 2.5031560107890984e-05.\n",
      "Epoch 224/1000\n",
      "186/186 [==============================] - 0s 1ms/step - loss: 2.0218 - val_loss: 3.1653\n",
      "Epoch 225/1000\n",
      "186/186 [==============================] - 0s 1ms/step - loss: 1.9386 - val_loss: 3.3369\n",
      "Epoch 226/1000\n",
      "186/186 [==============================] - 0s 2ms/step - loss: 1.9593 - val_loss: 3.2684\n",
      "Epoch 227/1000\n",
      "186/186 [==============================] - 0s 2ms/step - loss: 1.9786 - val_loss: 3.2416\n",
      "Epoch 228/1000\n",
      "186/186 [==============================] - 0s 1ms/step - loss: 2.0381 - val_loss: 3.5201\n",
      "\n",
      "Epoch 00228: ReduceLROnPlateau reducing learning rate to 2.2528404588229024e-05.\n",
      "Epoch 229/1000\n",
      "186/186 [==============================] - 0s 1ms/step - loss: 2.1152 - val_loss: 3.1484\n",
      "Epoch 230/1000\n",
      "186/186 [==============================] - 0s 2ms/step - loss: 2.0440 - val_loss: 3.1396\n",
      "Epoch 231/1000\n",
      "186/186 [==============================] - 0s 2ms/step - loss: 2.0360 - val_loss: 3.3853\n",
      "Epoch 232/1000\n",
      "186/186 [==============================] - 0s 2ms/step - loss: 2.0567 - val_loss: 3.3225\n",
      "Epoch 233/1000\n",
      "186/186 [==============================] - 0s 1ms/step - loss: 2.0821 - val_loss: 3.1747\n",
      "\n",
      "Epoch 00233: ReduceLROnPlateau reducing learning rate to 2.0275563474569936e-05.\n",
      "Epoch 234/1000\n",
      "186/186 [==============================] - 0s 1ms/step - loss: 2.1464 - val_loss: 3.2331\n",
      "Epoch 235/1000\n",
      "186/186 [==============================] - 0s 1ms/step - loss: 1.9681 - val_loss: 3.1997\n",
      "Epoch 236/1000\n",
      "186/186 [==============================] - 0s 1ms/step - loss: 2.0949 - val_loss: 3.2219\n",
      "Epoch 237/1000\n",
      "186/186 [==============================] - 0s 1ms/step - loss: 2.1254 - val_loss: 3.4696\n",
      "Epoch 238/1000\n",
      "186/186 [==============================] - 0s 1ms/step - loss: 2.0769 - val_loss: 3.3694\n",
      "\n",
      "Epoch 00238: ReduceLROnPlateau reducing learning rate to 1.8248007290821987e-05.\n",
      "Epoch 239/1000\n",
      "186/186 [==============================] - 0s 1ms/step - loss: 2.0408 - val_loss: 3.1981\n",
      "Epoch 240/1000\n",
      "186/186 [==============================] - 0s 2ms/step - loss: 2.0744 - val_loss: 3.2500\n",
      "Epoch 241/1000\n",
      "186/186 [==============================] - 0s 1ms/step - loss: 2.0249 - val_loss: 3.2992\n",
      "Epoch 242/1000\n",
      "186/186 [==============================] - 0s 2ms/step - loss: 1.9889 - val_loss: 3.1624\n",
      "Epoch 243/1000\n",
      "186/186 [==============================] - 0s 1ms/step - loss: 2.0897 - val_loss: 3.2294\n",
      "\n",
      "Epoch 00243: ReduceLROnPlateau reducing learning rate to 1.6423206398030745e-05.\n",
      "Epoch 244/1000\n",
      "186/186 [==============================] - 0s 1ms/step - loss: 2.0187 - val_loss: 3.2333\n",
      "Epoch 245/1000\n",
      "186/186 [==============================] - 0s 1ms/step - loss: 2.0426 - val_loss: 3.2988\n",
      "Epoch 246/1000\n",
      "186/186 [==============================] - 0s 1ms/step - loss: 2.0346 - val_loss: 3.5419\n",
      "Epoch 247/1000\n",
      "186/186 [==============================] - 0s 1ms/step - loss: 2.0138 - val_loss: 3.3151\n",
      "Epoch 248/1000\n",
      "186/186 [==============================] - 0s 1ms/step - loss: 2.0386 - val_loss: 3.1068\n",
      "\n",
      "Epoch 00248: ReduceLROnPlateau reducing learning rate to 1.4780885430809576e-05.\n",
      "Epoch 249/1000\n",
      "186/186 [==============================] - 0s 1ms/step - loss: 2.0847 - val_loss: 3.2816\n",
      "Epoch 250/1000\n",
      "186/186 [==============================] - 0s 1ms/step - loss: 1.9980 - val_loss: 3.1276\n",
      "Epoch 251/1000\n",
      "186/186 [==============================] - 0s 1ms/step - loss: 2.1331 - val_loss: 3.3007\n",
      "Epoch 252/1000\n",
      "186/186 [==============================] - 0s 1ms/step - loss: 2.0065 - val_loss: 3.1336\n",
      "Epoch 253/1000\n",
      "186/186 [==============================] - 0s 1ms/step - loss: 2.0870 - val_loss: 3.1744\n",
      "\n",
      "Epoch 00253: ReduceLROnPlateau reducing learning rate to 1.3302796560310526e-05.\n",
      "Epoch 254/1000\n",
      "186/186 [==============================] - 0s 1ms/step - loss: 2.0733 - val_loss: 3.1300\n",
      "Epoch 255/1000\n",
      "186/186 [==============================] - 0s 1ms/step - loss: 2.0507 - val_loss: 3.8977\n",
      "Epoch 256/1000\n",
      "186/186 [==============================] - 0s 1ms/step - loss: 2.1944 - val_loss: 3.3574\n",
      "Epoch 257/1000\n",
      "186/186 [==============================] - 0s 1ms/step - loss: 2.0317 - val_loss: 3.1561\n",
      "Epoch 258/1000\n",
      "186/186 [==============================] - 0s 1ms/step - loss: 2.0632 - val_loss: 3.2438\n",
      "\n",
      "Epoch 00258: ReduceLROnPlateau reducing learning rate to 1.1972517313552089e-05.\n",
      "Epoch 259/1000\n",
      "186/186 [==============================] - 0s 1ms/step - loss: 2.1439 - val_loss: 3.2184\n",
      "Epoch 260/1000\n",
      "186/186 [==============================] - 0s 1ms/step - loss: 1.9777 - val_loss: 3.1982\n",
      "Epoch 261/1000\n",
      "186/186 [==============================] - 0s 1ms/step - loss: 2.0750 - val_loss: 3.2711\n",
      "Epoch 262/1000\n",
      "186/186 [==============================] - 0s 1ms/step - loss: 2.0164 - val_loss: 3.2961\n",
      "Epoch 263/1000\n",
      "186/186 [==============================] - 0s 1ms/step - loss: 2.0395 - val_loss: 3.2708\n",
      "\n",
      "Epoch 00263: ReduceLROnPlateau reducing learning rate to 1.077526558219688e-05.\n",
      "Epoch 264/1000\n",
      "186/186 [==============================] - 0s 1ms/step - loss: 2.0161 - val_loss: 3.3063\n",
      "Epoch 265/1000\n",
      "186/186 [==============================] - 0s 1ms/step - loss: 2.0326 - val_loss: 3.2241\n",
      "Epoch 266/1000\n",
      "186/186 [==============================] - 0s 1ms/step - loss: 2.1010 - val_loss: 3.3073\n",
      "Epoch 267/1000\n",
      "186/186 [==============================] - 0s 1ms/step - loss: 2.0245 - val_loss: 3.4044\n",
      "Epoch 268/1000\n",
      "186/186 [==============================] - 0s 1ms/step - loss: 2.0341 - val_loss: 3.2229\n",
      "\n",
      "Epoch 00268: ReduceLROnPlateau reducing learning rate to 9.697739187686238e-06.\n",
      "Epoch 269/1000\n",
      "186/186 [==============================] - 0s 1ms/step - loss: 1.9168 - val_loss: 3.2299\n",
      "Epoch 270/1000\n",
      "186/186 [==============================] - 0s 1ms/step - loss: 2.0058 - val_loss: 3.3424\n",
      "Epoch 271/1000\n",
      "186/186 [==============================] - 0s 1ms/step - loss: 2.0705 - val_loss: 3.2897\n",
      "Epoch 272/1000\n",
      "186/186 [==============================] - 0s 1ms/step - loss: 2.0199 - val_loss: 3.2627\n",
      "Epoch 273/1000\n",
      "186/186 [==============================] - 0s 1ms/step - loss: 2.0231 - val_loss: 3.2695\n",
      "\n",
      "Epoch 00273: ReduceLROnPlateau reducing learning rate to 8.727965268917615e-06.\n",
      "Epoch 274/1000\n",
      "186/186 [==============================] - 0s 1ms/step - loss: 1.9954 - val_loss: 3.2628\n",
      "Epoch 275/1000\n",
      "186/186 [==============================] - 0s 1ms/step - loss: 2.0392 - val_loss: 3.2734\n",
      "Epoch 276/1000\n",
      "186/186 [==============================] - 0s 1ms/step - loss: 2.0713 - val_loss: 3.2390\n",
      "Epoch 277/1000\n",
      "186/186 [==============================] - 0s 2ms/step - loss: 2.0862 - val_loss: 3.2941\n",
      "Epoch 278/1000\n",
      "186/186 [==============================] - 0s 1ms/step - loss: 2.0078 - val_loss: 3.3760\n",
      "\n",
      "Epoch 00278: ReduceLROnPlateau reducing learning rate to 7.855168496462283e-06.\n",
      "Epoch 279/1000\n",
      "186/186 [==============================] - 0s 1ms/step - loss: 2.0137 - val_loss: 3.2443\n",
      "Epoch 280/1000\n",
      "186/186 [==============================] - 0s 1ms/step - loss: 2.0309 - val_loss: 3.2722\n",
      "Epoch 281/1000\n",
      "186/186 [==============================] - 0s 1ms/step - loss: 2.0529 - val_loss: 3.2771\n",
      "Epoch 282/1000\n",
      "186/186 [==============================] - 0s 1ms/step - loss: 1.9886 - val_loss: 3.4820\n",
      "Epoch 283/1000\n",
      "186/186 [==============================] - 0s 1ms/step - loss: 2.0458 - val_loss: 3.2275\n",
      "\n",
      "Epoch 00283: ReduceLROnPlateau reducing learning rate to 7.069651564961533e-06.\n",
      "Epoch 284/1000\n",
      "186/186 [==============================] - 0s 1ms/step - loss: 2.0527 - val_loss: 3.4101\n",
      "Epoch 285/1000\n",
      "186/186 [==============================] - 0s 1ms/step - loss: 2.0641 - val_loss: 3.3870\n",
      "Epoch 286/1000\n",
      "186/186 [==============================] - 0s 1ms/step - loss: 1.9791 - val_loss: 3.3059\n",
      "Epoch 287/1000\n",
      "186/186 [==============================] - 0s 1ms/step - loss: 1.9146 - val_loss: 3.4131\n",
      "Epoch 288/1000\n",
      "186/186 [==============================] - 0s 2ms/step - loss: 2.1236 - val_loss: 3.3245\n",
      "\n",
      "Epoch 00288: ReduceLROnPlateau reducing learning rate to 6.362686326610856e-06.\n",
      "Epoch 289/1000\n",
      "186/186 [==============================] - 0s 1ms/step - loss: 2.0177 - val_loss: 3.2733\n",
      "Epoch 290/1000\n",
      "186/186 [==============================] - 0s 2ms/step - loss: 1.9775 - val_loss: 3.3222\n",
      "Epoch 291/1000\n",
      "186/186 [==============================] - 0s 2ms/step - loss: 2.0250 - val_loss: 3.2375\n",
      "Epoch 292/1000\n",
      "186/186 [==============================] - 0s 1ms/step - loss: 2.0527 - val_loss: 3.4147\n",
      "Epoch 293/1000\n",
      "186/186 [==============================] - 0s 2ms/step - loss: 1.9246 - val_loss: 3.2756\n",
      "\n",
      "Epoch 00293: ReduceLROnPlateau reducing learning rate to 5.726417612095247e-06.\n",
      "Epoch 294/1000\n",
      "186/186 [==============================] - 0s 1ms/step - loss: 2.0301 - val_loss: 3.2856\n",
      "Epoch 295/1000\n",
      "186/186 [==============================] - 0s 1ms/step - loss: 1.9883 - val_loss: 3.2020\n",
      "Epoch 296/1000\n",
      "186/186 [==============================] - 0s 1ms/step - loss: 2.0278 - val_loss: 3.2175\n",
      "Epoch 297/1000\n",
      "186/186 [==============================] - 0s 1ms/step - loss: 2.0522 - val_loss: 3.2727\n",
      "Epoch 298/1000\n",
      "186/186 [==============================] - 0s 2ms/step - loss: 1.9614 - val_loss: 3.2906\n",
      "\n",
      "Epoch 00298: ReduceLROnPlateau reducing learning rate to 5.15377605552203e-06.\n",
      "Epoch 299/1000\n",
      "186/186 [==============================] - 0s 1ms/step - loss: 2.0378 - val_loss: 3.3984\n",
      "Epoch 300/1000\n",
      "186/186 [==============================] - 0s 1ms/step - loss: 1.9471 - val_loss: 3.3888\n",
      "Epoch 301/1000\n",
      "186/186 [==============================] - 0s 1ms/step - loss: 2.0764 - val_loss: 3.3346\n",
      "Epoch 302/1000\n",
      "186/186 [==============================] - 0s 1ms/step - loss: 2.0680 - val_loss: 3.4662\n",
      "Epoch 303/1000\n",
      "186/186 [==============================] - 0s 1ms/step - loss: 2.0155 - val_loss: 3.2344\n",
      "\n",
      "Epoch 00303: ReduceLROnPlateau reducing learning rate to 4.638398286260781e-06.\n",
      "Epoch 304/1000\n",
      "186/186 [==============================] - 0s 1ms/step - loss: 1.9878 - val_loss: 3.2267\n",
      "Epoch 305/1000\n",
      "186/186 [==============================] - 0s 1ms/step - loss: 2.0418 - val_loss: 3.1925\n",
      "Epoch 306/1000\n",
      "186/186 [==============================] - 0s 1ms/step - loss: 1.9738 - val_loss: 3.3086\n",
      "Epoch 307/1000\n",
      "186/186 [==============================] - 0s 1ms/step - loss: 2.0305 - val_loss: 3.4355\n",
      "Epoch 308/1000\n",
      "186/186 [==============================] - 0s 1ms/step - loss: 2.0734 - val_loss: 3.1599\n",
      "\n",
      "Epoch 00308: ReduceLROnPlateau reducing learning rate to 4.174558580416488e-06.\n",
      "Epoch 309/1000\n",
      "186/186 [==============================] - 0s 1ms/step - loss: 1.9801 - val_loss: 3.2343\n",
      "Epoch 310/1000\n",
      "186/186 [==============================] - 0s 1ms/step - loss: 1.9924 - val_loss: 3.2959\n",
      "Epoch 311/1000\n",
      "186/186 [==============================] - 0s 1ms/step - loss: 2.0127 - val_loss: 3.2843\n",
      "Epoch 312/1000\n",
      "186/186 [==============================] - 0s 1ms/step - loss: 1.9677 - val_loss: 3.1973\n",
      "Epoch 313/1000\n",
      "186/186 [==============================] - 0s 1ms/step - loss: 1.9602 - val_loss: 3.2431\n",
      "\n",
      "Epoch 00313: ReduceLROnPlateau reducing learning rate to 3.7571025586657926e-06.\n",
      "Epoch 314/1000\n",
      "186/186 [==============================] - 0s 1ms/step - loss: 1.9587 - val_loss: 3.2470\n",
      "Epoch 315/1000\n",
      "186/186 [==============================] - 0s 1ms/step - loss: 2.0590 - val_loss: 3.2563\n",
      "Epoch 316/1000\n",
      "186/186 [==============================] - 0s 1ms/step - loss: 2.0423 - val_loss: 3.3280\n",
      "Epoch 317/1000\n",
      "186/186 [==============================] - 0s 1ms/step - loss: 1.9812 - val_loss: 3.2278\n",
      "Epoch 318/1000\n",
      "186/186 [==============================] - 0s 1ms/step - loss: 2.0279 - val_loss: 3.3040\n",
      "\n",
      "Epoch 00318: ReduceLROnPlateau reducing learning rate to 3.381392343726475e-06.\n",
      "Epoch 319/1000\n",
      "186/186 [==============================] - 0s 1ms/step - loss: 2.0294 - val_loss: 3.2607\n",
      "Epoch 320/1000\n",
      "186/186 [==============================] - 0s 1ms/step - loss: 1.9808 - val_loss: 3.2455\n",
      "Epoch 321/1000\n",
      "186/186 [==============================] - 0s 1ms/step - loss: 1.9708 - val_loss: 3.3658\n",
      "Epoch 322/1000\n",
      "186/186 [==============================] - 0s 1ms/step - loss: 1.9886 - val_loss: 3.4745\n",
      "Epoch 323/1000\n",
      "186/186 [==============================] - 0s 1ms/step - loss: 2.0903 - val_loss: 3.2891\n",
      "\n",
      "Epoch 00323: ReduceLROnPlateau reducing learning rate to 3.043253150281089e-06.\n",
      "Epoch 324/1000\n",
      "186/186 [==============================] - 0s 1ms/step - loss: 2.1226 - val_loss: 3.1779\n",
      "Epoch 325/1000\n",
      "186/186 [==============================] - 0s 1ms/step - loss: 1.9364 - val_loss: 3.2601\n",
      "Epoch 326/1000\n",
      "186/186 [==============================] - 0s 1ms/step - loss: 1.9652 - val_loss: 3.3213\n",
      "Epoch 327/1000\n",
      "186/186 [==============================] - 0s 1ms/step - loss: 1.9797 - val_loss: 3.2876\n",
      "Epoch 328/1000\n",
      "186/186 [==============================] - 0s 1ms/step - loss: 2.0580 - val_loss: 3.2521\n",
      "\n",
      "Epoch 00328: ReduceLROnPlateau reducing learning rate to 2.7389278557166107e-06.\n",
      "Epoch 329/1000\n",
      "186/186 [==============================] - 0s 1ms/step - loss: 2.0297 - val_loss: 3.2735\n",
      "Epoch 330/1000\n",
      "186/186 [==============================] - 0s 1ms/step - loss: 1.9666 - val_loss: 3.3826\n",
      "Epoch 331/1000\n",
      "186/186 [==============================] - 0s 1ms/step - loss: 2.0646 - val_loss: 3.1863\n",
      "Epoch 332/1000\n",
      "186/186 [==============================] - 0s 1ms/step - loss: 2.0047 - val_loss: 3.2567\n",
      "Epoch 333/1000\n",
      "186/186 [==============================] - 0s 1ms/step - loss: 1.9599 - val_loss: 3.2387\n",
      "\n",
      "Epoch 00333: ReduceLROnPlateau reducing learning rate to 2.465035049681319e-06.\n",
      "Epoch 334/1000\n",
      "186/186 [==============================] - 0s 1ms/step - loss: 1.9937 - val_loss: 3.3109\n",
      "Epoch 335/1000\n",
      "186/186 [==============================] - 0s 1ms/step - loss: 1.9930 - val_loss: 3.2865\n",
      "Epoch 336/1000\n",
      "186/186 [==============================] - 0s 1ms/step - loss: 2.0219 - val_loss: 3.2786\n",
      "Epoch 337/1000\n",
      "186/186 [==============================] - 0s 1ms/step - loss: 1.9513 - val_loss: 3.2700\n",
      "Epoch 338/1000\n",
      "186/186 [==============================] - 0s 1ms/step - loss: 2.0694 - val_loss: 3.2521\n",
      "\n",
      "Epoch 00338: ReduceLROnPlateau reducing learning rate to 2.2185315856404485e-06.\n",
      "Epoch 339/1000\n",
      "186/186 [==============================] - 0s 1ms/step - loss: 2.0075 - val_loss: 3.3199\n",
      "Epoch 340/1000\n",
      "186/186 [==============================] - 0s 1ms/step - loss: 2.0301 - val_loss: 3.2859\n",
      "Epoch 341/1000\n",
      "186/186 [==============================] - 0s 1ms/step - loss: 2.0794 - val_loss: 3.2904\n",
      "Epoch 342/1000\n",
      "186/186 [==============================] - 0s 1ms/step - loss: 1.9578 - val_loss: 3.2696\n",
      "Epoch 343/1000\n",
      "186/186 [==============================] - 0s 1ms/step - loss: 2.0553 - val_loss: 3.2976\n",
      "\n",
      "Epoch 00343: ReduceLROnPlateau reducing learning rate to 1.996678406612773e-06.\n",
      "Epoch 344/1000\n",
      "186/186 [==============================] - 0s 1ms/step - loss: 2.1000 - val_loss: 3.3763\n",
      "Epoch 345/1000\n",
      "186/186 [==============================] - 0s 2ms/step - loss: 2.0301 - val_loss: 3.2580\n",
      "Epoch 346/1000\n",
      "186/186 [==============================] - 0s 1ms/step - loss: 2.1395 - val_loss: 3.2688\n",
      "Epoch 347/1000\n",
      "186/186 [==============================] - 0s 1ms/step - loss: 2.0174 - val_loss: 3.3285\n",
      "Epoch 348/1000\n",
      "186/186 [==============================] - 0s 1ms/step - loss: 1.9296 - val_loss: 3.2302\n",
      "\n",
      "Epoch 00348: ReduceLROnPlateau reducing learning rate to 1.7970104636333418e-06.\n",
      "Epoch 349/1000\n",
      "186/186 [==============================] - 0s 1ms/step - loss: 2.0105 - val_loss: 3.3071\n",
      "Epoch 350/1000\n",
      "186/186 [==============================] - 0s 1ms/step - loss: 1.9925 - val_loss: 3.1919\n",
      "Epoch 351/1000\n",
      "186/186 [==============================] - 0s 1ms/step - loss: 2.0929 - val_loss: 3.3551\n",
      "Epoch 352/1000\n",
      "186/186 [==============================] - 0s 1ms/step - loss: 1.9878 - val_loss: 3.2541\n",
      "Epoch 353/1000\n",
      "186/186 [==============================] - 0s 1ms/step - loss: 2.0662 - val_loss: 3.2983\n",
      "\n",
      "Epoch 00353: ReduceLROnPlateau reducing learning rate to 1.6173093968063768e-06.\n",
      "Epoch 354/1000\n",
      "186/186 [==============================] - 0s 1ms/step - loss: 2.0261 - val_loss: 3.2875\n",
      "Epoch 355/1000\n",
      "186/186 [==============================] - 0s 1ms/step - loss: 1.9607 - val_loss: 3.2650\n",
      "Epoch 356/1000\n",
      "186/186 [==============================] - 0s 1ms/step - loss: 1.9650 - val_loss: 3.2573\n",
      "Epoch 357/1000\n",
      "186/186 [==============================] - 0s 1ms/step - loss: 2.1192 - val_loss: 3.2532\n",
      "Epoch 358/1000\n",
      "186/186 [==============================] - 0s 1ms/step - loss: 2.0211 - val_loss: 3.3019\n",
      "\n",
      "Epoch 00358: ReduceLROnPlateau reducing learning rate to 1.4555784673575544e-06.\n",
      "Epoch 359/1000\n",
      "186/186 [==============================] - 0s 1ms/step - loss: 2.0122 - val_loss: 3.3072\n",
      "Epoch 360/1000\n",
      "186/186 [==============================] - 0s 1ms/step - loss: 2.0727 - val_loss: 3.3378\n",
      "Epoch 361/1000\n",
      "186/186 [==============================] - 0s 1ms/step - loss: 1.9606 - val_loss: 3.3196\n",
      "Epoch 362/1000\n",
      "186/186 [==============================] - 0s 1ms/step - loss: 1.9683 - val_loss: 3.3043\n",
      "Epoch 363/1000\n",
      "186/186 [==============================] - 0s 1ms/step - loss: 1.9879 - val_loss: 3.3523\n",
      "\n",
      "Epoch 00363: ReduceLROnPlateau reducing learning rate to 1.3100206615490606e-06.\n",
      "Epoch 364/1000\n",
      "186/186 [==============================] - 0s 1ms/step - loss: 2.0392 - val_loss: 3.2887\n",
      "Epoch 365/1000\n",
      "186/186 [==============================] - 0s 1ms/step - loss: 2.0286 - val_loss: 3.3142\n",
      "Epoch 366/1000\n",
      "186/186 [==============================] - 0s 1ms/step - loss: 1.9692 - val_loss: 3.3088\n",
      "Epoch 367/1000\n",
      "186/186 [==============================] - 0s 1ms/step - loss: 1.9965 - val_loss: 3.2392\n",
      "Epoch 368/1000\n",
      "186/186 [==============================] - 0s 1ms/step - loss: 1.9712 - val_loss: 3.2693\n",
      "\n",
      "Epoch 00368: ReduceLROnPlateau reducing learning rate to 1.179018636321416e-06.\n",
      "Epoch 369/1000\n",
      "186/186 [==============================] - 0s 1ms/step - loss: 2.0213 - val_loss: 3.3090\n",
      "Epoch 370/1000\n",
      "186/186 [==============================] - 0s 1ms/step - loss: 2.0226 - val_loss: 3.2837\n",
      "Epoch 371/1000\n",
      "186/186 [==============================] - 0s 1ms/step - loss: 2.0653 - val_loss: 3.3081\n",
      "Epoch 372/1000\n",
      "186/186 [==============================] - 0s 1ms/step - loss: 2.0044 - val_loss: 3.2370\n",
      "Epoch 373/1000\n",
      "186/186 [==============================] - 0s 1ms/step - loss: 1.9648 - val_loss: 3.2677\n",
      "\n",
      "Epoch 00373: ReduceLROnPlateau reducing learning rate to 1.0611168136165362e-06.\n",
      "Epoch 374/1000\n",
      "186/186 [==============================] - 0s 2ms/step - loss: 2.1025 - val_loss: 3.3170\n",
      "Epoch 375/1000\n",
      "186/186 [==============================] - 0s 1ms/step - loss: 2.0356 - val_loss: 3.2927\n",
      "Epoch 376/1000\n",
      "186/186 [==============================] - 0s 1ms/step - loss: 1.9691 - val_loss: 3.2838\n",
      "Epoch 377/1000\n",
      "186/186 [==============================] - 0s 1ms/step - loss: 2.0109 - val_loss: 3.2757\n",
      "Epoch 378/1000\n",
      "186/186 [==============================] - 0s 1ms/step - loss: 2.0397 - val_loss: 3.2957\n",
      "\n",
      "Epoch 00378: ReduceLROnPlateau reducing learning rate to 1e-06.\n",
      "Epoch 379/1000\n",
      "186/186 [==============================] - 0s 1ms/step - loss: 2.0137 - val_loss: 3.3057\n",
      "Epoch 380/1000\n",
      "186/186 [==============================] - 0s 1ms/step - loss: 1.9925 - val_loss: 3.3140\n",
      "Epoch 381/1000\n",
      "186/186 [==============================] - 0s 1ms/step - loss: 1.9565 - val_loss: 3.3280\n",
      "Epoch 382/1000\n",
      "186/186 [==============================] - 0s 1ms/step - loss: 2.1539 - val_loss: 3.2631\n",
      "Epoch 383/1000\n",
      "186/186 [==============================] - 0s 1ms/step - loss: 1.9392 - val_loss: 3.2747\n",
      "Epoch 384/1000\n",
      "186/186 [==============================] - 0s 1ms/step - loss: 1.9817 - val_loss: 3.2295\n",
      "Epoch 385/1000\n",
      "186/186 [==============================] - 0s 1ms/step - loss: 2.0237 - val_loss: 3.3107\n",
      "Epoch 386/1000\n",
      "186/186 [==============================] - 0s 1ms/step - loss: 1.9973 - val_loss: 3.2797\n",
      "Epoch 387/1000\n",
      "186/186 [==============================] - 0s 2ms/step - loss: 1.9808 - val_loss: 3.3092\n",
      "Epoch 388/1000\n",
      "186/186 [==============================] - 0s 1ms/step - loss: 2.0486 - val_loss: 3.3434\n",
      "Epoch 389/1000\n",
      "186/186 [==============================] - 0s 1ms/step - loss: 2.0569 - val_loss: 3.3174\n",
      "Epoch 390/1000\n",
      "186/186 [==============================] - 0s 1ms/step - loss: 2.0276 - val_loss: 3.2883\n",
      "Epoch 391/1000\n",
      "186/186 [==============================] - 0s 1ms/step - loss: 2.0451 - val_loss: 3.2674\n",
      "Epoch 392/1000\n",
      "186/186 [==============================] - 0s 1ms/step - loss: 1.9474 - val_loss: 3.2687\n",
      "Epoch 393/1000\n",
      "186/186 [==============================] - 0s 1ms/step - loss: 2.0114 - val_loss: 3.3086\n",
      "Epoch 394/1000\n",
      "186/186 [==============================] - 0s 2ms/step - loss: 1.9965 - val_loss: 3.3030\n",
      "Epoch 395/1000\n",
      "186/186 [==============================] - 0s 2ms/step - loss: 1.9996 - val_loss: 3.3377\n",
      "Epoch 396/1000\n",
      "186/186 [==============================] - 0s 1ms/step - loss: 1.9193 - val_loss: 3.2952\n",
      "Epoch 397/1000\n",
      "186/186 [==============================] - 0s 2ms/step - loss: 2.0100 - val_loss: 3.3241\n",
      "Epoch 398/1000\n",
      "186/186 [==============================] - 0s 2ms/step - loss: 2.0261 - val_loss: 3.3016\n",
      "Epoch 399/1000\n",
      "186/186 [==============================] - 0s 1ms/step - loss: 1.9706 - val_loss: 3.3341\n",
      "Epoch 400/1000\n",
      "186/186 [==============================] - 0s 1ms/step - loss: 2.0143 - val_loss: 3.2667\n",
      "Epoch 401/1000\n",
      "186/186 [==============================] - 0s 1ms/step - loss: 2.0038 - val_loss: 3.2948\n",
      "Epoch 402/1000\n",
      "186/186 [==============================] - 0s 1ms/step - loss: 2.0226 - val_loss: 3.3141\n",
      "Epoch 403/1000\n",
      "186/186 [==============================] - 0s 1ms/step - loss: 2.0615 - val_loss: 3.2987\n",
      "Epoch 404/1000\n",
      "186/186 [==============================] - 0s 1ms/step - loss: 2.0230 - val_loss: 3.2836\n",
      "Epoch 405/1000\n",
      "186/186 [==============================] - 0s 1ms/step - loss: 2.0543 - val_loss: 3.3522\n",
      "Epoch 406/1000\n",
      "186/186 [==============================] - 0s 1ms/step - loss: 1.9367 - val_loss: 3.3082\n",
      "Epoch 407/1000\n",
      "186/186 [==============================] - 0s 2ms/step - loss: 1.9439 - val_loss: 3.2223\n",
      "Epoch 408/1000\n",
      "186/186 [==============================] - 0s 1ms/step - loss: 2.0388 - val_loss: 3.3282\n",
      "Epoch 409/1000\n",
      "186/186 [==============================] - 0s 1ms/step - loss: 2.0162 - val_loss: 3.2828\n",
      "Epoch 410/1000\n",
      "186/186 [==============================] - 0s 1ms/step - loss: 2.0011 - val_loss: 3.2267\n",
      "Epoch 411/1000\n",
      "186/186 [==============================] - 0s 1ms/step - loss: 2.0870 - val_loss: 3.2720\n",
      "Epoch 412/1000\n",
      "186/186 [==============================] - 0s 1ms/step - loss: 2.0317 - val_loss: 3.2728\n",
      "Epoch 413/1000\n",
      "186/186 [==============================] - 0s 2ms/step - loss: 2.0623 - val_loss: 3.2525\n",
      "Epoch 414/1000\n",
      "186/186 [==============================] - 0s 2ms/step - loss: 2.0471 - val_loss: 3.2888\n",
      "Epoch 415/1000\n",
      "186/186 [==============================] - 0s 2ms/step - loss: 2.0452 - val_loss: 3.3258\n",
      "Epoch 416/1000\n",
      "186/186 [==============================] - 0s 2ms/step - loss: 1.9389 - val_loss: 3.2504\n",
      "Epoch 417/1000\n",
      "186/186 [==============================] - 0s 2ms/step - loss: 2.0221 - val_loss: 3.3061\n",
      "Epoch 418/1000\n",
      "186/186 [==============================] - 0s 1ms/step - loss: 2.0219 - val_loss: 3.2376\n",
      "Epoch 419/1000\n",
      "186/186 [==============================] - 0s 1ms/step - loss: 2.0167 - val_loss: 3.2807\n",
      "Epoch 420/1000\n",
      "186/186 [==============================] - 0s 1ms/step - loss: 1.9924 - val_loss: 3.2514\n",
      "Epoch 421/1000\n",
      "186/186 [==============================] - 0s 1ms/step - loss: 2.0263 - val_loss: 3.3293\n",
      "Epoch 422/1000\n",
      "186/186 [==============================] - 0s 1ms/step - loss: 2.0042 - val_loss: 3.2632\n",
      "Epoch 423/1000\n",
      "186/186 [==============================] - 0s 2ms/step - loss: 1.9308 - val_loss: 3.2804\n",
      "Epoch 424/1000\n",
      "186/186 [==============================] - 0s 2ms/step - loss: 1.9887 - val_loss: 3.2890\n",
      "Epoch 425/1000\n",
      "186/186 [==============================] - 0s 2ms/step - loss: 1.9662 - val_loss: 3.3023\n",
      "Epoch 426/1000\n",
      "186/186 [==============================] - 0s 2ms/step - loss: 1.9523 - val_loss: 3.3907\n",
      "Epoch 427/1000\n",
      "186/186 [==============================] - 0s 2ms/step - loss: 2.0286 - val_loss: 3.2616\n",
      "Epoch 428/1000\n",
      "186/186 [==============================] - 0s 2ms/step - loss: 1.9558 - val_loss: 3.2753\n",
      "Epoch 429/1000\n",
      "186/186 [==============================] - 0s 2ms/step - loss: 1.9841 - val_loss: 3.3000\n",
      "Epoch 430/1000\n",
      "186/186 [==============================] - 0s 1ms/step - loss: 1.9642 - val_loss: 3.3353\n",
      "Epoch 431/1000\n",
      "186/186 [==============================] - 0s 1ms/step - loss: 1.9831 - val_loss: 3.3013\n",
      "Epoch 432/1000\n",
      "186/186 [==============================] - 0s 1ms/step - loss: 1.9977 - val_loss: 3.3080\n",
      "Epoch 433/1000\n",
      "186/186 [==============================] - 0s 2ms/step - loss: 1.9651 - val_loss: 3.2585\n",
      "Epoch 434/1000\n",
      "186/186 [==============================] - 0s 2ms/step - loss: 2.0318 - val_loss: 3.2463\n",
      "Epoch 435/1000\n",
      "186/186 [==============================] - 0s 2ms/step - loss: 2.0044 - val_loss: 3.3307\n",
      "Epoch 436/1000\n",
      "186/186 [==============================] - 0s 1ms/step - loss: 1.9243 - val_loss: 3.2497\n",
      "Epoch 437/1000\n",
      "186/186 [==============================] - 0s 1ms/step - loss: 1.9998 - val_loss: 3.3402\n",
      "Epoch 438/1000\n",
      "186/186 [==============================] - 0s 1ms/step - loss: 2.0049 - val_loss: 3.2614\n",
      "Epoch 439/1000\n",
      "186/186 [==============================] - 0s 1ms/step - loss: 1.9908 - val_loss: 3.2930\n",
      "Epoch 440/1000\n",
      "186/186 [==============================] - 0s 1ms/step - loss: 2.0209 - val_loss: 3.2807\n",
      "Epoch 441/1000\n",
      "186/186 [==============================] - 0s 1ms/step - loss: 2.0292 - val_loss: 3.2840\n",
      "Epoch 442/1000\n",
      "186/186 [==============================] - 0s 1ms/step - loss: 1.9729 - val_loss: 3.3456\n",
      "Epoch 443/1000\n",
      "186/186 [==============================] - 0s 1ms/step - loss: 2.1429 - val_loss: 3.2524\n",
      "Epoch 444/1000\n",
      "186/186 [==============================] - 0s 1ms/step - loss: 2.0019 - val_loss: 3.2644\n",
      "Epoch 445/1000\n",
      "186/186 [==============================] - 0s 1ms/step - loss: 2.0119 - val_loss: 3.2783\n",
      "Epoch 446/1000\n",
      "186/186 [==============================] - 0s 1ms/step - loss: 2.0636 - val_loss: 3.2146\n",
      "Epoch 447/1000\n",
      "186/186 [==============================] - 0s 1ms/step - loss: 2.0528 - val_loss: 3.3304\n",
      "Epoch 448/1000\n",
      "186/186 [==============================] - 0s 1ms/step - loss: 1.9868 - val_loss: 3.2720\n",
      "Epoch 449/1000\n",
      "186/186 [==============================] - 0s 1ms/step - loss: 1.9649 - val_loss: 3.2804\n",
      "Epoch 450/1000\n",
      "186/186 [==============================] - 0s 1ms/step - loss: 2.0573 - val_loss: 3.2392\n",
      "Epoch 451/1000\n",
      "186/186 [==============================] - 0s 1ms/step - loss: 1.9523 - val_loss: 3.3198\n",
      "Epoch 452/1000\n",
      "186/186 [==============================] - 0s 1ms/step - loss: 2.0324 - val_loss: 3.2758\n",
      "Epoch 453/1000\n",
      "186/186 [==============================] - 0s 1ms/step - loss: 2.0061 - val_loss: 3.2257\n",
      "Epoch 454/1000\n",
      "186/186 [==============================] - 0s 2ms/step - loss: 2.0700 - val_loss: 3.2243\n",
      "Epoch 455/1000\n",
      "186/186 [==============================] - 0s 1ms/step - loss: 2.0461 - val_loss: 3.3311\n",
      "Epoch 456/1000\n",
      "186/186 [==============================] - 0s 1ms/step - loss: 2.1100 - val_loss: 3.2435\n",
      "Epoch 457/1000\n",
      "186/186 [==============================] - 0s 1ms/step - loss: 2.0203 - val_loss: 3.2645\n",
      "Epoch 458/1000\n",
      "186/186 [==============================] - 0s 1ms/step - loss: 2.0563 - val_loss: 3.3055\n",
      "Epoch 459/1000\n",
      "186/186 [==============================] - 0s 1ms/step - loss: 1.9621 - val_loss: 3.3006\n",
      "Epoch 460/1000\n",
      "186/186 [==============================] - 0s 1ms/step - loss: 1.9953 - val_loss: 3.2824\n",
      "Epoch 461/1000\n",
      "186/186 [==============================] - 0s 1ms/step - loss: 2.0538 - val_loss: 3.2554\n",
      "Epoch 462/1000\n",
      "186/186 [==============================] - 0s 1ms/step - loss: 2.0687 - val_loss: 3.3009\n",
      "Epoch 463/1000\n",
      "186/186 [==============================] - 0s 1ms/step - loss: 2.0387 - val_loss: 3.2780\n",
      "Epoch 464/1000\n",
      "186/186 [==============================] - 0s 1ms/step - loss: 2.0366 - val_loss: 3.2972\n",
      "Epoch 465/1000\n",
      "186/186 [==============================] - 0s 2ms/step - loss: 1.9966 - val_loss: 3.3370\n",
      "Epoch 466/1000\n",
      "186/186 [==============================] - 0s 2ms/step - loss: 1.9978 - val_loss: 3.3272\n",
      "Epoch 467/1000\n",
      "186/186 [==============================] - 0s 2ms/step - loss: 2.0115 - val_loss: 3.2536\n",
      "Epoch 468/1000\n",
      "186/186 [==============================] - 0s 2ms/step - loss: 1.9886 - val_loss: 3.2737\n",
      "Epoch 469/1000\n",
      "186/186 [==============================] - 0s 1ms/step - loss: 2.0033 - val_loss: 3.2653\n",
      "Epoch 470/1000\n",
      "186/186 [==============================] - 0s 1ms/step - loss: 2.0210 - val_loss: 3.3270\n",
      "Epoch 471/1000\n",
      "186/186 [==============================] - 0s 1ms/step - loss: 1.9552 - val_loss: 3.2468\n",
      "Epoch 472/1000\n",
      "186/186 [==============================] - 0s 1ms/step - loss: 2.0345 - val_loss: 3.3109\n",
      "Epoch 473/1000\n",
      "186/186 [==============================] - 0s 1ms/step - loss: 2.0018 - val_loss: 3.3101\n",
      "Epoch 474/1000\n",
      "186/186 [==============================] - 0s 1ms/step - loss: 1.9941 - val_loss: 3.2664\n",
      "Epoch 475/1000\n",
      "186/186 [==============================] - 0s 1ms/step - loss: 2.0908 - val_loss: 3.2807\n",
      "Epoch 476/1000\n",
      "186/186 [==============================] - 0s 1ms/step - loss: 1.9663 - val_loss: 3.2836\n",
      "Epoch 477/1000\n",
      "186/186 [==============================] - 0s 1ms/step - loss: 2.0516 - val_loss: 3.2351\n",
      "Epoch 478/1000\n",
      "186/186 [==============================] - 0s 1ms/step - loss: 2.0022 - val_loss: 3.2630\n",
      "Epoch 479/1000\n",
      "186/186 [==============================] - 0s 1ms/step - loss: 1.9558 - val_loss: 3.2570\n",
      "Epoch 480/1000\n",
      "186/186 [==============================] - 0s 1ms/step - loss: 2.0422 - val_loss: 3.2919\n",
      "Epoch 481/1000\n",
      "186/186 [==============================] - 0s 1ms/step - loss: 2.0209 - val_loss: 3.2328\n",
      "Epoch 482/1000\n",
      "186/186 [==============================] - 0s 1ms/step - loss: 2.0476 - val_loss: 3.3000\n",
      "Epoch 483/1000\n",
      "186/186 [==============================] - 0s 1ms/step - loss: 1.9582 - val_loss: 3.2749\n",
      "Epoch 484/1000\n",
      "186/186 [==============================] - 0s 1ms/step - loss: 2.0213 - val_loss: 3.2755\n",
      "Epoch 485/1000\n",
      "186/186 [==============================] - 0s 1ms/step - loss: 2.1141 - val_loss: 3.2875\n",
      "Epoch 486/1000\n",
      "186/186 [==============================] - 0s 1ms/step - loss: 1.9794 - val_loss: 3.2892\n",
      "Epoch 487/1000\n",
      "186/186 [==============================] - 0s 1ms/step - loss: 2.0725 - val_loss: 3.2636\n",
      "Epoch 488/1000\n",
      "186/186 [==============================] - 0s 1ms/step - loss: 1.9936 - val_loss: 3.2482\n",
      "Epoch 489/1000\n",
      "186/186 [==============================] - 0s 1ms/step - loss: 1.9991 - val_loss: 3.2731\n",
      "Epoch 490/1000\n",
      "186/186 [==============================] - 0s 1ms/step - loss: 2.0660 - val_loss: 3.2963\n",
      "Epoch 491/1000\n",
      "186/186 [==============================] - 0s 2ms/step - loss: 2.0284 - val_loss: 3.3271\n",
      "Epoch 492/1000\n",
      "186/186 [==============================] - 0s 2ms/step - loss: 2.0143 - val_loss: 3.2920\n",
      "Epoch 493/1000\n",
      "186/186 [==============================] - 0s 2ms/step - loss: 2.0900 - val_loss: 3.2744\n",
      "Epoch 494/1000\n",
      "186/186 [==============================] - 0s 1ms/step - loss: 2.0759 - val_loss: 3.2765\n",
      "Epoch 495/1000\n",
      "186/186 [==============================] - 0s 2ms/step - loss: 1.9829 - val_loss: 3.2846\n",
      "Epoch 496/1000\n",
      "186/186 [==============================] - 0s 1ms/step - loss: 2.0288 - val_loss: 3.2380\n",
      "Epoch 497/1000\n",
      "186/186 [==============================] - 0s 1ms/step - loss: 1.9879 - val_loss: 3.2744\n",
      "Epoch 498/1000\n",
      "186/186 [==============================] - 0s 1ms/step - loss: 2.0951 - val_loss: 3.2513\n",
      "Epoch 499/1000\n",
      "186/186 [==============================] - 0s 1ms/step - loss: 1.9628 - val_loss: 3.2673\n",
      "Epoch 500/1000\n",
      "186/186 [==============================] - 0s 1ms/step - loss: 2.0668 - val_loss: 3.2376\n",
      "Epoch 501/1000\n",
      "186/186 [==============================] - 0s 1ms/step - loss: 2.0034 - val_loss: 3.2615\n",
      "Epoch 502/1000\n",
      "186/186 [==============================] - 0s 1ms/step - loss: 2.0176 - val_loss: 3.3043\n",
      "Epoch 503/1000\n",
      "186/186 [==============================] - 0s 1ms/step - loss: 2.0176 - val_loss: 3.2647\n",
      "Epoch 504/1000\n",
      "186/186 [==============================] - 0s 1ms/step - loss: 2.0664 - val_loss: 3.2527\n",
      "Epoch 505/1000\n",
      "186/186 [==============================] - 0s 1ms/step - loss: 1.9200 - val_loss: 3.2999\n",
      "Epoch 506/1000\n",
      "186/186 [==============================] - 0s 1ms/step - loss: 2.1337 - val_loss: 3.2824\n",
      "Epoch 507/1000\n",
      "186/186 [==============================] - 0s 1ms/step - loss: 2.1150 - val_loss: 3.2679\n",
      "Epoch 508/1000\n",
      "186/186 [==============================] - 0s 1ms/step - loss: 2.0417 - val_loss: 3.2864\n",
      "Epoch 509/1000\n",
      "186/186 [==============================] - 0s 1ms/step - loss: 1.9938 - val_loss: 3.3100\n",
      "Epoch 510/1000\n",
      "186/186 [==============================] - 0s 2ms/step - loss: 2.0833 - val_loss: 3.3039\n",
      "Epoch 511/1000\n",
      "186/186 [==============================] - 0s 2ms/step - loss: 1.9750 - val_loss: 3.3247\n",
      "Epoch 512/1000\n",
      "186/186 [==============================] - 0s 1ms/step - loss: 2.0916 - val_loss: 3.3199\n",
      "Epoch 513/1000\n",
      "186/186 [==============================] - 0s 1ms/step - loss: 2.0096 - val_loss: 3.2787\n",
      "Epoch 514/1000\n",
      "186/186 [==============================] - 0s 1ms/step - loss: 1.9218 - val_loss: 3.2614\n",
      "Epoch 515/1000\n",
      "186/186 [==============================] - 0s 1ms/step - loss: 2.0486 - val_loss: 3.2637\n",
      "Epoch 516/1000\n",
      "186/186 [==============================] - 0s 1ms/step - loss: 2.0214 - val_loss: 3.2915\n",
      "Epoch 517/1000\n",
      "186/186 [==============================] - 0s 1ms/step - loss: 1.9396 - val_loss: 3.3005\n",
      "Epoch 518/1000\n",
      "186/186 [==============================] - 0s 1ms/step - loss: 1.9554 - val_loss: 3.3236\n",
      "Epoch 519/1000\n",
      "186/186 [==============================] - 0s 1ms/step - loss: 2.0170 - val_loss: 3.2887\n",
      "Epoch 520/1000\n",
      "186/186 [==============================] - 0s 1ms/step - loss: 2.0237 - val_loss: 3.3118\n",
      "Epoch 521/1000\n",
      "186/186 [==============================] - 0s 1ms/step - loss: 2.0238 - val_loss: 3.3737\n",
      "Epoch 522/1000\n",
      "186/186 [==============================] - 0s 1ms/step - loss: 2.0457 - val_loss: 3.2695\n",
      "Epoch 523/1000\n",
      "186/186 [==============================] - 0s 2ms/step - loss: 2.0773 - val_loss: 3.3182\n",
      "Epoch 524/1000\n",
      "186/186 [==============================] - 0s 2ms/step - loss: 2.0077 - val_loss: 3.3543\n",
      "Epoch 525/1000\n",
      "186/186 [==============================] - 0s 1ms/step - loss: 1.9870 - val_loss: 3.3033\n",
      "Epoch 526/1000\n",
      "186/186 [==============================] - 0s 1ms/step - loss: 2.0483 - val_loss: 3.2818\n",
      "Epoch 527/1000\n",
      "186/186 [==============================] - 0s 1ms/step - loss: 2.0300 - val_loss: 3.2923\n",
      "Epoch 528/1000\n",
      "186/186 [==============================] - 0s 1ms/step - loss: 2.0225 - val_loss: 3.2938\n",
      "Epoch 529/1000\n",
      "186/186 [==============================] - 0s 1ms/step - loss: 1.9913 - val_loss: 3.3830\n",
      "Epoch 530/1000\n",
      "186/186 [==============================] - 0s 1ms/step - loss: 2.1187 - val_loss: 3.2259\n",
      "Epoch 531/1000\n",
      "186/186 [==============================] - 0s 1ms/step - loss: 1.9464 - val_loss: 3.2456\n",
      "Epoch 532/1000\n",
      "186/186 [==============================] - 0s 1ms/step - loss: 2.0489 - val_loss: 3.3035\n",
      "Epoch 533/1000\n",
      "186/186 [==============================] - 0s 1ms/step - loss: 1.9560 - val_loss: 3.3300\n",
      "Epoch 534/1000\n",
      "186/186 [==============================] - 0s 1ms/step - loss: 1.9977 - val_loss: 3.2673\n",
      "Epoch 535/1000\n",
      "186/186 [==============================] - 0s 1ms/step - loss: 2.0110 - val_loss: 3.3620\n",
      "Epoch 536/1000\n",
      "186/186 [==============================] - 0s 1ms/step - loss: 1.9670 - val_loss: 3.3198\n",
      "Epoch 537/1000\n",
      "186/186 [==============================] - 0s 1ms/step - loss: 1.9384 - val_loss: 3.2809\n",
      "Epoch 538/1000\n",
      "186/186 [==============================] - 0s 1ms/step - loss: 1.9757 - val_loss: 3.2550\n",
      "Epoch 539/1000\n",
      "186/186 [==============================] - 0s 1ms/step - loss: 2.0180 - val_loss: 3.2876\n",
      "Epoch 540/1000\n",
      "186/186 [==============================] - 0s 1ms/step - loss: 2.0191 - val_loss: 3.2538\n",
      "Epoch 541/1000\n",
      "186/186 [==============================] - 0s 1ms/step - loss: 1.9997 - val_loss: 3.2732\n",
      "Epoch 542/1000\n",
      "186/186 [==============================] - 0s 1ms/step - loss: 1.9061 - val_loss: 3.2951\n",
      "Epoch 543/1000\n",
      "186/186 [==============================] - 0s 1ms/step - loss: 2.0065 - val_loss: 3.3281\n",
      "Epoch 544/1000\n",
      "186/186 [==============================] - 0s 1ms/step - loss: 2.0370 - val_loss: 3.3016\n",
      "Epoch 545/1000\n",
      "186/186 [==============================] - 0s 1ms/step - loss: 1.9879 - val_loss: 3.2446\n",
      "Epoch 546/1000\n",
      "186/186 [==============================] - 0s 1ms/step - loss: 1.9310 - val_loss: 3.2819\n",
      "Epoch 547/1000\n",
      "186/186 [==============================] - 0s 1ms/step - loss: 2.0288 - val_loss: 3.3187\n",
      "Epoch 548/1000\n",
      "186/186 [==============================] - 0s 1ms/step - loss: 1.9936 - val_loss: 3.3135\n",
      "Epoch 549/1000\n",
      "186/186 [==============================] - 0s 2ms/step - loss: 1.9903 - val_loss: 3.2885\n",
      "Epoch 550/1000\n",
      "186/186 [==============================] - 0s 1ms/step - loss: 2.0021 - val_loss: 3.2566\n",
      "Epoch 551/1000\n",
      "186/186 [==============================] - 0s 1ms/step - loss: 2.0091 - val_loss: 3.2856\n",
      "Epoch 552/1000\n",
      "186/186 [==============================] - 0s 1ms/step - loss: 2.0703 - val_loss: 3.3368\n",
      "Epoch 553/1000\n",
      "186/186 [==============================] - 0s 1ms/step - loss: 2.0264 - val_loss: 3.2747\n",
      "Epoch 554/1000\n",
      "186/186 [==============================] - 0s 1ms/step - loss: 2.0046 - val_loss: 3.2922\n",
      "Epoch 555/1000\n",
      "186/186 [==============================] - 0s 1ms/step - loss: 1.9616 - val_loss: 3.3105\n",
      "Epoch 556/1000\n",
      "186/186 [==============================] - 0s 1ms/step - loss: 2.0372 - val_loss: 3.3224\n",
      "Epoch 557/1000\n",
      "186/186 [==============================] - 0s 1ms/step - loss: 2.0121 - val_loss: 3.3201\n",
      "Epoch 558/1000\n",
      "186/186 [==============================] - 0s 1ms/step - loss: 1.9451 - val_loss: 3.2772\n",
      "Epoch 559/1000\n",
      "186/186 [==============================] - 0s 1ms/step - loss: 1.9528 - val_loss: 3.2661\n",
      "Epoch 560/1000\n",
      "186/186 [==============================] - 0s 1ms/step - loss: 2.0385 - val_loss: 3.2674\n",
      "Epoch 561/1000\n",
      "186/186 [==============================] - 0s 1ms/step - loss: 2.0360 - val_loss: 3.2843\n",
      "Epoch 562/1000\n",
      "186/186 [==============================] - 0s 1ms/step - loss: 2.0592 - val_loss: 3.3193\n",
      "Epoch 563/1000\n",
      "186/186 [==============================] - 0s 1ms/step - loss: 2.0230 - val_loss: 3.2824\n",
      "Epoch 564/1000\n",
      "186/186 [==============================] - 0s 1ms/step - loss: 1.9781 - val_loss: 3.2957\n",
      "Epoch 565/1000\n",
      "186/186 [==============================] - 0s 1ms/step - loss: 2.0651 - val_loss: 3.3470\n",
      "Epoch 566/1000\n",
      "186/186 [==============================] - 0s 1ms/step - loss: 2.0385 - val_loss: 3.2680\n",
      "Epoch 567/1000\n",
      "186/186 [==============================] - 0s 1ms/step - loss: 2.0467 - val_loss: 3.3163\n",
      "Epoch 568/1000\n",
      "186/186 [==============================] - 0s 1ms/step - loss: 2.0204 - val_loss: 3.3120\n",
      "Epoch 569/1000\n",
      "186/186 [==============================] - 0s 1ms/step - loss: 2.0173 - val_loss: 3.2775\n",
      "Epoch 570/1000\n",
      "186/186 [==============================] - 0s 1ms/step - loss: 2.0396 - val_loss: 3.2858\n",
      "Epoch 571/1000\n",
      "186/186 [==============================] - 0s 1ms/step - loss: 1.9356 - val_loss: 3.2519\n",
      "Epoch 572/1000\n",
      "186/186 [==============================] - 0s 1ms/step - loss: 2.0119 - val_loss: 3.2747\n",
      "Epoch 573/1000\n",
      "186/186 [==============================] - 0s 1ms/step - loss: 1.9970 - val_loss: 3.3033\n",
      "Epoch 574/1000\n",
      "186/186 [==============================] - 0s 1ms/step - loss: 1.9568 - val_loss: 3.3221\n",
      "Epoch 575/1000\n",
      "186/186 [==============================] - 0s 1ms/step - loss: 2.0453 - val_loss: 3.3051\n",
      "Epoch 576/1000\n",
      "186/186 [==============================] - 0s 1ms/step - loss: 2.0296 - val_loss: 3.2539\n",
      "Epoch 577/1000\n",
      "186/186 [==============================] - 0s 2ms/step - loss: 2.0715 - val_loss: 3.2662\n",
      "Epoch 578/1000\n",
      "186/186 [==============================] - 0s 1ms/step - loss: 2.0178 - val_loss: 3.2811\n",
      "Epoch 579/1000\n",
      "186/186 [==============================] - 0s 1ms/step - loss: 1.8966 - val_loss: 3.3282\n",
      "Epoch 580/1000\n",
      "186/186 [==============================] - 0s 1ms/step - loss: 2.0156 - val_loss: 3.2840\n",
      "Epoch 581/1000\n",
      "186/186 [==============================] - 0s 1ms/step - loss: 2.0646 - val_loss: 3.2622\n",
      "Epoch 582/1000\n",
      "186/186 [==============================] - 0s 1ms/step - loss: 2.0034 - val_loss: 3.3173\n",
      "Epoch 583/1000\n",
      "186/186 [==============================] - 0s 1ms/step - loss: 2.0124 - val_loss: 3.2835\n",
      "Epoch 584/1000\n",
      "186/186 [==============================] - 0s 1ms/step - loss: 2.0362 - val_loss: 3.2888\n",
      "Epoch 585/1000\n",
      "186/186 [==============================] - 0s 1ms/step - loss: 2.0525 - val_loss: 3.2544\n",
      "Epoch 586/1000\n",
      "186/186 [==============================] - 0s 1ms/step - loss: 2.0334 - val_loss: 3.2678\n",
      "Epoch 587/1000\n",
      "186/186 [==============================] - 0s 1ms/step - loss: 2.0290 - val_loss: 3.2754\n",
      "Epoch 588/1000\n",
      "186/186 [==============================] - 0s 1ms/step - loss: 1.9534 - val_loss: 3.3521\n",
      "Epoch 589/1000\n",
      "186/186 [==============================] - 0s 1ms/step - loss: 2.0763 - val_loss: 3.2553\n",
      "Epoch 590/1000\n",
      "186/186 [==============================] - 0s 1ms/step - loss: 2.0002 - val_loss: 3.2640\n",
      "Epoch 591/1000\n",
      "186/186 [==============================] - 0s 1ms/step - loss: 2.0501 - val_loss: 3.2542\n",
      "Epoch 592/1000\n",
      "186/186 [==============================] - 0s 1ms/step - loss: 1.9885 - val_loss: 3.2894\n",
      "Epoch 593/1000\n",
      "186/186 [==============================] - 0s 1ms/step - loss: 2.0435 - val_loss: 3.3100\n",
      "Epoch 594/1000\n",
      "186/186 [==============================] - 0s 1ms/step - loss: 2.0663 - val_loss: 3.2868\n",
      "Epoch 595/1000\n",
      "186/186 [==============================] - 0s 1ms/step - loss: 2.0381 - val_loss: 3.3171\n",
      "Epoch 596/1000\n",
      "186/186 [==============================] - 0s 1ms/step - loss: 2.0276 - val_loss: 3.3221\n",
      "Epoch 597/1000\n",
      "186/186 [==============================] - 0s 1ms/step - loss: 2.0511 - val_loss: 3.3527\n",
      "Epoch 598/1000\n",
      "186/186 [==============================] - 0s 1ms/step - loss: 1.9979 - val_loss: 3.3076\n",
      "Epoch 599/1000\n",
      "186/186 [==============================] - 0s 1ms/step - loss: 2.0084 - val_loss: 3.2684\n",
      "Epoch 600/1000\n",
      "186/186 [==============================] - 0s 1ms/step - loss: 2.0107 - val_loss: 3.3216\n",
      "Epoch 601/1000\n",
      "186/186 [==============================] - 0s 1ms/step - loss: 2.0191 - val_loss: 3.3128\n",
      "Epoch 602/1000\n",
      "186/186 [==============================] - 0s 1ms/step - loss: 2.0202 - val_loss: 3.2790\n",
      "Epoch 603/1000\n",
      "186/186 [==============================] - 0s 1ms/step - loss: 2.0311 - val_loss: 3.2590\n",
      "Epoch 604/1000\n",
      "186/186 [==============================] - 0s 2ms/step - loss: 1.9662 - val_loss: 3.3174\n",
      "Epoch 605/1000\n",
      "186/186 [==============================] - 0s 1ms/step - loss: 2.0318 - val_loss: 3.2898\n",
      "Epoch 606/1000\n",
      "186/186 [==============================] - 0s 1ms/step - loss: 2.0219 - val_loss: 3.2444\n",
      "Epoch 607/1000\n",
      "186/186 [==============================] - 0s 1ms/step - loss: 1.9745 - val_loss: 3.2847\n",
      "Epoch 608/1000\n",
      "186/186 [==============================] - 0s 1ms/step - loss: 1.9660 - val_loss: 3.2422\n",
      "Epoch 609/1000\n",
      "186/186 [==============================] - 0s 1ms/step - loss: 2.0099 - val_loss: 3.3119\n",
      "Epoch 610/1000\n",
      "186/186 [==============================] - 0s 1ms/step - loss: 2.0659 - val_loss: 3.2941\n",
      "Epoch 611/1000\n",
      "186/186 [==============================] - 0s 1ms/step - loss: 1.9728 - val_loss: 3.2745\n",
      "Epoch 612/1000\n",
      "186/186 [==============================] - 0s 1ms/step - loss: 1.9591 - val_loss: 3.3493\n",
      "Epoch 613/1000\n",
      "186/186 [==============================] - 0s 1ms/step - loss: 1.9470 - val_loss: 3.2418\n",
      "Epoch 614/1000\n",
      "186/186 [==============================] - 0s 1ms/step - loss: 2.0336 - val_loss: 3.3000\n",
      "Epoch 615/1000\n",
      "186/186 [==============================] - 0s 1ms/step - loss: 2.0495 - val_loss: 3.2955\n",
      "Epoch 616/1000\n",
      "186/186 [==============================] - 0s 1ms/step - loss: 2.0893 - val_loss: 3.2466\n",
      "Epoch 617/1000\n",
      "186/186 [==============================] - 0s 1ms/step - loss: 1.9932 - val_loss: 3.2694\n",
      "Epoch 618/1000\n",
      "186/186 [==============================] - 0s 1ms/step - loss: 2.0656 - val_loss: 3.2925\n",
      "Epoch 619/1000\n",
      "186/186 [==============================] - 0s 1ms/step - loss: 2.0402 - val_loss: 3.2492\n",
      "Epoch 620/1000\n",
      "186/186 [==============================] - 0s 2ms/step - loss: 1.9784 - val_loss: 3.2569\n",
      "Epoch 621/1000\n",
      "186/186 [==============================] - 0s 1ms/step - loss: 2.0761 - val_loss: 3.3185\n",
      "Epoch 622/1000\n",
      "186/186 [==============================] - 0s 1ms/step - loss: 1.9792 - val_loss: 3.3181\n",
      "Epoch 623/1000\n",
      "186/186 [==============================] - 0s 1ms/step - loss: 2.0474 - val_loss: 3.2666\n",
      "Epoch 624/1000\n",
      "186/186 [==============================] - 0s 1ms/step - loss: 1.9627 - val_loss: 3.3197\n",
      "Epoch 625/1000\n",
      "186/186 [==============================] - 0s 1ms/step - loss: 1.9933 - val_loss: 3.3315\n",
      "Epoch 626/1000\n",
      "186/186 [==============================] - 0s 1ms/step - loss: 2.0212 - val_loss: 3.2832\n",
      "Epoch 627/1000\n",
      "186/186 [==============================] - 0s 1ms/step - loss: 2.0313 - val_loss: 3.3040\n",
      "Epoch 628/1000\n",
      "186/186 [==============================] - 0s 1ms/step - loss: 2.0510 - val_loss: 3.2717\n",
      "Epoch 629/1000\n",
      "186/186 [==============================] - 0s 1ms/step - loss: 1.9749 - val_loss: 3.3194\n",
      "Epoch 630/1000\n",
      "186/186 [==============================] - 0s 1ms/step - loss: 2.1138 - val_loss: 3.2458\n",
      "Epoch 631/1000\n",
      "186/186 [==============================] - 0s 1ms/step - loss: 1.9948 - val_loss: 3.2766\n",
      "Epoch 632/1000\n",
      "186/186 [==============================] - 0s 1ms/step - loss: 2.0838 - val_loss: 3.2676\n",
      "Epoch 633/1000\n",
      "186/186 [==============================] - 0s 2ms/step - loss: 2.0331 - val_loss: 3.2872\n",
      "Epoch 634/1000\n",
      "186/186 [==============================] - 0s 2ms/step - loss: 1.9220 - val_loss: 3.3058\n",
      "Epoch 635/1000\n",
      "186/186 [==============================] - 0s 1ms/step - loss: 2.0348 - val_loss: 3.3063\n",
      "Epoch 636/1000\n",
      "186/186 [==============================] - 0s 1ms/step - loss: 1.9915 - val_loss: 3.2762\n",
      "Epoch 637/1000\n",
      "186/186 [==============================] - 0s 1ms/step - loss: 2.0729 - val_loss: 3.3171\n",
      "Epoch 638/1000\n",
      "186/186 [==============================] - 0s 1ms/step - loss: 1.9967 - val_loss: 3.2819\n",
      "Epoch 639/1000\n",
      "186/186 [==============================] - 0s 1ms/step - loss: 2.1186 - val_loss: 3.2695\n",
      "Epoch 640/1000\n",
      "186/186 [==============================] - 0s 1ms/step - loss: 1.9949 - val_loss: 3.2579\n",
      "Epoch 641/1000\n",
      "186/186 [==============================] - 0s 1ms/step - loss: 2.0272 - val_loss: 3.2940\n",
      "Epoch 642/1000\n",
      "186/186 [==============================] - 0s 1ms/step - loss: 1.9831 - val_loss: 3.3250\n",
      "Epoch 643/1000\n",
      "186/186 [==============================] - 0s 1ms/step - loss: 1.9823 - val_loss: 3.2916\n",
      "Epoch 644/1000\n",
      "186/186 [==============================] - 0s 1ms/step - loss: 2.0658 - val_loss: 3.2483\n",
      "Epoch 645/1000\n",
      "186/186 [==============================] - 0s 1ms/step - loss: 1.9475 - val_loss: 3.2850\n",
      "Epoch 646/1000\n",
      "186/186 [==============================] - 0s 2ms/step - loss: 1.9901 - val_loss: 3.2613\n",
      "Epoch 647/1000\n",
      "186/186 [==============================] - 0s 2ms/step - loss: 1.9099 - val_loss: 3.3060\n",
      "Epoch 648/1000\n",
      "186/186 [==============================] - 0s 2ms/step - loss: 1.9330 - val_loss: 3.3055\n",
      "Epoch 649/1000\n",
      "186/186 [==============================] - 0s 2ms/step - loss: 2.0599 - val_loss: 3.2856\n",
      "Epoch 650/1000\n",
      "186/186 [==============================] - 0s 2ms/step - loss: 2.0550 - val_loss: 3.2808\n",
      "Epoch 651/1000\n",
      "186/186 [==============================] - 0s 2ms/step - loss: 1.9534 - val_loss: 3.3376\n",
      "Epoch 652/1000\n",
      "186/186 [==============================] - 0s 2ms/step - loss: 2.0239 - val_loss: 3.2895\n",
      "Epoch 653/1000\n",
      "186/186 [==============================] - 0s 1ms/step - loss: 2.0521 - val_loss: 3.2954\n",
      "Epoch 654/1000\n",
      "186/186 [==============================] - 0s 1ms/step - loss: 1.9699 - val_loss: 3.3087\n",
      "Epoch 655/1000\n",
      "186/186 [==============================] - 0s 1ms/step - loss: 1.9787 - val_loss: 3.2923\n",
      "Epoch 656/1000\n",
      "186/186 [==============================] - 0s 1ms/step - loss: 2.1065 - val_loss: 3.2459\n",
      "Epoch 657/1000\n",
      "186/186 [==============================] - 0s 1ms/step - loss: 2.0727 - val_loss: 3.2844\n",
      "Epoch 658/1000\n",
      "186/186 [==============================] - 0s 1ms/step - loss: 2.0153 - val_loss: 3.2415\n",
      "Epoch 659/1000\n",
      "186/186 [==============================] - 0s 2ms/step - loss: 2.0367 - val_loss: 3.2660\n",
      "Epoch 660/1000\n",
      "186/186 [==============================] - 0s 1ms/step - loss: 2.0149 - val_loss: 3.2757\n",
      "Epoch 661/1000\n",
      "186/186 [==============================] - 0s 1ms/step - loss: 1.9456 - val_loss: 3.3157\n",
      "Epoch 662/1000\n",
      "186/186 [==============================] - 0s 1ms/step - loss: 2.0152 - val_loss: 3.2515\n",
      "Epoch 663/1000\n",
      "186/186 [==============================] - 0s 1ms/step - loss: 1.9707 - val_loss: 3.3836\n",
      "Epoch 664/1000\n",
      "186/186 [==============================] - 0s 1ms/step - loss: 1.9931 - val_loss: 3.2692\n",
      "Epoch 665/1000\n",
      "186/186 [==============================] - 0s 1ms/step - loss: 2.0269 - val_loss: 3.2630\n",
      "Epoch 666/1000\n",
      "186/186 [==============================] - 0s 1ms/step - loss: 1.9338 - val_loss: 3.2502\n",
      "Epoch 667/1000\n",
      "186/186 [==============================] - 0s 1ms/step - loss: 2.0105 - val_loss: 3.3139\n",
      "Epoch 668/1000\n",
      "186/186 [==============================] - 0s 2ms/step - loss: 2.0804 - val_loss: 3.3236\n",
      "Epoch 669/1000\n",
      "186/186 [==============================] - 0s 1ms/step - loss: 2.0327 - val_loss: 3.3019\n",
      "Epoch 670/1000\n",
      "186/186 [==============================] - 0s 1ms/step - loss: 2.0682 - val_loss: 3.3001\n",
      "Epoch 671/1000\n",
      "186/186 [==============================] - 0s 1ms/step - loss: 1.9830 - val_loss: 3.2798\n",
      "Epoch 672/1000\n",
      "186/186 [==============================] - 0s 1ms/step - loss: 2.0276 - val_loss: 3.3037\n",
      "Epoch 673/1000\n",
      "186/186 [==============================] - 0s 1ms/step - loss: 1.9992 - val_loss: 3.3090\n",
      "Epoch 674/1000\n",
      "186/186 [==============================] - 0s 1ms/step - loss: 1.9364 - val_loss: 3.2745\n",
      "Epoch 675/1000\n",
      "186/186 [==============================] - 0s 1ms/step - loss: 1.9380 - val_loss: 3.2836\n",
      "Epoch 676/1000\n",
      "186/186 [==============================] - 0s 1ms/step - loss: 1.9934 - val_loss: 3.2928\n",
      "Epoch 677/1000\n",
      "186/186 [==============================] - 0s 1ms/step - loss: 2.0407 - val_loss: 3.2751\n",
      "Epoch 678/1000\n",
      "186/186 [==============================] - 0s 1ms/step - loss: 2.0684 - val_loss: 3.2944\n",
      "Epoch 679/1000\n",
      "186/186 [==============================] - 0s 1ms/step - loss: 2.0365 - val_loss: 3.3307\n",
      "Epoch 680/1000\n",
      "186/186 [==============================] - 0s 1ms/step - loss: 2.0144 - val_loss: 3.2805\n",
      "Epoch 681/1000\n",
      "186/186 [==============================] - 0s 1ms/step - loss: 2.0350 - val_loss: 3.2721\n",
      "Epoch 682/1000\n",
      "186/186 [==============================] - 0s 1ms/step - loss: 2.0103 - val_loss: 3.2651\n",
      "Epoch 683/1000\n",
      "186/186 [==============================] - 0s 1ms/step - loss: 1.9802 - val_loss: 3.2140\n",
      "Epoch 684/1000\n",
      "186/186 [==============================] - 0s 1ms/step - loss: 2.0436 - val_loss: 3.2881\n",
      "Epoch 685/1000\n",
      "186/186 [==============================] - 0s 1ms/step - loss: 2.0057 - val_loss: 3.3582\n",
      "Epoch 686/1000\n",
      "186/186 [==============================] - 0s 1ms/step - loss: 1.9972 - val_loss: 3.2900\n",
      "Epoch 687/1000\n",
      "186/186 [==============================] - 0s 1ms/step - loss: 2.0875 - val_loss: 3.3120\n",
      "Epoch 688/1000\n",
      "186/186 [==============================] - 0s 1ms/step - loss: 2.0600 - val_loss: 3.2834\n",
      "Epoch 689/1000\n",
      "186/186 [==============================] - 0s 1ms/step - loss: 1.9956 - val_loss: 3.2717\n",
      "Epoch 690/1000\n",
      "186/186 [==============================] - 0s 1ms/step - loss: 1.9732 - val_loss: 3.3279\n",
      "Epoch 691/1000\n",
      "186/186 [==============================] - 0s 1ms/step - loss: 1.9569 - val_loss: 3.2828\n",
      "Epoch 692/1000\n",
      "186/186 [==============================] - 0s 1ms/step - loss: 2.0191 - val_loss: 3.2804\n",
      "Epoch 693/1000\n",
      "186/186 [==============================] - 0s 1ms/step - loss: 2.0012 - val_loss: 3.2814\n",
      "Epoch 694/1000\n",
      "186/186 [==============================] - 0s 1ms/step - loss: 1.9970 - val_loss: 3.2819\n",
      "Epoch 695/1000\n",
      "186/186 [==============================] - 0s 1ms/step - loss: 2.0129 - val_loss: 3.2783\n",
      "Epoch 696/1000\n",
      "186/186 [==============================] - 0s 2ms/step - loss: 1.9647 - val_loss: 3.2729\n",
      "Epoch 697/1000\n",
      "186/186 [==============================] - 0s 1ms/step - loss: 2.0820 - val_loss: 3.2979\n",
      "Epoch 698/1000\n",
      "186/186 [==============================] - 0s 1ms/step - loss: 1.9805 - val_loss: 3.2885\n",
      "Epoch 699/1000\n",
      "186/186 [==============================] - 0s 1ms/step - loss: 2.0459 - val_loss: 3.3167\n",
      "Epoch 700/1000\n",
      "186/186 [==============================] - 0s 1ms/step - loss: 2.0513 - val_loss: 3.2930\n",
      "Epoch 701/1000\n",
      "186/186 [==============================] - 0s 1ms/step - loss: 2.0495 - val_loss: 3.2883\n",
      "Epoch 702/1000\n",
      "186/186 [==============================] - 0s 1ms/step - loss: 1.9190 - val_loss: 3.3491\n",
      "Epoch 703/1000\n",
      "186/186 [==============================] - 0s 1ms/step - loss: 2.0551 - val_loss: 3.3452\n",
      "Epoch 704/1000\n",
      "186/186 [==============================] - 0s 1ms/step - loss: 1.9741 - val_loss: 3.3110\n",
      "Epoch 705/1000\n",
      "186/186 [==============================] - 0s 1ms/step - loss: 2.0437 - val_loss: 3.2826\n",
      "Epoch 706/1000\n",
      "186/186 [==============================] - 0s 1ms/step - loss: 2.0017 - val_loss: 3.3083\n",
      "Epoch 707/1000\n",
      "186/186 [==============================] - 0s 1ms/step - loss: 1.9663 - val_loss: 3.2444\n",
      "Epoch 708/1000\n",
      "186/186 [==============================] - 0s 2ms/step - loss: 1.9878 - val_loss: 3.2665\n",
      "Epoch 709/1000\n",
      "186/186 [==============================] - 0s 1ms/step - loss: 1.9942 - val_loss: 3.3466\n",
      "Epoch 710/1000\n",
      "186/186 [==============================] - 0s 1ms/step - loss: 1.9861 - val_loss: 3.2947\n",
      "Epoch 711/1000\n",
      "186/186 [==============================] - 0s 1ms/step - loss: 2.0020 - val_loss: 3.3550\n",
      "Epoch 712/1000\n",
      "186/186 [==============================] - 0s 1ms/step - loss: 1.9722 - val_loss: 3.2966\n",
      "Epoch 713/1000\n",
      "186/186 [==============================] - 0s 1ms/step - loss: 1.9816 - val_loss: 3.2840\n",
      "Epoch 714/1000\n",
      "186/186 [==============================] - 0s 2ms/step - loss: 1.9726 - val_loss: 3.2751\n",
      "Epoch 715/1000\n",
      "186/186 [==============================] - 0s 2ms/step - loss: 1.9866 - val_loss: 3.2987\n",
      "Epoch 716/1000\n",
      "186/186 [==============================] - 0s 2ms/step - loss: 1.9841 - val_loss: 3.3061\n",
      "Epoch 717/1000\n",
      "186/186 [==============================] - 0s 2ms/step - loss: 1.9316 - val_loss: 3.2397\n",
      "Epoch 718/1000\n",
      "186/186 [==============================] - 0s 2ms/step - loss: 1.8846 - val_loss: 3.2440\n",
      "Epoch 719/1000\n",
      "186/186 [==============================] - 0s 1ms/step - loss: 2.0284 - val_loss: 3.2906\n",
      "Epoch 720/1000\n",
      "186/186 [==============================] - 0s 1ms/step - loss: 2.1083 - val_loss: 3.2611\n",
      "Epoch 721/1000\n",
      "186/186 [==============================] - 0s 1ms/step - loss: 2.0027 - val_loss: 3.2946\n",
      "Epoch 722/1000\n",
      "186/186 [==============================] - 0s 1ms/step - loss: 1.9838 - val_loss: 3.2851\n",
      "Epoch 723/1000\n",
      "186/186 [==============================] - 0s 1ms/step - loss: 1.9938 - val_loss: 3.3017\n",
      "Epoch 724/1000\n",
      "186/186 [==============================] - 0s 1ms/step - loss: 1.9895 - val_loss: 3.2751\n",
      "Epoch 725/1000\n",
      "186/186 [==============================] - 0s 1ms/step - loss: 2.0479 - val_loss: 3.2623\n",
      "Epoch 726/1000\n",
      "186/186 [==============================] - 0s 1ms/step - loss: 1.9959 - val_loss: 3.2765\n",
      "Epoch 727/1000\n",
      "186/186 [==============================] - 0s 1ms/step - loss: 1.9961 - val_loss: 3.2860\n",
      "Epoch 728/1000\n",
      "186/186 [==============================] - 0s 1ms/step - loss: 1.9798 - val_loss: 3.2349\n",
      "Epoch 729/1000\n",
      "186/186 [==============================] - 0s 1ms/step - loss: 2.0537 - val_loss: 3.2485\n",
      "Epoch 730/1000\n",
      "186/186 [==============================] - 0s 1ms/step - loss: 2.0447 - val_loss: 3.2903\n",
      "Epoch 731/1000\n",
      "186/186 [==============================] - 0s 1ms/step - loss: 2.0961 - val_loss: 3.2683\n",
      "Epoch 732/1000\n",
      "186/186 [==============================] - 0s 1ms/step - loss: 1.9657 - val_loss: 3.2960\n",
      "Epoch 733/1000\n",
      "186/186 [==============================] - 0s 1ms/step - loss: 2.0694 - val_loss: 3.2970\n",
      "Epoch 734/1000\n",
      "186/186 [==============================] - 0s 1ms/step - loss: 1.9615 - val_loss: 3.3148\n",
      "Epoch 735/1000\n",
      "186/186 [==============================] - 0s 1ms/step - loss: 1.9799 - val_loss: 3.2627\n",
      "Epoch 736/1000\n",
      "186/186 [==============================] - 0s 2ms/step - loss: 1.9881 - val_loss: 3.2899\n",
      "Epoch 737/1000\n",
      "186/186 [==============================] - 0s 1ms/step - loss: 2.0104 - val_loss: 3.3586\n",
      "Epoch 738/1000\n",
      "186/186 [==============================] - 0s 1ms/step - loss: 2.0402 - val_loss: 3.2676\n",
      "Epoch 739/1000\n",
      "186/186 [==============================] - 0s 1ms/step - loss: 2.1018 - val_loss: 3.2722\n",
      "Epoch 740/1000\n",
      "186/186 [==============================] - 0s 1ms/step - loss: 1.9674 - val_loss: 3.2842\n",
      "Epoch 741/1000\n",
      "186/186 [==============================] - 0s 1ms/step - loss: 2.0527 - val_loss: 3.2734\n",
      "Epoch 742/1000\n",
      "186/186 [==============================] - 0s 1ms/step - loss: 1.9433 - val_loss: 3.2709\n",
      "Epoch 743/1000\n",
      "186/186 [==============================] - 0s 1ms/step - loss: 2.0488 - val_loss: 3.2692\n",
      "Epoch 744/1000\n",
      "186/186 [==============================] - 0s 1ms/step - loss: 2.0678 - val_loss: 3.2988\n",
      "Epoch 745/1000\n",
      "186/186 [==============================] - 0s 2ms/step - loss: 2.0375 - val_loss: 3.3239\n",
      "Epoch 746/1000\n",
      "186/186 [==============================] - 0s 2ms/step - loss: 2.0492 - val_loss: 3.2643\n",
      "Epoch 747/1000\n",
      "186/186 [==============================] - 0s 1ms/step - loss: 1.9344 - val_loss: 3.3498\n",
      "Epoch 748/1000\n",
      "186/186 [==============================] - 0s 1ms/step - loss: 1.9849 - val_loss: 3.3489\n",
      "Epoch 749/1000\n",
      "186/186 [==============================] - 0s 1ms/step - loss: 1.9712 - val_loss: 3.2733\n",
      "Epoch 750/1000\n",
      "186/186 [==============================] - 1s 3ms/step - loss: 2.0578 - val_loss: 3.2324\n",
      "Epoch 751/1000\n",
      "186/186 [==============================] - 0s 2ms/step - loss: 1.9794 - val_loss: 3.3506\n",
      "Epoch 752/1000\n",
      "186/186 [==============================] - 0s 1ms/step - loss: 2.0430 - val_loss: 3.3658\n",
      "Epoch 753/1000\n",
      "186/186 [==============================] - 0s 1ms/step - loss: 1.9802 - val_loss: 3.2837\n",
      "Epoch 754/1000\n",
      "186/186 [==============================] - 0s 2ms/step - loss: 2.0002 - val_loss: 3.2824\n",
      "Epoch 755/1000\n",
      "186/186 [==============================] - 0s 2ms/step - loss: 2.0033 - val_loss: 3.2321\n",
      "Epoch 756/1000\n",
      "186/186 [==============================] - 0s 2ms/step - loss: 1.9918 - val_loss: 3.3208\n",
      "Epoch 757/1000\n",
      "186/186 [==============================] - 0s 1ms/step - loss: 2.0770 - val_loss: 3.2433\n",
      "Epoch 758/1000\n",
      "186/186 [==============================] - 0s 2ms/step - loss: 1.9619 - val_loss: 3.2653\n",
      "Epoch 759/1000\n",
      "186/186 [==============================] - 0s 2ms/step - loss: 1.9529 - val_loss: 3.3044\n",
      "Epoch 760/1000\n",
      "186/186 [==============================] - 0s 2ms/step - loss: 1.9949 - val_loss: 3.2683\n",
      "Epoch 761/1000\n",
      "186/186 [==============================] - 0s 1ms/step - loss: 2.0322 - val_loss: 3.2940\n",
      "Epoch 762/1000\n",
      "186/186 [==============================] - 0s 1ms/step - loss: 2.0955 - val_loss: 3.3052\n",
      "Epoch 763/1000\n",
      "186/186 [==============================] - 0s 1ms/step - loss: 1.9591 - val_loss: 3.3118\n",
      "Epoch 764/1000\n",
      "186/186 [==============================] - 0s 2ms/step - loss: 1.9806 - val_loss: 3.2764\n",
      "Epoch 765/1000\n",
      "186/186 [==============================] - 0s 1ms/step - loss: 1.9732 - val_loss: 3.2734\n",
      "Epoch 766/1000\n",
      "186/186 [==============================] - 0s 1ms/step - loss: 2.1170 - val_loss: 3.2560\n",
      "Epoch 767/1000\n",
      "186/186 [==============================] - 0s 2ms/step - loss: 2.0482 - val_loss: 3.2858\n",
      "Epoch 768/1000\n",
      "186/186 [==============================] - 0s 2ms/step - loss: 2.0000 - val_loss: 3.2528\n",
      "Epoch 769/1000\n",
      "186/186 [==============================] - 0s 1ms/step - loss: 2.0830 - val_loss: 3.2344\n",
      "Epoch 770/1000\n",
      "186/186 [==============================] - 0s 1ms/step - loss: 2.0095 - val_loss: 3.2362\n",
      "Epoch 771/1000\n",
      "186/186 [==============================] - 0s 1ms/step - loss: 2.0444 - val_loss: 3.2972\n",
      "Epoch 772/1000\n",
      "186/186 [==============================] - 0s 1ms/step - loss: 2.0153 - val_loss: 3.2716\n",
      "Epoch 773/1000\n",
      "186/186 [==============================] - 0s 1ms/step - loss: 2.0075 - val_loss: 3.3432\n",
      "Epoch 774/1000\n",
      "186/186 [==============================] - 0s 1ms/step - loss: 1.9990 - val_loss: 3.3071\n",
      "Epoch 775/1000\n",
      "186/186 [==============================] - 0s 1ms/step - loss: 1.9230 - val_loss: 3.2188\n",
      "Epoch 776/1000\n",
      "186/186 [==============================] - 0s 1ms/step - loss: 1.9663 - val_loss: 3.2771\n",
      "Epoch 777/1000\n",
      "186/186 [==============================] - 0s 1ms/step - loss: 2.0437 - val_loss: 3.2800\n",
      "Epoch 778/1000\n",
      "186/186 [==============================] - 0s 1ms/step - loss: 1.9589 - val_loss: 3.2828\n",
      "Epoch 779/1000\n",
      "186/186 [==============================] - 0s 1ms/step - loss: 1.9819 - val_loss: 3.3240\n",
      "Epoch 780/1000\n",
      "186/186 [==============================] - 0s 1ms/step - loss: 2.0975 - val_loss: 3.3004\n",
      "Epoch 781/1000\n",
      "186/186 [==============================] - 0s 1ms/step - loss: 2.0713 - val_loss: 3.3149\n",
      "Epoch 782/1000\n",
      "186/186 [==============================] - 0s 1ms/step - loss: 1.9861 - val_loss: 3.3335\n",
      "Epoch 783/1000\n",
      "186/186 [==============================] - 0s 1ms/step - loss: 1.9868 - val_loss: 3.3193\n",
      "Epoch 784/1000\n",
      "186/186 [==============================] - 0s 1ms/step - loss: 2.0412 - val_loss: 3.3150\n",
      "Epoch 785/1000\n",
      "186/186 [==============================] - 0s 1ms/step - loss: 2.0188 - val_loss: 3.3056\n",
      "Epoch 786/1000\n",
      "186/186 [==============================] - 0s 1ms/step - loss: 2.0478 - val_loss: 3.2549\n",
      "Epoch 787/1000\n",
      "186/186 [==============================] - 0s 1ms/step - loss: 1.9974 - val_loss: 3.2916\n",
      "Epoch 788/1000\n",
      "186/186 [==============================] - 0s 1ms/step - loss: 2.0288 - val_loss: 3.2896\n",
      "Epoch 789/1000\n",
      "186/186 [==============================] - 0s 1ms/step - loss: 2.0606 - val_loss: 3.2187\n",
      "Epoch 790/1000\n",
      "186/186 [==============================] - 0s 1ms/step - loss: 2.0273 - val_loss: 3.3165\n",
      "Epoch 791/1000\n",
      "186/186 [==============================] - 0s 1ms/step - loss: 2.0302 - val_loss: 3.2802\n",
      "Epoch 792/1000\n",
      "186/186 [==============================] - 0s 1ms/step - loss: 2.0653 - val_loss: 3.3399\n",
      "Epoch 793/1000\n",
      "186/186 [==============================] - 0s 2ms/step - loss: 2.0463 - val_loss: 3.2832\n",
      "Epoch 794/1000\n",
      "186/186 [==============================] - 0s 1ms/step - loss: 2.0522 - val_loss: 3.2349\n",
      "Epoch 795/1000\n",
      "186/186 [==============================] - 0s 1ms/step - loss: 1.9995 - val_loss: 3.3065\n",
      "Epoch 796/1000\n",
      "186/186 [==============================] - 0s 1ms/step - loss: 2.0123 - val_loss: 3.2405\n",
      "Epoch 797/1000\n",
      "186/186 [==============================] - 0s 1ms/step - loss: 2.0168 - val_loss: 3.2722\n",
      "Epoch 798/1000\n",
      "186/186 [==============================] - 0s 1ms/step - loss: 1.9224 - val_loss: 3.2661\n",
      "Epoch 799/1000\n",
      "186/186 [==============================] - 0s 1ms/step - loss: 2.0149 - val_loss: 3.2951\n",
      "Epoch 800/1000\n",
      "186/186 [==============================] - 0s 1ms/step - loss: 1.9612 - val_loss: 3.3170\n",
      "Epoch 801/1000\n",
      "186/186 [==============================] - 0s 1ms/step - loss: 1.9960 - val_loss: 3.2754\n",
      "Epoch 802/1000\n",
      "186/186 [==============================] - 0s 1ms/step - loss: 2.0538 - val_loss: 3.2389\n",
      "Epoch 803/1000\n",
      "186/186 [==============================] - 0s 1ms/step - loss: 1.9196 - val_loss: 3.2707\n",
      "Epoch 804/1000\n",
      "186/186 [==============================] - 0s 1ms/step - loss: 2.0548 - val_loss: 3.2580\n",
      "Epoch 805/1000\n",
      "186/186 [==============================] - 0s 1ms/step - loss: 2.0014 - val_loss: 3.3068\n",
      "Epoch 806/1000\n",
      "186/186 [==============================] - 0s 1ms/step - loss: 1.9724 - val_loss: 3.2568\n",
      "Epoch 807/1000\n",
      "186/186 [==============================] - 0s 1ms/step - loss: 1.9719 - val_loss: 3.2627\n",
      "Epoch 808/1000\n",
      "186/186 [==============================] - 0s 1ms/step - loss: 2.0541 - val_loss: 3.3542\n",
      "Epoch 809/1000\n",
      "186/186 [==============================] - 0s 1ms/step - loss: 2.0643 - val_loss: 3.3189\n",
      "Epoch 810/1000\n",
      "186/186 [==============================] - 0s 1ms/step - loss: 1.9382 - val_loss: 3.2867\n",
      "Epoch 811/1000\n",
      "186/186 [==============================] - 0s 1ms/step - loss: 2.0026 - val_loss: 3.2934\n",
      "Epoch 812/1000\n",
      "186/186 [==============================] - 0s 1ms/step - loss: 2.0127 - val_loss: 3.3375\n",
      "Epoch 813/1000\n",
      "186/186 [==============================] - 0s 2ms/step - loss: 2.0499 - val_loss: 3.3343\n",
      "Epoch 814/1000\n",
      "186/186 [==============================] - 0s 2ms/step - loss: 1.9747 - val_loss: 3.3420\n",
      "Epoch 815/1000\n",
      "186/186 [==============================] - 1s 3ms/step - loss: 1.9679 - val_loss: 3.2796\n",
      "Epoch 816/1000\n",
      "186/186 [==============================] - 0s 2ms/step - loss: 1.9911 - val_loss: 3.2439\n",
      "Epoch 817/1000\n",
      "186/186 [==============================] - 1s 3ms/step - loss: 2.0190 - val_loss: 3.2984\n",
      "Epoch 818/1000\n",
      "186/186 [==============================] - 0s 2ms/step - loss: 1.9794 - val_loss: 3.2879\n",
      "Epoch 819/1000\n",
      "186/186 [==============================] - 0s 2ms/step - loss: 2.0037 - val_loss: 3.2780\n",
      "Epoch 820/1000\n",
      "186/186 [==============================] - 0s 2ms/step - loss: 2.0985 - val_loss: 3.3458\n",
      "Epoch 821/1000\n",
      "186/186 [==============================] - 0s 1ms/step - loss: 1.9619 - val_loss: 3.3466\n",
      "Epoch 822/1000\n",
      "186/186 [==============================] - 0s 1ms/step - loss: 1.9962 - val_loss: 3.2767\n",
      "Epoch 823/1000\n",
      "186/186 [==============================] - 0s 1ms/step - loss: 2.0265 - val_loss: 3.2747\n",
      "Epoch 824/1000\n",
      "186/186 [==============================] - 0s 1ms/step - loss: 1.9955 - val_loss: 3.2657\n",
      "Epoch 825/1000\n",
      "186/186 [==============================] - 0s 1ms/step - loss: 1.9997 - val_loss: 3.3048\n",
      "Epoch 826/1000\n",
      "186/186 [==============================] - 0s 1ms/step - loss: 2.0655 - val_loss: 3.2532\n",
      "Epoch 827/1000\n",
      "186/186 [==============================] - 0s 2ms/step - loss: 2.0083 - val_loss: 3.2453\n",
      "Epoch 828/1000\n",
      "186/186 [==============================] - 0s 1ms/step - loss: 2.0094 - val_loss: 3.2703\n",
      "Epoch 829/1000\n",
      "186/186 [==============================] - 0s 1ms/step - loss: 2.0148 - val_loss: 3.3176\n",
      "Epoch 830/1000\n",
      "186/186 [==============================] - 0s 1ms/step - loss: 2.0296 - val_loss: 3.2692\n",
      "Epoch 831/1000\n",
      "186/186 [==============================] - 0s 1ms/step - loss: 2.0913 - val_loss: 3.3048\n",
      "Epoch 832/1000\n",
      "186/186 [==============================] - 0s 2ms/step - loss: 1.9918 - val_loss: 3.3341\n",
      "Epoch 833/1000\n",
      "186/186 [==============================] - 0s 2ms/step - loss: 2.0368 - val_loss: 3.2733\n",
      "Epoch 834/1000\n",
      "186/186 [==============================] - 0s 1ms/step - loss: 1.9789 - val_loss: 3.2710\n",
      "Epoch 835/1000\n",
      "186/186 [==============================] - 0s 1ms/step - loss: 2.0289 - val_loss: 3.2607\n",
      "Epoch 836/1000\n",
      "186/186 [==============================] - 0s 2ms/step - loss: 2.0250 - val_loss: 3.3100\n",
      "Epoch 837/1000\n",
      "186/186 [==============================] - 0s 1ms/step - loss: 1.9979 - val_loss: 3.2820\n",
      "Epoch 838/1000\n",
      "186/186 [==============================] - 0s 1ms/step - loss: 2.0007 - val_loss: 3.2711\n",
      "Epoch 839/1000\n",
      "186/186 [==============================] - 0s 1ms/step - loss: 2.0183 - val_loss: 3.2476\n",
      "Epoch 840/1000\n",
      "186/186 [==============================] - 0s 1ms/step - loss: 2.0574 - val_loss: 3.3110\n",
      "Epoch 841/1000\n",
      "186/186 [==============================] - 0s 2ms/step - loss: 2.0641 - val_loss: 3.2603\n",
      "Epoch 842/1000\n",
      "186/186 [==============================] - 0s 2ms/step - loss: 1.9655 - val_loss: 3.2459\n",
      "Epoch 843/1000\n",
      "186/186 [==============================] - 0s 2ms/step - loss: 2.0497 - val_loss: 3.3236\n",
      "Epoch 844/1000\n",
      "186/186 [==============================] - 0s 2ms/step - loss: 2.0189 - val_loss: 3.2901\n",
      "Epoch 845/1000\n",
      "186/186 [==============================] - 0s 2ms/step - loss: 2.0784 - val_loss: 3.2599\n",
      "Epoch 846/1000\n",
      "186/186 [==============================] - 0s 2ms/step - loss: 1.9952 - val_loss: 3.3156\n",
      "Epoch 847/1000\n",
      "186/186 [==============================] - 0s 2ms/step - loss: 2.0305 - val_loss: 3.3117\n",
      "Epoch 848/1000\n",
      "186/186 [==============================] - 0s 2ms/step - loss: 1.9907 - val_loss: 3.2678\n",
      "Epoch 849/1000\n",
      "186/186 [==============================] - 0s 2ms/step - loss: 1.9649 - val_loss: 3.2868\n",
      "Epoch 850/1000\n",
      "186/186 [==============================] - 0s 1ms/step - loss: 1.9484 - val_loss: 3.2628\n",
      "Epoch 851/1000\n",
      "186/186 [==============================] - 0s 2ms/step - loss: 2.0378 - val_loss: 3.2753\n",
      "Epoch 852/1000\n",
      "186/186 [==============================] - 0s 1ms/step - loss: 2.0875 - val_loss: 3.3271\n",
      "Epoch 853/1000\n",
      "186/186 [==============================] - 0s 2ms/step - loss: 1.9557 - val_loss: 3.3033\n",
      "Epoch 854/1000\n",
      "186/186 [==============================] - 0s 1ms/step - loss: 2.0283 - val_loss: 3.3420\n",
      "Epoch 855/1000\n",
      "186/186 [==============================] - 0s 1ms/step - loss: 2.0220 - val_loss: 3.2621\n",
      "Epoch 856/1000\n",
      "186/186 [==============================] - 0s 2ms/step - loss: 1.9827 - val_loss: 3.2479\n",
      "Epoch 857/1000\n",
      "186/186 [==============================] - 0s 2ms/step - loss: 1.9899 - val_loss: 3.2648\n",
      "Epoch 858/1000\n",
      "186/186 [==============================] - 0s 1ms/step - loss: 2.0635 - val_loss: 3.2837\n",
      "Epoch 859/1000\n",
      "186/186 [==============================] - 0s 1ms/step - loss: 1.9767 - val_loss: 3.2520\n",
      "Epoch 860/1000\n",
      "186/186 [==============================] - 0s 1ms/step - loss: 2.0141 - val_loss: 3.2689\n",
      "Epoch 861/1000\n",
      "186/186 [==============================] - 0s 1ms/step - loss: 1.9800 - val_loss: 3.3486\n",
      "Epoch 862/1000\n",
      "186/186 [==============================] - 0s 2ms/step - loss: 1.9934 - val_loss: 3.2968\n",
      "Epoch 863/1000\n",
      "186/186 [==============================] - 0s 1ms/step - loss: 2.0466 - val_loss: 3.2948\n",
      "Epoch 864/1000\n",
      "186/186 [==============================] - 0s 2ms/step - loss: 1.9763 - val_loss: 3.2700\n",
      "Epoch 865/1000\n",
      "186/186 [==============================] - 0s 1ms/step - loss: 2.0208 - val_loss: 3.2759\n",
      "Epoch 866/1000\n",
      "186/186 [==============================] - 0s 1ms/step - loss: 1.9067 - val_loss: 3.3408\n",
      "Epoch 867/1000\n",
      "186/186 [==============================] - 0s 1ms/step - loss: 2.0422 - val_loss: 3.2847\n",
      "Epoch 868/1000\n",
      "186/186 [==============================] - 0s 1ms/step - loss: 1.9858 - val_loss: 3.2676\n",
      "Epoch 869/1000\n",
      "186/186 [==============================] - 0s 1ms/step - loss: 2.0206 - val_loss: 3.3196\n",
      "Epoch 870/1000\n",
      "186/186 [==============================] - 0s 1ms/step - loss: 1.9754 - val_loss: 3.3036\n",
      "Epoch 871/1000\n",
      "186/186 [==============================] - 0s 1ms/step - loss: 1.9480 - val_loss: 3.3167\n",
      "Epoch 872/1000\n",
      "186/186 [==============================] - 0s 1ms/step - loss: 2.0066 - val_loss: 3.3015\n",
      "Epoch 873/1000\n",
      "186/186 [==============================] - 0s 2ms/step - loss: 2.0285 - val_loss: 3.2722\n",
      "Epoch 874/1000\n",
      "186/186 [==============================] - 0s 2ms/step - loss: 2.0694 - val_loss: 3.3013\n",
      "Epoch 875/1000\n",
      "186/186 [==============================] - 0s 2ms/step - loss: 1.9647 - val_loss: 3.2837\n",
      "Epoch 876/1000\n",
      "186/186 [==============================] - 0s 2ms/step - loss: 2.0522 - val_loss: 3.3194\n",
      "Epoch 877/1000\n",
      "186/186 [==============================] - 0s 2ms/step - loss: 2.0245 - val_loss: 3.2692\n",
      "Epoch 878/1000\n",
      "186/186 [==============================] - 0s 2ms/step - loss: 2.0439 - val_loss: 3.2844\n",
      "Epoch 879/1000\n",
      "186/186 [==============================] - 0s 2ms/step - loss: 2.0327 - val_loss: 3.3317\n",
      "Epoch 880/1000\n",
      "186/186 [==============================] - 0s 1ms/step - loss: 2.0146 - val_loss: 3.2598\n",
      "Epoch 881/1000\n",
      "186/186 [==============================] - 0s 2ms/step - loss: 2.0699 - val_loss: 3.2368\n",
      "Epoch 882/1000\n",
      "186/186 [==============================] - 0s 2ms/step - loss: 1.9184 - val_loss: 3.3137\n",
      "Epoch 883/1000\n",
      "186/186 [==============================] - 0s 2ms/step - loss: 2.0713 - val_loss: 3.2715\n",
      "Epoch 884/1000\n",
      "186/186 [==============================] - 0s 2ms/step - loss: 1.9500 - val_loss: 3.2677\n",
      "Epoch 885/1000\n",
      "186/186 [==============================] - 0s 2ms/step - loss: 2.0351 - val_loss: 3.2424\n",
      "Epoch 886/1000\n",
      "186/186 [==============================] - 0s 2ms/step - loss: 2.0051 - val_loss: 3.2388\n",
      "Epoch 887/1000\n",
      "186/186 [==============================] - 0s 2ms/step - loss: 2.1077 - val_loss: 3.2937\n",
      "Epoch 888/1000\n",
      "186/186 [==============================] - 0s 1ms/step - loss: 2.0593 - val_loss: 3.3102\n",
      "Epoch 889/1000\n",
      "186/186 [==============================] - 0s 2ms/step - loss: 2.0216 - val_loss: 3.2944\n",
      "Epoch 890/1000\n",
      "186/186 [==============================] - 0s 2ms/step - loss: 2.0335 - val_loss: 3.3139\n",
      "Epoch 891/1000\n",
      "186/186 [==============================] - 0s 1ms/step - loss: 2.0422 - val_loss: 3.2898\n",
      "Epoch 892/1000\n",
      "186/186 [==============================] - 0s 1ms/step - loss: 2.0200 - val_loss: 3.3003\n",
      "Epoch 893/1000\n",
      "186/186 [==============================] - 0s 1ms/step - loss: 2.0186 - val_loss: 3.2822\n",
      "Epoch 894/1000\n",
      "186/186 [==============================] - 0s 2ms/step - loss: 1.9645 - val_loss: 3.2930\n",
      "Epoch 895/1000\n",
      "186/186 [==============================] - 0s 2ms/step - loss: 1.9720 - val_loss: 3.2724\n",
      "Epoch 896/1000\n",
      "186/186 [==============================] - 0s 2ms/step - loss: 1.9412 - val_loss: 3.3036\n",
      "Epoch 897/1000\n",
      "186/186 [==============================] - 0s 2ms/step - loss: 1.9764 - val_loss: 3.2702\n",
      "Epoch 898/1000\n",
      "186/186 [==============================] - 0s 1ms/step - loss: 2.0102 - val_loss: 3.3133\n",
      "Epoch 899/1000\n",
      "186/186 [==============================] - 0s 2ms/step - loss: 1.9833 - val_loss: 3.3108\n",
      "Epoch 900/1000\n",
      "186/186 [==============================] - 0s 2ms/step - loss: 1.9005 - val_loss: 3.3080\n",
      "Epoch 901/1000\n",
      "186/186 [==============================] - 0s 2ms/step - loss: 2.0053 - val_loss: 3.3363\n",
      "Epoch 902/1000\n",
      "186/186 [==============================] - 0s 2ms/step - loss: 1.9835 - val_loss: 3.2992\n",
      "Epoch 903/1000\n",
      "186/186 [==============================] - 0s 2ms/step - loss: 2.0004 - val_loss: 3.3023\n",
      "Epoch 904/1000\n",
      "186/186 [==============================] - 0s 1ms/step - loss: 2.0418 - val_loss: 3.2528\n",
      "Epoch 905/1000\n",
      "186/186 [==============================] - 0s 1ms/step - loss: 2.0609 - val_loss: 3.2754\n",
      "Epoch 906/1000\n",
      "186/186 [==============================] - 0s 2ms/step - loss: 1.9907 - val_loss: 3.2658\n",
      "Epoch 907/1000\n",
      "186/186 [==============================] - 0s 1ms/step - loss: 2.0023 - val_loss: 3.2527\n",
      "Epoch 908/1000\n",
      "186/186 [==============================] - 0s 2ms/step - loss: 2.0258 - val_loss: 3.3287\n",
      "Epoch 909/1000\n",
      "186/186 [==============================] - 0s 2ms/step - loss: 1.9819 - val_loss: 3.2695\n",
      "Epoch 910/1000\n",
      "186/186 [==============================] - 0s 1ms/step - loss: 1.9534 - val_loss: 3.2586\n",
      "Epoch 911/1000\n",
      "186/186 [==============================] - 0s 2ms/step - loss: 2.0109 - val_loss: 3.2519\n",
      "Epoch 912/1000\n",
      "186/186 [==============================] - 0s 1ms/step - loss: 1.9575 - val_loss: 3.3275\n",
      "Epoch 913/1000\n",
      "186/186 [==============================] - 0s 1ms/step - loss: 1.9347 - val_loss: 3.3170\n",
      "Epoch 914/1000\n",
      "186/186 [==============================] - 0s 1ms/step - loss: 1.9908 - val_loss: 3.2893\n",
      "Epoch 915/1000\n",
      "186/186 [==============================] - 0s 1ms/step - loss: 1.9404 - val_loss: 3.3035\n",
      "Epoch 916/1000\n",
      "186/186 [==============================] - 0s 2ms/step - loss: 2.0310 - val_loss: 3.2869\n",
      "Epoch 917/1000\n",
      "186/186 [==============================] - 0s 1ms/step - loss: 2.1032 - val_loss: 3.2913\n",
      "Epoch 918/1000\n",
      "186/186 [==============================] - 0s 2ms/step - loss: 2.1086 - val_loss: 3.2251\n",
      "Epoch 919/1000\n",
      "186/186 [==============================] - 0s 1ms/step - loss: 2.1107 - val_loss: 3.2812\n",
      "Epoch 920/1000\n",
      "186/186 [==============================] - 0s 1ms/step - loss: 2.0515 - val_loss: 3.2531\n",
      "Epoch 921/1000\n",
      "186/186 [==============================] - 0s 2ms/step - loss: 1.9728 - val_loss: 3.3437\n",
      "Epoch 922/1000\n",
      "186/186 [==============================] - 0s 1ms/step - loss: 1.9592 - val_loss: 3.2576\n",
      "Epoch 923/1000\n",
      "186/186 [==============================] - 0s 1ms/step - loss: 1.9803 - val_loss: 3.3024\n",
      "Epoch 924/1000\n",
      "186/186 [==============================] - 0s 1ms/step - loss: 2.0002 - val_loss: 3.2965\n",
      "Epoch 925/1000\n",
      "186/186 [==============================] - 0s 1ms/step - loss: 2.0494 - val_loss: 3.2815\n",
      "Epoch 926/1000\n",
      "186/186 [==============================] - 0s 1ms/step - loss: 1.9928 - val_loss: 3.3039\n",
      "Epoch 927/1000\n",
      "186/186 [==============================] - 0s 2ms/step - loss: 2.0144 - val_loss: 3.2778\n",
      "Epoch 928/1000\n",
      "186/186 [==============================] - 0s 2ms/step - loss: 1.9797 - val_loss: 3.2896\n",
      "Epoch 929/1000\n",
      "186/186 [==============================] - 0s 2ms/step - loss: 2.0454 - val_loss: 3.2835\n",
      "Epoch 930/1000\n",
      "186/186 [==============================] - 0s 2ms/step - loss: 1.9280 - val_loss: 3.3010\n",
      "Epoch 931/1000\n",
      "186/186 [==============================] - 0s 1ms/step - loss: 2.0345 - val_loss: 3.2642\n",
      "Epoch 932/1000\n",
      "186/186 [==============================] - 0s 2ms/step - loss: 2.0145 - val_loss: 3.2896\n",
      "Epoch 933/1000\n",
      "186/186 [==============================] - 0s 2ms/step - loss: 2.0327 - val_loss: 3.2928\n",
      "Epoch 934/1000\n",
      "186/186 [==============================] - 0s 1ms/step - loss: 1.9857 - val_loss: 3.2451\n",
      "Epoch 935/1000\n",
      "186/186 [==============================] - 0s 2ms/step - loss: 2.0144 - val_loss: 3.3053\n",
      "Epoch 936/1000\n",
      "186/186 [==============================] - 0s 2ms/step - loss: 2.0723 - val_loss: 3.2798\n",
      "Epoch 937/1000\n",
      "186/186 [==============================] - 1s 3ms/step - loss: 1.9976 - val_loss: 3.3023\n",
      "Epoch 938/1000\n",
      "186/186 [==============================] - 0s 2ms/step - loss: 2.0033 - val_loss: 3.2643\n",
      "Epoch 939/1000\n",
      "186/186 [==============================] - 0s 2ms/step - loss: 2.0630 - val_loss: 3.2751\n",
      "Epoch 940/1000\n",
      "186/186 [==============================] - 0s 2ms/step - loss: 1.9795 - val_loss: 3.2280\n",
      "Epoch 941/1000\n",
      "186/186 [==============================] - 0s 1ms/step - loss: 1.9763 - val_loss: 3.3041\n",
      "Epoch 942/1000\n",
      "186/186 [==============================] - 0s 1ms/step - loss: 1.9781 - val_loss: 3.2800\n",
      "Epoch 943/1000\n",
      "186/186 [==============================] - 0s 1ms/step - loss: 1.9890 - val_loss: 3.3175\n",
      "Epoch 944/1000\n",
      "186/186 [==============================] - 0s 1ms/step - loss: 1.9625 - val_loss: 3.3108\n",
      "Epoch 945/1000\n",
      "186/186 [==============================] - 0s 1ms/step - loss: 1.9775 - val_loss: 3.2215\n",
      "Epoch 946/1000\n",
      "186/186 [==============================] - 0s 2ms/step - loss: 2.1275 - val_loss: 3.2568\n",
      "Epoch 947/1000\n",
      "186/186 [==============================] - 0s 1ms/step - loss: 2.0117 - val_loss: 3.3109\n",
      "Epoch 948/1000\n",
      "186/186 [==============================] - 0s 1ms/step - loss: 2.0256 - val_loss: 3.3251\n",
      "Epoch 949/1000\n",
      "186/186 [==============================] - 0s 1ms/step - loss: 2.0176 - val_loss: 3.3066\n",
      "Epoch 950/1000\n",
      "186/186 [==============================] - 0s 1ms/step - loss: 2.0164 - val_loss: 3.2532\n",
      "Epoch 951/1000\n",
      "186/186 [==============================] - 0s 2ms/step - loss: 2.0736 - val_loss: 3.3171\n",
      "Epoch 952/1000\n",
      "186/186 [==============================] - 0s 1ms/step - loss: 2.0390 - val_loss: 3.2713\n",
      "Epoch 953/1000\n",
      "186/186 [==============================] - 0s 2ms/step - loss: 1.9863 - val_loss: 3.2484\n",
      "Epoch 954/1000\n",
      "186/186 [==============================] - 0s 1ms/step - loss: 1.9687 - val_loss: 3.3288\n",
      "Epoch 955/1000\n",
      "186/186 [==============================] - 0s 1ms/step - loss: 2.0067 - val_loss: 3.2578\n",
      "Epoch 956/1000\n",
      "186/186 [==============================] - 0s 1ms/step - loss: 2.0320 - val_loss: 3.2729\n",
      "Epoch 957/1000\n",
      "186/186 [==============================] - 0s 2ms/step - loss: 2.0464 - val_loss: 3.2774\n",
      "Epoch 958/1000\n",
      "186/186 [==============================] - 0s 2ms/step - loss: 2.0341 - val_loss: 3.2973\n",
      "Epoch 959/1000\n",
      "186/186 [==============================] - 0s 1ms/step - loss: 2.0339 - val_loss: 3.3251\n",
      "Epoch 960/1000\n",
      "186/186 [==============================] - 0s 1ms/step - loss: 2.0089 - val_loss: 3.2911\n",
      "Epoch 961/1000\n",
      "186/186 [==============================] - 0s 2ms/step - loss: 1.9974 - val_loss: 3.3275\n",
      "Epoch 962/1000\n",
      "186/186 [==============================] - 0s 1ms/step - loss: 2.0277 - val_loss: 3.2494\n",
      "Epoch 963/1000\n",
      "186/186 [==============================] - 0s 1ms/step - loss: 2.0324 - val_loss: 3.2873\n",
      "Epoch 964/1000\n",
      "186/186 [==============================] - 0s 1ms/step - loss: 1.9851 - val_loss: 3.2601\n",
      "Epoch 965/1000\n",
      "186/186 [==============================] - 0s 1ms/step - loss: 2.0123 - val_loss: 3.2849\n",
      "Epoch 966/1000\n",
      "186/186 [==============================] - 0s 2ms/step - loss: 1.9840 - val_loss: 3.2874\n",
      "Epoch 967/1000\n",
      "186/186 [==============================] - 0s 1ms/step - loss: 1.9846 - val_loss: 3.3029\n",
      "Epoch 968/1000\n",
      "186/186 [==============================] - 0s 1ms/step - loss: 2.0054 - val_loss: 3.2613\n",
      "Epoch 969/1000\n",
      "186/186 [==============================] - 0s 1ms/step - loss: 2.0100 - val_loss: 3.2940\n",
      "Epoch 970/1000\n",
      "186/186 [==============================] - 0s 1ms/step - loss: 1.9909 - val_loss: 3.2648\n",
      "Epoch 971/1000\n",
      "186/186 [==============================] - 0s 2ms/step - loss: 2.0703 - val_loss: 3.2201\n",
      "Epoch 972/1000\n",
      "186/186 [==============================] - 0s 1ms/step - loss: 2.0342 - val_loss: 3.3494\n",
      "Epoch 973/1000\n",
      "186/186 [==============================] - 0s 1ms/step - loss: 2.0152 - val_loss: 3.2506\n",
      "Epoch 974/1000\n",
      "186/186 [==============================] - 0s 1ms/step - loss: 2.0454 - val_loss: 3.2904\n",
      "Epoch 975/1000\n",
      "186/186 [==============================] - 0s 1ms/step - loss: 2.0536 - val_loss: 3.3020\n",
      "Epoch 976/1000\n",
      "186/186 [==============================] - 0s 1ms/step - loss: 2.0815 - val_loss: 3.2799\n",
      "Epoch 977/1000\n",
      "186/186 [==============================] - 0s 1ms/step - loss: 2.0874 - val_loss: 3.3307\n",
      "Epoch 978/1000\n",
      "186/186 [==============================] - 0s 1ms/step - loss: 2.0606 - val_loss: 3.3106\n",
      "Epoch 979/1000\n",
      "186/186 [==============================] - 0s 2ms/step - loss: 2.0135 - val_loss: 3.2539\n",
      "Epoch 980/1000\n",
      "186/186 [==============================] - 0s 1ms/step - loss: 2.0293 - val_loss: 3.4028\n",
      "Epoch 981/1000\n",
      "186/186 [==============================] - 0s 1ms/step - loss: 1.9928 - val_loss: 3.3027\n",
      "Epoch 982/1000\n",
      "186/186 [==============================] - 0s 1ms/step - loss: 2.1006 - val_loss: 3.2583\n",
      "Epoch 983/1000\n",
      "186/186 [==============================] - 0s 1ms/step - loss: 2.0424 - val_loss: 3.2407\n",
      "Epoch 984/1000\n",
      "186/186 [==============================] - 0s 1ms/step - loss: 2.0018 - val_loss: 3.3755\n",
      "Epoch 985/1000\n",
      "186/186 [==============================] - 0s 1ms/step - loss: 2.0520 - val_loss: 3.3283\n",
      "Epoch 986/1000\n",
      "186/186 [==============================] - 0s 1ms/step - loss: 2.0866 - val_loss: 3.3244\n",
      "Epoch 987/1000\n",
      "186/186 [==============================] - 0s 1ms/step - loss: 1.9703 - val_loss: 3.2964\n",
      "Epoch 988/1000\n",
      "186/186 [==============================] - 0s 2ms/step - loss: 1.9967 - val_loss: 3.3056\n",
      "Epoch 989/1000\n",
      "186/186 [==============================] - 0s 2ms/step - loss: 1.9105 - val_loss: 3.2444\n",
      "Epoch 990/1000\n",
      "186/186 [==============================] - 0s 1ms/step - loss: 2.0067 - val_loss: 3.2980\n",
      "Epoch 991/1000\n",
      "186/186 [==============================] - 0s 1ms/step - loss: 2.0073 - val_loss: 3.2303\n",
      "Epoch 992/1000\n",
      "186/186 [==============================] - 0s 1ms/step - loss: 1.9661 - val_loss: 3.2990\n",
      "Epoch 993/1000\n",
      "186/186 [==============================] - 0s 2ms/step - loss: 2.0727 - val_loss: 3.3119\n",
      "Epoch 994/1000\n",
      "186/186 [==============================] - 0s 1ms/step - loss: 2.0759 - val_loss: 3.3014\n",
      "Epoch 995/1000\n",
      "186/186 [==============================] - 0s 1ms/step - loss: 2.0606 - val_loss: 3.3171\n",
      "Epoch 996/1000\n",
      "186/186 [==============================] - 0s 1ms/step - loss: 1.9677 - val_loss: 3.2890\n",
      "Epoch 997/1000\n",
      "186/186 [==============================] - 0s 2ms/step - loss: 2.0714 - val_loss: 3.2404\n",
      "Epoch 998/1000\n",
      "186/186 [==============================] - 0s 1ms/step - loss: 1.9700 - val_loss: 3.3148\n",
      "Epoch 999/1000\n",
      "186/186 [==============================] - 0s 1ms/step - loss: 2.0678 - val_loss: 3.2700\n",
      "Epoch 1000/1000\n",
      "186/186 [==============================] - 0s 1ms/step - loss: 1.9337 - val_loss: 3.2813\n",
      "R-squared: 0.6642672334512747\n",
      "MSE: 3.2812722752937407\n"
     ]
    }
   ],
   "source": [
    "n_input = len(X_train.columns)\n",
    "model = Sequential()\n",
    "model.add(Dense(80, activation='relu', input_shape=(n_input,)))\n",
    "model.add(Dense(20, activation='relu'))\n",
    "model.add(Dense(20, activation='relu'))\n",
    "model.add(Dense(20, activation='relu'))\n",
    "model.add(Dense(1))\n",
    "model.compile(optimizer='adam', loss='mse')\n",
    "reduce_lr = ReduceLROnPlateau(\n",
    "    monitor='val_loss', factor=0.9, patience=5, min_lr=0.000001, verbose=1)\n",
    "history = model.fit(X_train, y_train_Tmax, epochs=1000, verbose=1,\n",
    "                    callbacks=[reduce_lr], shuffle=True, validation_data=(X_test, y_test_Tmax))\n",
    "yfit_Tmax_mlp = model.predict(X_test)\n",
    "print(\"R-squared:\",  r2_score(y_test_Tmax,yfit_Tmax_mlp))\n",
    "print(\"MSE:\", mean_squared_error(y_test_Tmax,yfit_Tmax_mlp))\n"
   ]
  },
  {
   "cell_type": "code",
   "execution_count": 23,
   "metadata": {},
   "outputs": [
    {
     "data": {
      "image/png": "[encoded data removed]",
      "text/plain": [
       "<Figure size 432x288 with 1 Axes>"
      ]
     },
     "metadata": {
      "needs_background": "light"
     },
     "output_type": "display_data"
    }
   ],
   "source": [
    "slope, intercept, r_value, p_value, std_err = stats.linregress(y_test_Tmax,yfit_Tmax_mlp.flatten())\n",
    "ax = sns.regplot(x=y_test_Tmax, y= yfit_Tmax_mlp.flatten(), line_kws={'color': 'red', 'label': \"y={0:.1f}x+{1:.1f}\".format(slope, intercept)})\n",
    "sns.kdeplot(y_test_Tmax,yfit_Tmax_mlp.flatten())\n",
    "ax.legend(loc='upper left')\n",
    "ax.set(xlabel='Next_Tmin (°C)', ylabel='Previsão (°C)', title='MLP')\n",
    "ax.figure.savefig(\"MLP_tmax.jpeg\")\n"
   ]
  },
  {
   "cell_type": "markdown",
   "metadata": {},
   "source": [
    "### Unique Station"
   ]
  },
  {
   "cell_type": "code",
   "execution_count": 12,
   "metadata": {},
   "outputs": [
    {
     "name": "stdout",
     "output_type": "stream",
     "text": [
      "R-squared: 0.5788754286343067\n",
      "MSE: 3.5811682066231247\n"
     ]
    }
   ],
   "source": [
    "yfit_Tmax_mlp = model.predict(X_test_st1)\n",
    "print(\"R-squared:\",  r2_score(y_test_Tmax_st1,yfit_Tmax_mlp))\n",
    "print(\"MSE:\", mean_squared_error(y_test_Tmax_st1,yfit_Tmax_mlp))\n"
   ]
  },
  {
   "cell_type": "code",
   "execution_count": 13,
   "metadata": {},
   "outputs": [
    {
     "data": {
      "text/html": [
       "<div>\n",
       "<style scoped>\n",
       "    .dataframe tbody tr th:only-of-type {\n",
       "        vertical-align: middle;\n",
       "    }\n",
       "\n",
       "    .dataframe tbody tr th {\n",
       "        vertical-align: top;\n",
       "    }\n",
       "\n",
       "    .dataframe thead th {\n",
       "        text-align: right;\n",
       "    }\n",
       "</style>\n",
       "<table border=\"1\" class=\"dataframe\">\n",
       "  <thead>\n",
       "    <tr style=\"text-align: right;\">\n",
       "      <th></th>\n",
       "      <th>station</th>\n",
       "      <th>Date</th>\n",
       "      <th>Year</th>\n",
       "      <th>Present_Tmax</th>\n",
       "      <th>Present_Tmin</th>\n",
       "      <th>LDAPS_RHmin</th>\n",
       "      <th>LDAPS_RHmax</th>\n",
       "      <th>LDAPS_Tmax_lapse</th>\n",
       "      <th>LDAPS_Tmin_lapse</th>\n",
       "      <th>LDAPS_WS</th>\n",
       "      <th>...</th>\n",
       "      <th>LDAPS_PPT2</th>\n",
       "      <th>LDAPS_PPT3</th>\n",
       "      <th>LDAPS_PPT4</th>\n",
       "      <th>lat</th>\n",
       "      <th>lon</th>\n",
       "      <th>DEM</th>\n",
       "      <th>Slope</th>\n",
       "      <th>Solar radiation</th>\n",
       "      <th>Next_Tmax</th>\n",
       "      <th>Previsão</th>\n",
       "    </tr>\n",
       "  </thead>\n",
       "  <tbody>\n",
       "    <tr>\n",
       "      <th>0</th>\n",
       "      <td>1.0000000000</td>\n",
       "      <td>2017-06-30</td>\n",
       "      <td>2017</td>\n",
       "      <td>27.9000000000</td>\n",
       "      <td>19.9000000000</td>\n",
       "      <td>58.9641227700</td>\n",
       "      <td>97.8213729900</td>\n",
       "      <td>26.7983751400</td>\n",
       "      <td>20.8287135200</td>\n",
       "      <td>6.3978330790</td>\n",
       "      <td>...</td>\n",
       "      <td>0.0000000000</td>\n",
       "      <td>0.0000000000</td>\n",
       "      <td>0.0258895670</td>\n",
       "      <td>37.6046000000</td>\n",
       "      <td>126.9910000000</td>\n",
       "      <td>212.3350000000</td>\n",
       "      <td>2.7850000000</td>\n",
       "      <td>5,992.8959960000</td>\n",
       "      <td>29.2000000000</td>\n",
       "      <td>27.0313472748</td>\n",
       "    </tr>\n",
       "    <tr>\n",
       "      <th>1</th>\n",
       "      <td>1.0000000000</td>\n",
       "      <td>2017-07-01</td>\n",
       "      <td>2017</td>\n",
       "      <td>29.2000000000</td>\n",
       "      <td>19.8000000000</td>\n",
       "      <td>91.3008728000</td>\n",
       "      <td>99.9924240100</td>\n",
       "      <td>24.3613413300</td>\n",
       "      <td>22.5986772600</td>\n",
       "      <td>9.3222700950</td>\n",
       "      <td>...</td>\n",
       "      <td>0.3799591550</td>\n",
       "      <td>0.5277483250</td>\n",
       "      <td>1.8850881670</td>\n",
       "      <td>37.6046000000</td>\n",
       "      <td>126.9910000000</td>\n",
       "      <td>212.3350000000</td>\n",
       "      <td>2.7850000000</td>\n",
       "      <td>5,987.7187500000</td>\n",
       "      <td>24.1000000000</td>\n",
       "      <td>23.6192111969</td>\n",
       "    </tr>\n",
       "    <tr>\n",
       "      <th>2</th>\n",
       "      <td>1.0000000000</td>\n",
       "      <td>2017-07-02</td>\n",
       "      <td>2017</td>\n",
       "      <td>23.8000000000</td>\n",
       "      <td>20.6000000000</td>\n",
       "      <td>93.0918350200</td>\n",
       "      <td>100.0001526000</td>\n",
       "      <td>23.8778733200</td>\n",
       "      <td>21.9943261000</td>\n",
       "      <td>10.6454296100</td>\n",
       "      <td>...</td>\n",
       "      <td>9.3137438050</td>\n",
       "      <td>0.0059662850</td>\n",
       "      <td>0.0788683830</td>\n",
       "      <td>37.6046000000</td>\n",
       "      <td>126.9910000000</td>\n",
       "      <td>212.3350000000</td>\n",
       "      <td>2.7850000000</td>\n",
       "      <td>5,981.9794920000</td>\n",
       "      <td>25.5000000000</td>\n",
       "      <td>23.0666294098</td>\n",
       "    </tr>\n",
       "    <tr>\n",
       "      <th>3</th>\n",
       "      <td>1.0000000000</td>\n",
       "      <td>2017-07-03</td>\n",
       "      <td>2017</td>\n",
       "      <td>25.0000000000</td>\n",
       "      <td>20.5000000000</td>\n",
       "      <td>59.2595253000</td>\n",
       "      <td>96.6001586900</td>\n",
       "      <td>29.2454020900</td>\n",
       "      <td>21.7213791500</td>\n",
       "      <td>7.2646729750</td>\n",
       "      <td>...</td>\n",
       "      <td>0.0000000000</td>\n",
       "      <td>0.0000000000</td>\n",
       "      <td>0.0000000000</td>\n",
       "      <td>37.6046000000</td>\n",
       "      <td>126.9910000000</td>\n",
       "      <td>212.3350000000</td>\n",
       "      <td>2.7850000000</td>\n",
       "      <td>5,975.6762700000</td>\n",
       "      <td>29.9000000000</td>\n",
       "      <td>28.1263046265</td>\n",
       "    </tr>\n",
       "    <tr>\n",
       "      <th>4</th>\n",
       "      <td>1.0000000000</td>\n",
       "      <td>2017-07-04</td>\n",
       "      <td>2017</td>\n",
       "      <td>28.6000000000</td>\n",
       "      <td>21.8000000000</td>\n",
       "      <td>51.2115783700</td>\n",
       "      <td>88.4553985600</td>\n",
       "      <td>29.6111449800</td>\n",
       "      <td>22.4301356100</td>\n",
       "      <td>6.3935606280</td>\n",
       "      <td>...</td>\n",
       "      <td>0.0000000000</td>\n",
       "      <td>0.0000000000</td>\n",
       "      <td>0.0000000000</td>\n",
       "      <td>37.6046000000</td>\n",
       "      <td>126.9910000000</td>\n",
       "      <td>212.3350000000</td>\n",
       "      <td>2.7850000000</td>\n",
       "      <td>5,968.8090820000</td>\n",
       "      <td>30.0000000000</td>\n",
       "      <td>31.0402355194</td>\n",
       "    </tr>\n",
       "  </tbody>\n",
       "</table>\n",
       "<p>5 rows × 26 columns</p>\n",
       "</div>"
      ],
      "text/plain": [
       "       station       Date  Year  Present_Tmax  Present_Tmin   LDAPS_RHmin  \\\n",
       "0 1.0000000000 2017-06-30  2017 27.9000000000 19.9000000000 58.9641227700   \n",
       "1 1.0000000000 2017-07-01  2017 29.2000000000 19.8000000000 91.3008728000   \n",
       "2 1.0000000000 2017-07-02  2017 23.8000000000 20.6000000000 93.0918350200   \n",
       "3 1.0000000000 2017-07-03  2017 25.0000000000 20.5000000000 59.2595253000   \n",
       "4 1.0000000000 2017-07-04  2017 28.6000000000 21.8000000000 51.2115783700   \n",
       "\n",
       "     LDAPS_RHmax  LDAPS_Tmax_lapse  LDAPS_Tmin_lapse      LDAPS_WS  ...  \\\n",
       "0  97.8213729900     26.7983751400     20.8287135200  6.3978330790  ...   \n",
       "1  99.9924240100     24.3613413300     22.5986772600  9.3222700950  ...   \n",
       "2 100.0001526000     23.8778733200     21.9943261000 10.6454296100  ...   \n",
       "3  96.6001586900     29.2454020900     21.7213791500  7.2646729750  ...   \n",
       "4  88.4553985600     29.6111449800     22.4301356100  6.3935606280  ...   \n",
       "\n",
       "    LDAPS_PPT2   LDAPS_PPT3   LDAPS_PPT4           lat            lon  \\\n",
       "0 0.0000000000 0.0000000000 0.0258895670 37.6046000000 126.9910000000   \n",
       "1 0.3799591550 0.5277483250 1.8850881670 37.6046000000 126.9910000000   \n",
       "2 9.3137438050 0.0059662850 0.0788683830 37.6046000000 126.9910000000   \n",
       "3 0.0000000000 0.0000000000 0.0000000000 37.6046000000 126.9910000000   \n",
       "4 0.0000000000 0.0000000000 0.0000000000 37.6046000000 126.9910000000   \n",
       "\n",
       "             DEM        Slope  Solar radiation     Next_Tmax      Previsão  \n",
       "0 212.3350000000 2.7850000000 5,992.8959960000 29.2000000000 27.0313472748  \n",
       "1 212.3350000000 2.7850000000 5,987.7187500000 24.1000000000 23.6192111969  \n",
       "2 212.3350000000 2.7850000000 5,981.9794920000 25.5000000000 23.0666294098  \n",
       "3 212.3350000000 2.7850000000 5,975.6762700000 29.9000000000 28.1263046265  \n",
       "4 212.3350000000 2.7850000000 5,968.8090820000 30.0000000000 31.0402355194  \n",
       "\n",
       "[5 rows x 26 columns]"
      ]
     },
     "execution_count": 13,
     "metadata": {},
     "output_type": "execute_result"
    }
   ],
   "source": [
    "forecast_results = pd.merge(X_test_st1, pd.DataFrame(y_test_Tmax_st1, columns=['Next_Tmax']), left_index=True, right_index=True, how='left').reset_index()\n",
    "forecast_results = forecast_results.merge(pd.DataFrame(yfit_Tmax_mlp.flatten(), columns=[\n",
    "                                          'Previsão']), left_index=True, right_index=True)\n",
    "forecast_results.head()\n"
   ]
  },
  {
   "cell_type": "code",
   "execution_count": 14,
   "metadata": {},
   "outputs": [
    {
     "data": {
      "application/vnd.plotly.v1+json": {
       "config": {
        "plotlyServerURL": "https://plot.ly"
       },
       "data": [
        {
         "hovertemplate": "variable=Next_Tmax<br>Date=%{x}<br>Temperatura Máxima Seoul (°C)=%{y}<extra></extra>",
         "legendgroup": "Next_Tmax",
         "line": {
          "color": "#636efa",
          "dash": "solid"
         },
         "mode": "lines",
         "name": "Next_Tmax",
         "orientation": "v",
         "showlegend": true,
         "type": "scatter",
         "x": [
          "2017-06-30T00:00:00",
          "2017-07-01T00:00:00",
          "2017-07-02T00:00:00",
          "2017-07-03T00:00:00",
          "2017-07-04T00:00:00",
          "2017-07-05T00:00:00",
          "2017-07-06T00:00:00",
          "2017-07-07T00:00:00",
          "2017-07-08T00:00:00",
          "2017-07-09T00:00:00",
          "2017-07-10T00:00:00",
          "2017-07-11T00:00:00",
          "2017-07-12T00:00:00",
          "2017-07-13T00:00:00",
          "2017-07-14T00:00:00",
          "2017-07-15T00:00:00",
          "2017-07-16T00:00:00",
          "2017-07-17T00:00:00",
          "2017-07-18T00:00:00",
          "2017-07-19T00:00:00",
          "2017-07-20T00:00:00",
          "2017-07-21T00:00:00",
          "2017-07-22T00:00:00",
          "2017-07-23T00:00:00",
          "2017-07-24T00:00:00",
          "2017-07-25T00:00:00",
          "2017-07-26T00:00:00",
          "2017-07-27T00:00:00",
          "2017-07-28T00:00:00",
          "2017-07-29T00:00:00",
          "2017-07-30T00:00:00",
          "2017-07-31T00:00:00",
          "2017-08-01T00:00:00",
          "2017-08-02T00:00:00",
          "2017-08-03T00:00:00",
          "2017-08-04T00:00:00",
          "2017-08-05T00:00:00",
          "2017-08-06T00:00:00",
          "2017-08-07T00:00:00",
          "2017-08-08T00:00:00",
          "2017-08-09T00:00:00",
          "2017-08-10T00:00:00",
          "2017-08-11T00:00:00",
          "2017-08-12T00:00:00",
          "2017-08-13T00:00:00",
          "2017-08-15T00:00:00",
          "2017-08-16T00:00:00",
          "2017-08-17T00:00:00",
          "2017-08-18T00:00:00",
          "2017-08-19T00:00:00",
          "2017-08-20T00:00:00",
          "2017-08-21T00:00:00",
          "2017-08-22T00:00:00",
          "2017-08-23T00:00:00",
          "2017-08-24T00:00:00",
          "2017-08-25T00:00:00",
          "2017-08-26T00:00:00",
          "2017-08-27T00:00:00",
          "2017-08-28T00:00:00",
          "2017-08-29T00:00:00",
          "2017-08-30T00:00:00"
         ],
         "xaxis": "x",
         "y": [
          29.2,
          24.1,
          25.5,
          29.9,
          30,
          31.2,
          25.2,
          25.2,
          27.6,
          23.5,
          29.1,
          29.2,
          29.2,
          30.7,
          25.2,
          26.7,
          26.7,
          28,
          31,
          31.9,
          29.7,
          29.7,
          25.8,
          24.9,
          31.5,
          30.5,
          26.2,
          24.1,
          27.2,
          29.5,
          25.2,
          30,
          30.2,
          31.4,
          31.7,
          33.4,
          30.1,
          31.1,
          28.8,
          28.6,
          23.5,
          29.6,
          29.6,
          25.2,
          24.2,
          25,
          25.4,
          26.7,
          26,
          23.3,
          26.6,
          29.6,
          27.4,
          25.5,
          28.1,
          25.8,
          23.5,
          24.2,
          20.8,
          20.4,
          23.8
         ],
         "yaxis": "y"
        },
        {
         "hovertemplate": "variable=Previsão<br>Date=%{x}<br>Temperatura Máxima Seoul (°C)=%{y}<extra></extra>",
         "legendgroup": "Previsão",
         "line": {
          "color": "#EF553B",
          "dash": "solid"
         },
         "mode": "lines",
         "name": "Previsão",
         "orientation": "v",
         "showlegend": true,
         "type": "scatter",
         "x": [
          "2017-06-30T00:00:00",
          "2017-07-01T00:00:00",
          "2017-07-02T00:00:00",
          "2017-07-03T00:00:00",
          "2017-07-04T00:00:00",
          "2017-07-05T00:00:00",
          "2017-07-06T00:00:00",
          "2017-07-07T00:00:00",
          "2017-07-08T00:00:00",
          "2017-07-09T00:00:00",
          "2017-07-10T00:00:00",
          "2017-07-11T00:00:00",
          "2017-07-12T00:00:00",
          "2017-07-13T00:00:00",
          "2017-07-14T00:00:00",
          "2017-07-15T00:00:00",
          "2017-07-16T00:00:00",
          "2017-07-17T00:00:00",
          "2017-07-18T00:00:00",
          "2017-07-19T00:00:00",
          "2017-07-20T00:00:00",
          "2017-07-21T00:00:00",
          "2017-07-22T00:00:00",
          "2017-07-23T00:00:00",
          "2017-07-24T00:00:00",
          "2017-07-25T00:00:00",
          "2017-07-26T00:00:00",
          "2017-07-27T00:00:00",
          "2017-07-28T00:00:00",
          "2017-07-29T00:00:00",
          "2017-07-30T00:00:00",
          "2017-07-31T00:00:00",
          "2017-08-01T00:00:00",
          "2017-08-02T00:00:00",
          "2017-08-03T00:00:00",
          "2017-08-04T00:00:00",
          "2017-08-05T00:00:00",
          "2017-08-06T00:00:00",
          "2017-08-07T00:00:00",
          "2017-08-08T00:00:00",
          "2017-08-09T00:00:00",
          "2017-08-10T00:00:00",
          "2017-08-11T00:00:00",
          "2017-08-12T00:00:00",
          "2017-08-13T00:00:00",
          "2017-08-15T00:00:00",
          "2017-08-16T00:00:00",
          "2017-08-17T00:00:00",
          "2017-08-18T00:00:00",
          "2017-08-19T00:00:00",
          "2017-08-20T00:00:00",
          "2017-08-21T00:00:00",
          "2017-08-22T00:00:00",
          "2017-08-23T00:00:00",
          "2017-08-24T00:00:00",
          "2017-08-25T00:00:00",
          "2017-08-26T00:00:00",
          "2017-08-27T00:00:00",
          "2017-08-28T00:00:00",
          "2017-08-29T00:00:00",
          "2017-08-30T00:00:00"
         ],
         "xaxis": "x",
         "y": [
          27.031347274780273,
          23.619211196899414,
          23.06662940979004,
          28.126304626464844,
          31.04023551940918,
          31.607568740844727,
          27.056434631347656,
          25.110803604125977,
          28.726491928100586,
          24.108549118041992,
          27.797338485717773,
          28.448259353637695,
          31.274948120117188,
          31.41807746887207,
          28.389055252075195,
          24.92130470275879,
          28.28974723815918,
          30.20708656311035,
          30.487136840820312,
          33.08626937866211,
          31.341747283935547,
          30.12663459777832,
          29.31015396118164,
          29.922277450561523,
          31.504602432250977,
          31.561071395874023,
          29.567626953125,
          25.83138084411621,
          27.47943115234375,
          29.201566696166992,
          30.18879508972168,
          30.736431121826172,
          31.46919059753418,
          32.012367248535156,
          32.637149810791016,
          34.06808090209961,
          32.881752014160156,
          32.816524505615234,
          29.767030715942383,
          30.8210391998291,
          28.60719108581543,
          29.86638832092285,
          30.273618698120117,
          27.757558822631836,
          23.939579010009766,
          22.379926681518555,
          26.41213035583496,
          27.47612953186035,
          28.43440055847168,
          23.291589736938477,
          25.332439422607422,
          29.357362747192383,
          26.764358520507812,
          24.599721908569336,
          29.29400634765625,
          28.792268753051758,
          25.341588973999023,
          23.95366096496582,
          21.91819190979004,
          20.82164192199707,
          25.024946212768555
         ],
         "yaxis": "y"
        }
       ],
       "layout": {
        "height": 400,
        "legend": {
         "title": {
          "text": "variable"
         },
         "tracegroupgap": 0
        },
        "template": {
         "data": {
          "bar": [
           {
            "error_x": {
             "color": "#2a3f5f"
            },
            "error_y": {
             "color": "#2a3f5f"
            },
            "marker": {
             "line": {
              "color": "#E5ECF6",
              "width": 0.5
             }
            },
            "type": "bar"
           }
          ],
          "barpolar": [
           {
            "marker": {
             "line": {
              "color": "#E5ECF6",
              "width": 0.5
             }
            },
            "type": "barpolar"
           }
          ],
          "carpet": [
           {
            "aaxis": {
             "endlinecolor": "#2a3f5f",
             "gridcolor": "white",
             "linecolor": "white",
             "minorgridcolor": "white",
             "startlinecolor": "#2a3f5f"
            },
            "baxis": {
             "endlinecolor": "#2a3f5f",
             "gridcolor": "white",
             "linecolor": "white",
             "minorgridcolor": "white",
             "startlinecolor": "#2a3f5f"
            },
            "type": "carpet"
           }
          ],
          "choropleth": [
           {
            "colorbar": {
             "outlinewidth": 0,
             "ticks": ""
            },
            "type": "choropleth"
           }
          ],
          "contour": [
           {
            "colorbar": {
             "outlinewidth": 0,
             "ticks": ""
            },
            "colorscale": [
             [
              0,
              "#0d0887"
             ],
             [
              0.1111111111111111,
              "#46039f"
             ],
             [
              0.2222222222222222,
              "#7201a8"
             ],
             [
              0.3333333333333333,
              "#9c179e"
             ],
             [
              0.4444444444444444,
              "#bd3786"
             ],
             [
              0.5555555555555556,
              "#d8576b"
             ],
             [
              0.6666666666666666,
              "#ed7953"
             ],
             [
              0.7777777777777778,
              "#fb9f3a"
             ],
             [
              0.8888888888888888,
              "#fdca26"
             ],
             [
              1,
              "#f0f921"
             ]
            ],
            "type": "contour"
           }
          ],
          "contourcarpet": [
           {
            "colorbar": {
             "outlinewidth": 0,
             "ticks": ""
            },
            "type": "contourcarpet"
           }
          ],
          "heatmap": [
           {
            "colorbar": {
             "outlinewidth": 0,
             "ticks": ""
            },
            "colorscale": [
             [
              0,
              "#0d0887"
             ],
             [
              0.1111111111111111,
              "#46039f"
             ],
             [
              0.2222222222222222,
              "#7201a8"
             ],
             [
              0.3333333333333333,
              "#9c179e"
             ],
             [
              0.4444444444444444,
              "#bd3786"
             ],
             [
              0.5555555555555556,
              "#d8576b"
             ],
             [
              0.6666666666666666,
              "#ed7953"
             ],
             [
              0.7777777777777778,
              "#fb9f3a"
             ],
             [
              0.8888888888888888,
              "#fdca26"
             ],
             [
              1,
              "#f0f921"
             ]
            ],
            "type": "heatmap"
           }
          ],
          "heatmapgl": [
           {
            "colorbar": {
             "outlinewidth": 0,
             "ticks": ""
            },
            "colorscale": [
             [
              0,
              "#0d0887"
             ],
             [
              0.1111111111111111,
              "#46039f"
             ],
             [
              0.2222222222222222,
              "#7201a8"
             ],
             [
              0.3333333333333333,
              "#9c179e"
             ],
             [
              0.4444444444444444,
              "#bd3786"
             ],
             [
              0.5555555555555556,
              "#d8576b"
             ],
             [
              0.6666666666666666,
              "#ed7953"
             ],
             [
              0.7777777777777778,
              "#fb9f3a"
             ],
             [
              0.8888888888888888,
              "#fdca26"
             ],
             [
              1,
              "#f0f921"
             ]
            ],
            "type": "heatmapgl"
           }
          ],
          "histogram": [
           {
            "marker": {
             "colorbar": {
              "outlinewidth": 0,
              "ticks": ""
             }
            },
            "type": "histogram"
           }
          ],
          "histogram2d": [
           {
            "colorbar": {
             "outlinewidth": 0,
             "ticks": ""
            },
            "colorscale": [
             [
              0,
              "#0d0887"
             ],
             [
              0.1111111111111111,
              "#46039f"
             ],
             [
              0.2222222222222222,
              "#7201a8"
             ],
             [
              0.3333333333333333,
              "#9c179e"
             ],
             [
              0.4444444444444444,
              "#bd3786"
             ],
             [
              0.5555555555555556,
              "#d8576b"
             ],
             [
              0.6666666666666666,
              "#ed7953"
             ],
             [
              0.7777777777777778,
              "#fb9f3a"
             ],
             [
              0.8888888888888888,
              "#fdca26"
             ],
             [
              1,
              "#f0f921"
             ]
            ],
            "type": "histogram2d"
           }
          ],
          "histogram2dcontour": [
           {
            "colorbar": {
             "outlinewidth": 0,
             "ticks": ""
            },
            "colorscale": [
             [
              0,
              "#0d0887"
             ],
             [
              0.1111111111111111,
              "#46039f"
             ],
             [
              0.2222222222222222,
              "#7201a8"
             ],
             [
              0.3333333333333333,
              "#9c179e"
             ],
             [
              0.4444444444444444,
              "#bd3786"
             ],
             [
              0.5555555555555556,
              "#d8576b"
             ],
             [
              0.6666666666666666,
              "#ed7953"
             ],
             [
              0.7777777777777778,
              "#fb9f3a"
             ],
             [
              0.8888888888888888,
              "#fdca26"
             ],
             [
              1,
              "#f0f921"
             ]
            ],
            "type": "histogram2dcontour"
           }
          ],
          "mesh3d": [
           {
            "colorbar": {
             "outlinewidth": 0,
             "ticks": ""
            },
            "type": "mesh3d"
           }
          ],
          "parcoords": [
           {
            "line": {
             "colorbar": {
              "outlinewidth": 0,
              "ticks": ""
             }
            },
            "type": "parcoords"
           }
          ],
          "pie": [
           {
            "automargin": true,
            "type": "pie"
           }
          ],
          "scatter": [
           {
            "marker": {
             "colorbar": {
              "outlinewidth": 0,
              "ticks": ""
             }
            },
            "type": "scatter"
           }
          ],
          "scatter3d": [
           {
            "line": {
             "colorbar": {
              "outlinewidth": 0,
              "ticks": ""
             }
            },
            "marker": {
             "colorbar": {
              "outlinewidth": 0,
              "ticks": ""
             }
            },
            "type": "scatter3d"
           }
          ],
          "scattercarpet": [
           {
            "marker": {
             "colorbar": {
              "outlinewidth": 0,
              "ticks": ""
             }
            },
            "type": "scattercarpet"
           }
          ],
          "scattergeo": [
           {
            "marker": {
             "colorbar": {
              "outlinewidth": 0,
              "ticks": ""
             }
            },
            "type": "scattergeo"
           }
          ],
          "scattergl": [
           {
            "marker": {
             "colorbar": {
              "outlinewidth": 0,
              "ticks": ""
             }
            },
            "type": "scattergl"
           }
          ],
          "scattermapbox": [
           {
            "marker": {
             "colorbar": {
              "outlinewidth": 0,
              "ticks": ""
             }
            },
            "type": "scattermapbox"
           }
          ],
          "scatterpolar": [
           {
            "marker": {
             "colorbar": {
              "outlinewidth": 0,
              "ticks": ""
             }
            },
            "type": "scatterpolar"
           }
          ],
          "scatterpolargl": [
           {
            "marker": {
             "colorbar": {
              "outlinewidth": 0,
              "ticks": ""
             }
            },
            "type": "scatterpolargl"
           }
          ],
          "scatterternary": [
           {
            "marker": {
             "colorbar": {
              "outlinewidth": 0,
              "ticks": ""
             }
            },
            "type": "scatterternary"
           }
          ],
          "surface": [
           {
            "colorbar": {
             "outlinewidth": 0,
             "ticks": ""
            },
            "colorscale": [
             [
              0,
              "#0d0887"
             ],
             [
              0.1111111111111111,
              "#46039f"
             ],
             [
              0.2222222222222222,
              "#7201a8"
             ],
             [
              0.3333333333333333,
              "#9c179e"
             ],
             [
              0.4444444444444444,
              "#bd3786"
             ],
             [
              0.5555555555555556,
              "#d8576b"
             ],
             [
              0.6666666666666666,
              "#ed7953"
             ],
             [
              0.7777777777777778,
              "#fb9f3a"
             ],
             [
              0.8888888888888888,
              "#fdca26"
             ],
             [
              1,
              "#f0f921"
             ]
            ],
            "type": "surface"
           }
          ],
          "table": [
           {
            "cells": {
             "fill": {
              "color": "#EBF0F8"
             },
             "line": {
              "color": "white"
             }
            },
            "header": {
             "fill": {
              "color": "#C8D4E3"
             },
             "line": {
              "color": "white"
             }
            },
            "type": "table"
           }
          ]
         },
         "layout": {
          "annotationdefaults": {
           "arrowcolor": "#2a3f5f",
           "arrowhead": 0,
           "arrowwidth": 1
          },
          "autotypenumbers": "strict",
          "coloraxis": {
           "colorbar": {
            "outlinewidth": 0,
            "ticks": ""
           }
          },
          "colorscale": {
           "diverging": [
            [
             0,
             "#8e0152"
            ],
            [
             0.1,
             "#c51b7d"
            ],
            [
             0.2,
             "#de77ae"
            ],
            [
             0.3,
             "#f1b6da"
            ],
            [
             0.4,
             "#fde0ef"
            ],
            [
             0.5,
             "#f7f7f7"
            ],
            [
             0.6,
             "#e6f5d0"
            ],
            [
             0.7,
             "#b8e186"
            ],
            [
             0.8,
             "#7fbc41"
            ],
            [
             0.9,
             "#4d9221"
            ],
            [
             1,
             "#276419"
            ]
           ],
           "sequential": [
            [
             0,
             "#0d0887"
            ],
            [
             0.1111111111111111,
             "#46039f"
            ],
            [
             0.2222222222222222,
             "#7201a8"
            ],
            [
             0.3333333333333333,
             "#9c179e"
            ],
            [
             0.4444444444444444,
             "#bd3786"
            ],
            [
             0.5555555555555556,
             "#d8576b"
            ],
            [
             0.6666666666666666,
             "#ed7953"
            ],
            [
             0.7777777777777778,
             "#fb9f3a"
            ],
            [
             0.8888888888888888,
             "#fdca26"
            ],
            [
             1,
             "#f0f921"
            ]
           ],
           "sequentialminus": [
            [
             0,
             "#0d0887"
            ],
            [
             0.1111111111111111,
             "#46039f"
            ],
            [
             0.2222222222222222,
             "#7201a8"
            ],
            [
             0.3333333333333333,
             "#9c179e"
            ],
            [
             0.4444444444444444,
             "#bd3786"
            ],
            [
             0.5555555555555556,
             "#d8576b"
            ],
            [
             0.6666666666666666,
             "#ed7953"
            ],
            [
             0.7777777777777778,
             "#fb9f3a"
            ],
            [
             0.8888888888888888,
             "#fdca26"
            ],
            [
             1,
             "#f0f921"
            ]
           ]
          },
          "colorway": [
           "#636efa",
           "#EF553B",
           "#00cc96",
           "#ab63fa",
           "#FFA15A",
           "#19d3f3",
           "#FF6692",
           "#B6E880",
           "#FF97FF",
           "#FECB52"
          ],
          "font": {
           "color": "#2a3f5f"
          },
          "geo": {
           "bgcolor": "white",
           "lakecolor": "white",
           "landcolor": "#E5ECF6",
           "showlakes": true,
           "showland": true,
           "subunitcolor": "white"
          },
          "hoverlabel": {
           "align": "left"
          },
          "hovermode": "closest",
          "mapbox": {
           "style": "light"
          },
          "paper_bgcolor": "white",
          "plot_bgcolor": "#E5ECF6",
          "polar": {
           "angularaxis": {
            "gridcolor": "white",
            "linecolor": "white",
            "ticks": ""
           },
           "bgcolor": "#E5ECF6",
           "radialaxis": {
            "gridcolor": "white",
            "linecolor": "white",
            "ticks": ""
           }
          },
          "scene": {
           "xaxis": {
            "backgroundcolor": "#E5ECF6",
            "gridcolor": "white",
            "gridwidth": 2,
            "linecolor": "white",
            "showbackground": true,
            "ticks": "",
            "zerolinecolor": "white"
           },
           "yaxis": {
            "backgroundcolor": "#E5ECF6",
            "gridcolor": "white",
            "gridwidth": 2,
            "linecolor": "white",
            "showbackground": true,
            "ticks": "",
            "zerolinecolor": "white"
           },
           "zaxis": {
            "backgroundcolor": "#E5ECF6",
            "gridcolor": "white",
            "gridwidth": 2,
            "linecolor": "white",
            "showbackground": true,
            "ticks": "",
            "zerolinecolor": "white"
           }
          },
          "shapedefaults": {
           "line": {
            "color": "#2a3f5f"
           }
          },
          "ternary": {
           "aaxis": {
            "gridcolor": "white",
            "linecolor": "white",
            "ticks": ""
           },
           "baxis": {
            "gridcolor": "white",
            "linecolor": "white",
            "ticks": ""
           },
           "bgcolor": "#E5ECF6",
           "caxis": {
            "gridcolor": "white",
            "linecolor": "white",
            "ticks": ""
           }
          },
          "title": {
           "x": 0.05
          },
          "xaxis": {
           "automargin": true,
           "gridcolor": "white",
           "linecolor": "white",
           "ticks": "",
           "title": {
            "standoff": 15
           },
           "zerolinecolor": "white",
           "zerolinewidth": 2
          },
          "yaxis": {
           "automargin": true,
           "gridcolor": "white",
           "linecolor": "white",
           "ticks": "",
           "title": {
            "standoff": 15
           },
           "zerolinecolor": "white",
           "zerolinewidth": 2
          }
         }
        },
        "title": {
         "text": "Previsão Modelo MLP (Temperatura Máxima T+1)"
        },
        "width": 800,
        "xaxis": {
         "anchor": "y",
         "domain": [
          0,
          1
         ],
         "title": {
          "text": "Date"
         }
        },
        "yaxis": {
         "anchor": "x",
         "domain": [
          0,
          1
         ],
         "title": {
          "text": "Temperatura Máxima Seoul (°C)"
         }
        }
       }
      }
     },
     "metadata": {},
     "output_type": "display_data"
    }
   ],
   "source": [
    "fig = px.line(forecast_results, x='Date', y=['Next_Tmax', 'Previsão'], labels={\n",
    "              'value': \"Temperatura Máxima Seoul (°C)\"}, title='Previsão Modelo MLP (Temperatura Máxima T+1)', width=800, height=400)\n",
    "fig.show()\n"
   ]
  },
  {
   "cell_type": "markdown",
   "metadata": {},
   "source": [
    "## Model Implementation for Tmin"
   ]
  },
  {
   "cell_type": "code",
   "execution_count": 27,
   "metadata": {},
   "outputs": [
    {
     "name": "stdout",
     "output_type": "stream",
     "text": [
      "R-squared: 0.8580604251708175\n",
      "MSE: 0.8899243322390428\n"
     ]
    }
   ],
   "source": [
    "n_input = len(X_train.columns)\n",
    "model = Sequential()\n",
    "model.add(Dense(20, activation='relu', input_shape=(n_input,)))\n",
    "model.add(Dense(20, activation='relu'))\n",
    "model.add(Dense(20, activation='relu'))\n",
    "model.add(Dense(20, activation='relu'))\n",
    "model.add(Dense(1))\n",
    "model.compile(optimizer='adam', loss='mse')\n",
    "model.fit(X_train, y_train_Tmin, epochs=1000, verbose=0)\n",
    "yfit_Tmin_mlp = model.predict(X_test)\n",
    "print(\"R-squared:\",  r2_score(y_test_Tmin,yfit_Tmin_mlp))\n",
    "print(\"MSE:\", mean_squared_error(y_test_Tmin,yfit_Tmin_mlp))\n"
   ]
  },
  {
   "cell_type": "code",
   "execution_count": 28,
   "metadata": {},
   "outputs": [
    {
     "data": {
      "image/png": "[encoded data removed]",
      "text/plain": [
       "<Figure size 432x288 with 1 Axes>"
      ]
     },
     "metadata": {
      "needs_background": "light"
     },
     "output_type": "display_data"
    }
   ],
   "source": [
    "slope, intercept, r_value, p_value, std_err = stats.linregress(y_test_Tmin, yfit_Tmin_mlp.flatten())\n",
    "ax = sns.regplot(x=y_test_Tmin, y=yfit_Tmin_mlp.flatten(), line_kws={'color': 'red', 'label': \"y={0:.1f}x+{1:.1f}\".format(slope, intercept)})\n",
    "sns.kdeplot(y_test_Tmin, yfit_Tmin_mlp.flatten())\n",
    "ax.legend(loc='upper left')\n",
    "ax.set(xlabel='Next_Tmin (°C)', ylabel='Previsão (°C)', title='MLP')\n",
    "ax.figure.savefig(\"MLP_tmax.jpeg\")\n"
   ]
  },
  {
   "cell_type": "markdown",
   "metadata": {},
   "source": [
    "### Unique Station"
   ]
  },
  {
   "cell_type": "code",
   "execution_count": 29,
   "metadata": {},
   "outputs": [
    {
     "name": "stdout",
     "output_type": "stream",
     "text": [
      "R-squared: 0.9187482463134744\n",
      "MSE: 0.4357111643940324\n"
     ]
    }
   ],
   "source": [
    "yfit_Tmin_mlp = model.predict(X_test_st1)\n",
    "print(\"R-squared:\",  r2_score(y_test_Tmin_st1, yfit_Tmin_mlp))\n",
    "print(\"MSE:\", mean_squared_error(y_test_Tmin_st1, yfit_Tmin_mlp))\n"
   ]
  },
  {
   "cell_type": "code",
   "execution_count": 30,
   "metadata": {},
   "outputs": [
    {
     "data": {
      "text/html": [
       "<div>\n",
       "<style scoped>\n",
       "    .dataframe tbody tr th:only-of-type {\n",
       "        vertical-align: middle;\n",
       "    }\n",
       "\n",
       "    .dataframe tbody tr th {\n",
       "        vertical-align: top;\n",
       "    }\n",
       "\n",
       "    .dataframe thead th {\n",
       "        text-align: right;\n",
       "    }\n",
       "</style>\n",
       "<table border=\"1\" class=\"dataframe\">\n",
       "  <thead>\n",
       "    <tr style=\"text-align: right;\">\n",
       "      <th></th>\n",
       "      <th>station</th>\n",
       "      <th>Date</th>\n",
       "      <th>Year</th>\n",
       "      <th>Present_Tmax</th>\n",
       "      <th>Present_Tmin</th>\n",
       "      <th>LDAPS_RHmin</th>\n",
       "      <th>LDAPS_RHmax</th>\n",
       "      <th>LDAPS_Tmax_lapse</th>\n",
       "      <th>LDAPS_Tmin_lapse</th>\n",
       "      <th>LDAPS_WS</th>\n",
       "      <th>...</th>\n",
       "      <th>LDAPS_PPT2</th>\n",
       "      <th>LDAPS_PPT3</th>\n",
       "      <th>LDAPS_PPT4</th>\n",
       "      <th>lat</th>\n",
       "      <th>lon</th>\n",
       "      <th>DEM</th>\n",
       "      <th>Slope</th>\n",
       "      <th>Solar radiation</th>\n",
       "      <th>Next_Tmin</th>\n",
       "      <th>Previsão</th>\n",
       "    </tr>\n",
       "  </thead>\n",
       "  <tbody>\n",
       "    <tr>\n",
       "      <th>0</th>\n",
       "      <td>1.0000000000</td>\n",
       "      <td>2017-06-30</td>\n",
       "      <td>2017</td>\n",
       "      <td>27.9000000000</td>\n",
       "      <td>19.9000000000</td>\n",
       "      <td>58.9641227700</td>\n",
       "      <td>97.8213729900</td>\n",
       "      <td>26.7983751400</td>\n",
       "      <td>20.8287135200</td>\n",
       "      <td>6.3978330790</td>\n",
       "      <td>...</td>\n",
       "      <td>0.0000000000</td>\n",
       "      <td>0.0000000000</td>\n",
       "      <td>0.0258895670</td>\n",
       "      <td>37.6046000000</td>\n",
       "      <td>126.9910000000</td>\n",
       "      <td>212.3350000000</td>\n",
       "      <td>2.7850000000</td>\n",
       "      <td>5,992.8959960000</td>\n",
       "      <td>19.6000000000</td>\n",
       "      <td>19.8337440491</td>\n",
       "    </tr>\n",
       "    <tr>\n",
       "      <th>1</th>\n",
       "      <td>1.0000000000</td>\n",
       "      <td>2017-07-01</td>\n",
       "      <td>2017</td>\n",
       "      <td>29.2000000000</td>\n",
       "      <td>19.8000000000</td>\n",
       "      <td>91.3008728000</td>\n",
       "      <td>99.9924240100</td>\n",
       "      <td>24.3613413300</td>\n",
       "      <td>22.5986772600</td>\n",
       "      <td>9.3222700950</td>\n",
       "      <td>...</td>\n",
       "      <td>0.3799591550</td>\n",
       "      <td>0.5277483250</td>\n",
       "      <td>1.8850881670</td>\n",
       "      <td>37.6046000000</td>\n",
       "      <td>126.9910000000</td>\n",
       "      <td>212.3350000000</td>\n",
       "      <td>2.7850000000</td>\n",
       "      <td>5,987.7187500000</td>\n",
       "      <td>20.4000000000</td>\n",
       "      <td>21.0606498718</td>\n",
       "    </tr>\n",
       "    <tr>\n",
       "      <th>2</th>\n",
       "      <td>1.0000000000</td>\n",
       "      <td>2017-07-02</td>\n",
       "      <td>2017</td>\n",
       "      <td>23.8000000000</td>\n",
       "      <td>20.6000000000</td>\n",
       "      <td>93.0918350200</td>\n",
       "      <td>100.0001526000</td>\n",
       "      <td>23.8778733200</td>\n",
       "      <td>21.9943261000</td>\n",
       "      <td>10.6454296100</td>\n",
       "      <td>...</td>\n",
       "      <td>9.3137438050</td>\n",
       "      <td>0.0059662850</td>\n",
       "      <td>0.0788683830</td>\n",
       "      <td>37.6046000000</td>\n",
       "      <td>126.9910000000</td>\n",
       "      <td>212.3350000000</td>\n",
       "      <td>2.7850000000</td>\n",
       "      <td>5,981.9794920000</td>\n",
       "      <td>20.5000000000</td>\n",
       "      <td>20.1617965698</td>\n",
       "    </tr>\n",
       "    <tr>\n",
       "      <th>3</th>\n",
       "      <td>1.0000000000</td>\n",
       "      <td>2017-07-03</td>\n",
       "      <td>2017</td>\n",
       "      <td>25.0000000000</td>\n",
       "      <td>20.5000000000</td>\n",
       "      <td>59.2595253000</td>\n",
       "      <td>96.6001586900</td>\n",
       "      <td>29.2454020900</td>\n",
       "      <td>21.7213791500</td>\n",
       "      <td>7.2646729750</td>\n",
       "      <td>...</td>\n",
       "      <td>0.0000000000</td>\n",
       "      <td>0.0000000000</td>\n",
       "      <td>0.0000000000</td>\n",
       "      <td>37.6046000000</td>\n",
       "      <td>126.9910000000</td>\n",
       "      <td>212.3350000000</td>\n",
       "      <td>2.7850000000</td>\n",
       "      <td>5,975.6762700000</td>\n",
       "      <td>20.6000000000</td>\n",
       "      <td>20.5818195343</td>\n",
       "    </tr>\n",
       "    <tr>\n",
       "      <th>4</th>\n",
       "      <td>1.0000000000</td>\n",
       "      <td>2017-07-04</td>\n",
       "      <td>2017</td>\n",
       "      <td>28.6000000000</td>\n",
       "      <td>21.8000000000</td>\n",
       "      <td>51.2115783700</td>\n",
       "      <td>88.4553985600</td>\n",
       "      <td>29.6111449800</td>\n",
       "      <td>22.4301356100</td>\n",
       "      <td>6.3935606280</td>\n",
       "      <td>...</td>\n",
       "      <td>0.0000000000</td>\n",
       "      <td>0.0000000000</td>\n",
       "      <td>0.0000000000</td>\n",
       "      <td>37.6046000000</td>\n",
       "      <td>126.9910000000</td>\n",
       "      <td>212.3350000000</td>\n",
       "      <td>2.7850000000</td>\n",
       "      <td>5,968.8090820000</td>\n",
       "      <td>20.5000000000</td>\n",
       "      <td>21.5287532806</td>\n",
       "    </tr>\n",
       "  </tbody>\n",
       "</table>\n",
       "<p>5 rows × 26 columns</p>\n",
       "</div>"
      ],
      "text/plain": [
       "       station       Date  Year  Present_Tmax  Present_Tmin   LDAPS_RHmin  \\\n",
       "0 1.0000000000 2017-06-30  2017 27.9000000000 19.9000000000 58.9641227700   \n",
       "1 1.0000000000 2017-07-01  2017 29.2000000000 19.8000000000 91.3008728000   \n",
       "2 1.0000000000 2017-07-02  2017 23.8000000000 20.6000000000 93.0918350200   \n",
       "3 1.0000000000 2017-07-03  2017 25.0000000000 20.5000000000 59.2595253000   \n",
       "4 1.0000000000 2017-07-04  2017 28.6000000000 21.8000000000 51.2115783700   \n",
       "\n",
       "     LDAPS_RHmax  LDAPS_Tmax_lapse  LDAPS_Tmin_lapse      LDAPS_WS  ...  \\\n",
       "0  97.8213729900     26.7983751400     20.8287135200  6.3978330790  ...   \n",
       "1  99.9924240100     24.3613413300     22.5986772600  9.3222700950  ...   \n",
       "2 100.0001526000     23.8778733200     21.9943261000 10.6454296100  ...   \n",
       "3  96.6001586900     29.2454020900     21.7213791500  7.2646729750  ...   \n",
       "4  88.4553985600     29.6111449800     22.4301356100  6.3935606280  ...   \n",
       "\n",
       "    LDAPS_PPT2   LDAPS_PPT3   LDAPS_PPT4           lat            lon  \\\n",
       "0 0.0000000000 0.0000000000 0.0258895670 37.6046000000 126.9910000000   \n",
       "1 0.3799591550 0.5277483250 1.8850881670 37.6046000000 126.9910000000   \n",
       "2 9.3137438050 0.0059662850 0.0788683830 37.6046000000 126.9910000000   \n",
       "3 0.0000000000 0.0000000000 0.0000000000 37.6046000000 126.9910000000   \n",
       "4 0.0000000000 0.0000000000 0.0000000000 37.6046000000 126.9910000000   \n",
       "\n",
       "             DEM        Slope  Solar radiation     Next_Tmin      Previsão  \n",
       "0 212.3350000000 2.7850000000 5,992.8959960000 19.6000000000 19.8337440491  \n",
       "1 212.3350000000 2.7850000000 5,987.7187500000 20.4000000000 21.0606498718  \n",
       "2 212.3350000000 2.7850000000 5,981.9794920000 20.5000000000 20.1617965698  \n",
       "3 212.3350000000 2.7850000000 5,975.6762700000 20.6000000000 20.5818195343  \n",
       "4 212.3350000000 2.7850000000 5,968.8090820000 20.5000000000 21.5287532806  \n",
       "\n",
       "[5 rows x 26 columns]"
      ]
     },
     "execution_count": 30,
     "metadata": {},
     "output_type": "execute_result"
    }
   ],
   "source": [
    "forecast_results = pd.merge(X_test_st1, pd.DataFrame(y_test_Tmin_st1, columns=[\n",
    "                            'Next_Tmin']), left_index=True, right_index=True, how='left').reset_index()\n",
    "forecast_results = forecast_results.merge(pd.DataFrame(yfit_Tmin_mlp.flatten(), columns=[\n",
    "                                          'Previsão']), left_index=True, right_index=True)\n",
    "forecast_results.head()\n"
   ]
  },
  {
   "cell_type": "code",
   "execution_count": 31,
   "metadata": {},
   "outputs": [
    {
     "data": {
      "application/vnd.plotly.v1+json": {
       "config": {
        "plotlyServerURL": "https://plot.ly"
       },
       "data": [
        {
         "hovertemplate": "variable=Next_Tmin<br>Date=%{x}<br>Temperatura Minima Seoul (°C)=%{y}<extra></extra>",
         "legendgroup": "Next_Tmin",
         "line": {
          "color": "#636efa",
          "dash": "solid"
         },
         "mode": "lines",
         "name": "Next_Tmin",
         "orientation": "v",
         "showlegend": true,
         "type": "scatter",
         "x": [
          "2017-06-30T00:00:00",
          "2017-07-01T00:00:00",
          "2017-07-02T00:00:00",
          "2017-07-03T00:00:00",
          "2017-07-04T00:00:00",
          "2017-07-05T00:00:00",
          "2017-07-06T00:00:00",
          "2017-07-07T00:00:00",
          "2017-07-08T00:00:00",
          "2017-07-09T00:00:00",
          "2017-07-10T00:00:00",
          "2017-07-11T00:00:00",
          "2017-07-12T00:00:00",
          "2017-07-13T00:00:00",
          "2017-07-14T00:00:00",
          "2017-07-15T00:00:00",
          "2017-07-16T00:00:00",
          "2017-07-17T00:00:00",
          "2017-07-18T00:00:00",
          "2017-07-19T00:00:00",
          "2017-07-20T00:00:00",
          "2017-07-21T00:00:00",
          "2017-07-22T00:00:00",
          "2017-07-23T00:00:00",
          "2017-07-24T00:00:00",
          "2017-07-25T00:00:00",
          "2017-07-26T00:00:00",
          "2017-07-27T00:00:00",
          "2017-07-28T00:00:00",
          "2017-07-29T00:00:00",
          "2017-07-30T00:00:00",
          "2017-07-31T00:00:00",
          "2017-08-01T00:00:00",
          "2017-08-02T00:00:00",
          "2017-08-03T00:00:00",
          "2017-08-04T00:00:00",
          "2017-08-05T00:00:00",
          "2017-08-06T00:00:00",
          "2017-08-07T00:00:00",
          "2017-08-08T00:00:00",
          "2017-08-09T00:00:00",
          "2017-08-10T00:00:00",
          "2017-08-11T00:00:00",
          "2017-08-12T00:00:00",
          "2017-08-13T00:00:00",
          "2017-08-15T00:00:00",
          "2017-08-16T00:00:00",
          "2017-08-17T00:00:00",
          "2017-08-18T00:00:00",
          "2017-08-19T00:00:00",
          "2017-08-20T00:00:00",
          "2017-08-21T00:00:00",
          "2017-08-22T00:00:00",
          "2017-08-23T00:00:00",
          "2017-08-24T00:00:00",
          "2017-08-25T00:00:00",
          "2017-08-26T00:00:00",
          "2017-08-27T00:00:00",
          "2017-08-28T00:00:00",
          "2017-08-29T00:00:00",
          "2017-08-30T00:00:00"
         ],
         "xaxis": "x",
         "y": [
          19.6,
          20.4,
          20.5,
          20.6,
          20.5,
          21.5,
          22.1,
          22.6,
          21.7,
          20.7,
          20.3,
          22.4,
          21.7,
          23.7,
          21.2,
          21.4,
          21.9,
          21.8,
          21.8,
          23.2,
          24.6,
          24.7,
          23.5,
          22.5,
          22.5,
          21.7,
          21.9,
          22,
          22.6,
          22.1,
          22.2,
          21.7,
          24.1,
          24.4,
          22.8,
          25.3,
          24.6,
          23.1,
          22.5,
          21.9,
          21.6,
          21.4,
          21,
          21.3,
          20.4,
          18.8,
          19.1,
          21.3,
          20.8,
          20.2,
          21.6,
          20.8,
          22.2,
          21.8,
          19.2,
          17.8,
          17.2,
          15.9,
          13.6,
          14.6,
          15.1
         ],
         "yaxis": "y"
        },
        {
         "hovertemplate": "variable=Previsão<br>Date=%{x}<br>Temperatura Minima Seoul (°C)=%{y}<extra></extra>",
         "legendgroup": "Previsão",
         "line": {
          "color": "#EF553B",
          "dash": "solid"
         },
         "mode": "lines",
         "name": "Previsão",
         "orientation": "v",
         "showlegend": true,
         "type": "scatter",
         "x": [
          "2017-06-30T00:00:00",
          "2017-07-01T00:00:00",
          "2017-07-02T00:00:00",
          "2017-07-03T00:00:00",
          "2017-07-04T00:00:00",
          "2017-07-05T00:00:00",
          "2017-07-06T00:00:00",
          "2017-07-07T00:00:00",
          "2017-07-08T00:00:00",
          "2017-07-09T00:00:00",
          "2017-07-10T00:00:00",
          "2017-07-11T00:00:00",
          "2017-07-12T00:00:00",
          "2017-07-13T00:00:00",
          "2017-07-14T00:00:00",
          "2017-07-15T00:00:00",
          "2017-07-16T00:00:00",
          "2017-07-17T00:00:00",
          "2017-07-18T00:00:00",
          "2017-07-19T00:00:00",
          "2017-07-20T00:00:00",
          "2017-07-21T00:00:00",
          "2017-07-22T00:00:00",
          "2017-07-23T00:00:00",
          "2017-07-24T00:00:00",
          "2017-07-25T00:00:00",
          "2017-07-26T00:00:00",
          "2017-07-27T00:00:00",
          "2017-07-28T00:00:00",
          "2017-07-29T00:00:00",
          "2017-07-30T00:00:00",
          "2017-07-31T00:00:00",
          "2017-08-01T00:00:00",
          "2017-08-02T00:00:00",
          "2017-08-03T00:00:00",
          "2017-08-04T00:00:00",
          "2017-08-05T00:00:00",
          "2017-08-06T00:00:00",
          "2017-08-07T00:00:00",
          "2017-08-08T00:00:00",
          "2017-08-09T00:00:00",
          "2017-08-10T00:00:00",
          "2017-08-11T00:00:00",
          "2017-08-12T00:00:00",
          "2017-08-13T00:00:00",
          "2017-08-15T00:00:00",
          "2017-08-16T00:00:00",
          "2017-08-17T00:00:00",
          "2017-08-18T00:00:00",
          "2017-08-19T00:00:00",
          "2017-08-20T00:00:00",
          "2017-08-21T00:00:00",
          "2017-08-22T00:00:00",
          "2017-08-23T00:00:00",
          "2017-08-24T00:00:00",
          "2017-08-25T00:00:00",
          "2017-08-26T00:00:00",
          "2017-08-27T00:00:00",
          "2017-08-28T00:00:00",
          "2017-08-29T00:00:00",
          "2017-08-30T00:00:00"
         ],
         "xaxis": "x",
         "y": [
          19.833744049072266,
          21.060649871826172,
          20.16179656982422,
          20.581819534301758,
          21.52875328063965,
          21.979106903076172,
          22.127843856811523,
          22.720027923583984,
          22.538114547729492,
          22.03641128540039,
          20.71681785583496,
          21.29962730407715,
          21.67093276977539,
          22.800247192382812,
          22.405078887939453,
          21.093595504760742,
          22.658815383911133,
          21.907167434692383,
          21.914697647094727,
          22.866168975830078,
          24.14056968688965,
          24.256473541259766,
          24.286222457885742,
          23.241439819335938,
          22.83791732788086,
          21.979629516601562,
          21.2126407623291,
          21.726552963256836,
          22.102890014648438,
          22.102317810058594,
          22.419153213500977,
          21.559247970581055,
          23.54953384399414,
          23.80984878540039,
          23.320905685424805,
          24.139551162719727,
          25.613826751708984,
          23.773836135864258,
          22.871179580688477,
          22.539813995361328,
          22.723468780517578,
          22.05821990966797,
          21.56728172302246,
          20.987096786499023,
          20.194616317749023,
          19.275705337524414,
          19.988759994506836,
          20.386505126953125,
          21.031269073486328,
          20.612350463867188,
          21.554431915283203,
          21.438222885131836,
          22.216463088989258,
          22.04388999938965,
          20.07658576965332,
          18.773862838745117,
          16.824920654296875,
          17.394493103027344,
          14.077106475830078,
          13.377291679382324,
          14.565906524658203
         ],
         "yaxis": "y"
        }
       ],
       "layout": {
        "height": 400,
        "legend": {
         "title": {
          "text": "variable"
         },
         "tracegroupgap": 0
        },
        "template": {
         "data": {
          "bar": [
           {
            "error_x": {
             "color": "#2a3f5f"
            },
            "error_y": {
             "color": "#2a3f5f"
            },
            "marker": {
             "line": {
              "color": "#E5ECF6",
              "width": 0.5
             }
            },
            "type": "bar"
           }
          ],
          "barpolar": [
           {
            "marker": {
             "line": {
              "color": "#E5ECF6",
              "width": 0.5
             }
            },
            "type": "barpolar"
           }
          ],
          "carpet": [
           {
            "aaxis": {
             "endlinecolor": "#2a3f5f",
             "gridcolor": "white",
             "linecolor": "white",
             "minorgridcolor": "white",
             "startlinecolor": "#2a3f5f"
            },
            "baxis": {
             "endlinecolor": "#2a3f5f",
             "gridcolor": "white",
             "linecolor": "white",
             "minorgridcolor": "white",
             "startlinecolor": "#2a3f5f"
            },
            "type": "carpet"
           }
          ],
          "choropleth": [
           {
            "colorbar": {
             "outlinewidth": 0,
             "ticks": ""
            },
            "type": "choropleth"
           }
          ],
          "contour": [
           {
            "colorbar": {
             "outlinewidth": 0,
             "ticks": ""
            },
            "colorscale": [
             [
              0,
              "#0d0887"
             ],
             [
              0.1111111111111111,
              "#46039f"
             ],
             [
              0.2222222222222222,
              "#7201a8"
             ],
             [
              0.3333333333333333,
              "#9c179e"
             ],
             [
              0.4444444444444444,
              "#bd3786"
             ],
             [
              0.5555555555555556,
              "#d8576b"
             ],
             [
              0.6666666666666666,
              "#ed7953"
             ],
             [
              0.7777777777777778,
              "#fb9f3a"
             ],
             [
              0.8888888888888888,
              "#fdca26"
             ],
             [
              1,
              "#f0f921"
             ]
            ],
            "type": "contour"
           }
          ],
          "contourcarpet": [
           {
            "colorbar": {
             "outlinewidth": 0,
             "ticks": ""
            },
            "type": "contourcarpet"
           }
          ],
          "heatmap": [
           {
            "colorbar": {
             "outlinewidth": 0,
             "ticks": ""
            },
            "colorscale": [
             [
              0,
              "#0d0887"
             ],
             [
              0.1111111111111111,
              "#46039f"
             ],
             [
              0.2222222222222222,
              "#7201a8"
             ],
             [
              0.3333333333333333,
              "#9c179e"
             ],
             [
              0.4444444444444444,
              "#bd3786"
             ],
             [
              0.5555555555555556,
              "#d8576b"
             ],
             [
              0.6666666666666666,
              "#ed7953"
             ],
             [
              0.7777777777777778,
              "#fb9f3a"
             ],
             [
              0.8888888888888888,
              "#fdca26"
             ],
             [
              1,
              "#f0f921"
             ]
            ],
            "type": "heatmap"
           }
          ],
          "heatmapgl": [
           {
            "colorbar": {
             "outlinewidth": 0,
             "ticks": ""
            },
            "colorscale": [
             [
              0,
              "#0d0887"
             ],
             [
              0.1111111111111111,
              "#46039f"
             ],
             [
              0.2222222222222222,
              "#7201a8"
             ],
             [
              0.3333333333333333,
              "#9c179e"
             ],
             [
              0.4444444444444444,
              "#bd3786"
             ],
             [
              0.5555555555555556,
              "#d8576b"
             ],
             [
              0.6666666666666666,
              "#ed7953"
             ],
             [
              0.7777777777777778,
              "#fb9f3a"
             ],
             [
              0.8888888888888888,
              "#fdca26"
             ],
             [
              1,
              "#f0f921"
             ]
            ],
            "type": "heatmapgl"
           }
          ],
          "histogram": [
           {
            "marker": {
             "colorbar": {
              "outlinewidth": 0,
              "ticks": ""
             }
            },
            "type": "histogram"
           }
          ],
          "histogram2d": [
           {
            "colorbar": {
             "outlinewidth": 0,
             "ticks": ""
            },
            "colorscale": [
             [
              0,
              "#0d0887"
             ],
             [
              0.1111111111111111,
              "#46039f"
             ],
             [
              0.2222222222222222,
              "#7201a8"
             ],
             [
              0.3333333333333333,
              "#9c179e"
             ],
             [
              0.4444444444444444,
              "#bd3786"
             ],
             [
              0.5555555555555556,
              "#d8576b"
             ],
             [
              0.6666666666666666,
              "#ed7953"
             ],
             [
              0.7777777777777778,
              "#fb9f3a"
             ],
             [
              0.8888888888888888,
              "#fdca26"
             ],
             [
              1,
              "#f0f921"
             ]
            ],
            "type": "histogram2d"
           }
          ],
          "histogram2dcontour": [
           {
            "colorbar": {
             "outlinewidth": 0,
             "ticks": ""
            },
            "colorscale": [
             [
              0,
              "#0d0887"
             ],
             [
              0.1111111111111111,
              "#46039f"
             ],
             [
              0.2222222222222222,
              "#7201a8"
             ],
             [
              0.3333333333333333,
              "#9c179e"
             ],
             [
              0.4444444444444444,
              "#bd3786"
             ],
             [
              0.5555555555555556,
              "#d8576b"
             ],
             [
              0.6666666666666666,
              "#ed7953"
             ],
             [
              0.7777777777777778,
              "#fb9f3a"
             ],
             [
              0.8888888888888888,
              "#fdca26"
             ],
             [
              1,
              "#f0f921"
             ]
            ],
            "type": "histogram2dcontour"
           }
          ],
          "mesh3d": [
           {
            "colorbar": {
             "outlinewidth": 0,
             "ticks": ""
            },
            "type": "mesh3d"
           }
          ],
          "parcoords": [
           {
            "line": {
             "colorbar": {
              "outlinewidth": 0,
              "ticks": ""
             }
            },
            "type": "parcoords"
           }
          ],
          "pie": [
           {
            "automargin": true,
            "type": "pie"
           }
          ],
          "scatter": [
           {
            "marker": {
             "colorbar": {
              "outlinewidth": 0,
              "ticks": ""
             }
            },
            "type": "scatter"
           }
          ],
          "scatter3d": [
           {
            "line": {
             "colorbar": {
              "outlinewidth": 0,
              "ticks": ""
             }
            },
            "marker": {
             "colorbar": {
              "outlinewidth": 0,
              "ticks": ""
             }
            },
            "type": "scatter3d"
           }
          ],
          "scattercarpet": [
           {
            "marker": {
             "colorbar": {
              "outlinewidth": 0,
              "ticks": ""
             }
            },
            "type": "scattercarpet"
           }
          ],
          "scattergeo": [
           {
            "marker": {
             "colorbar": {
              "outlinewidth": 0,
              "ticks": ""
             }
            },
            "type": "scattergeo"
           }
          ],
          "scattergl": [
           {
            "marker": {
             "colorbar": {
              "outlinewidth": 0,
              "ticks": ""
             }
            },
            "type": "scattergl"
           }
          ],
          "scattermapbox": [
           {
            "marker": {
             "colorbar": {
              "outlinewidth": 0,
              "ticks": ""
             }
            },
            "type": "scattermapbox"
           }
          ],
          "scatterpolar": [
           {
            "marker": {
             "colorbar": {
              "outlinewidth": 0,
              "ticks": ""
             }
            },
            "type": "scatterpolar"
           }
          ],
          "scatterpolargl": [
           {
            "marker": {
             "colorbar": {
              "outlinewidth": 0,
              "ticks": ""
             }
            },
            "type": "scatterpolargl"
           }
          ],
          "scatterternary": [
           {
            "marker": {
             "colorbar": {
              "outlinewidth": 0,
              "ticks": ""
             }
            },
            "type": "scatterternary"
           }
          ],
          "surface": [
           {
            "colorbar": {
             "outlinewidth": 0,
             "ticks": ""
            },
            "colorscale": [
             [
              0,
              "#0d0887"
             ],
             [
              0.1111111111111111,
              "#46039f"
             ],
             [
              0.2222222222222222,
              "#7201a8"
             ],
             [
              0.3333333333333333,
              "#9c179e"
             ],
             [
              0.4444444444444444,
              "#bd3786"
             ],
             [
              0.5555555555555556,
              "#d8576b"
             ],
             [
              0.6666666666666666,
              "#ed7953"
             ],
             [
              0.7777777777777778,
              "#fb9f3a"
             ],
             [
              0.8888888888888888,
              "#fdca26"
             ],
             [
              1,
              "#f0f921"
             ]
            ],
            "type": "surface"
           }
          ],
          "table": [
           {
            "cells": {
             "fill": {
              "color": "#EBF0F8"
             },
             "line": {
              "color": "white"
             }
            },
            "header": {
             "fill": {
              "color": "#C8D4E3"
             },
             "line": {
              "color": "white"
             }
            },
            "type": "table"
           }
          ]
         },
         "layout": {
          "annotationdefaults": {
           "arrowcolor": "#2a3f5f",
           "arrowhead": 0,
           "arrowwidth": 1
          },
          "autotypenumbers": "strict",
          "coloraxis": {
           "colorbar": {
            "outlinewidth": 0,
            "ticks": ""
           }
          },
          "colorscale": {
           "diverging": [
            [
             0,
             "#8e0152"
            ],
            [
             0.1,
             "#c51b7d"
            ],
            [
             0.2,
             "#de77ae"
            ],
            [
             0.3,
             "#f1b6da"
            ],
            [
             0.4,
             "#fde0ef"
            ],
            [
             0.5,
             "#f7f7f7"
            ],
            [
             0.6,
             "#e6f5d0"
            ],
            [
             0.7,
             "#b8e186"
            ],
            [
             0.8,
             "#7fbc41"
            ],
            [
             0.9,
             "#4d9221"
            ],
            [
             1,
             "#276419"
            ]
           ],
           "sequential": [
            [
             0,
             "#0d0887"
            ],
            [
             0.1111111111111111,
             "#46039f"
            ],
            [
             0.2222222222222222,
             "#7201a8"
            ],
            [
             0.3333333333333333,
             "#9c179e"
            ],
            [
             0.4444444444444444,
             "#bd3786"
            ],
            [
             0.5555555555555556,
             "#d8576b"
            ],
            [
             0.6666666666666666,
             "#ed7953"
            ],
            [
             0.7777777777777778,
             "#fb9f3a"
            ],
            [
             0.8888888888888888,
             "#fdca26"
            ],
            [
             1,
             "#f0f921"
            ]
           ],
           "sequentialminus": [
            [
             0,
             "#0d0887"
            ],
            [
             0.1111111111111111,
             "#46039f"
            ],
            [
             0.2222222222222222,
             "#7201a8"
            ],
            [
             0.3333333333333333,
             "#9c179e"
            ],
            [
             0.4444444444444444,
             "#bd3786"
            ],
            [
             0.5555555555555556,
             "#d8576b"
            ],
            [
             0.6666666666666666,
             "#ed7953"
            ],
            [
             0.7777777777777778,
             "#fb9f3a"
            ],
            [
             0.8888888888888888,
             "#fdca26"
            ],
            [
             1,
             "#f0f921"
            ]
           ]
          },
          "colorway": [
           "#636efa",
           "#EF553B",
           "#00cc96",
           "#ab63fa",
           "#FFA15A",
           "#19d3f3",
           "#FF6692",
           "#B6E880",
           "#FF97FF",
           "#FECB52"
          ],
          "font": {
           "color": "#2a3f5f"
          },
          "geo": {
           "bgcolor": "white",
           "lakecolor": "white",
           "landcolor": "#E5ECF6",
           "showlakes": true,
           "showland": true,
           "subunitcolor": "white"
          },
          "hoverlabel": {
           "align": "left"
          },
          "hovermode": "closest",
          "mapbox": {
           "style": "light"
          },
          "paper_bgcolor": "white",
          "plot_bgcolor": "#E5ECF6",
          "polar": {
           "angularaxis": {
            "gridcolor": "white",
            "linecolor": "white",
            "ticks": ""
           },
           "bgcolor": "#E5ECF6",
           "radialaxis": {
            "gridcolor": "white",
            "linecolor": "white",
            "ticks": ""
           }
          },
          "scene": {
           "xaxis": {
            "backgroundcolor": "#E5ECF6",
            "gridcolor": "white",
            "gridwidth": 2,
            "linecolor": "white",
            "showbackground": true,
            "ticks": "",
            "zerolinecolor": "white"
           },
           "yaxis": {
            "backgroundcolor": "#E5ECF6",
            "gridcolor": "white",
            "gridwidth": 2,
            "linecolor": "white",
            "showbackground": true,
            "ticks": "",
            "zerolinecolor": "white"
           },
           "zaxis": {
            "backgroundcolor": "#E5ECF6",
            "gridcolor": "white",
            "gridwidth": 2,
            "linecolor": "white",
            "showbackground": true,
            "ticks": "",
            "zerolinecolor": "white"
           }
          },
          "shapedefaults": {
           "line": {
            "color": "#2a3f5f"
           }
          },
          "ternary": {
           "aaxis": {
            "gridcolor": "white",
            "linecolor": "white",
            "ticks": ""
           },
           "baxis": {
            "gridcolor": "white",
            "linecolor": "white",
            "ticks": ""
           },
           "bgcolor": "#E5ECF6",
           "caxis": {
            "gridcolor": "white",
            "linecolor": "white",
            "ticks": ""
           }
          },
          "title": {
           "x": 0.05
          },
          "xaxis": {
           "automargin": true,
           "gridcolor": "white",
           "linecolor": "white",
           "ticks": "",
           "title": {
            "standoff": 15
           },
           "zerolinecolor": "white",
           "zerolinewidth": 2
          },
          "yaxis": {
           "automargin": true,
           "gridcolor": "white",
           "linecolor": "white",
           "ticks": "",
           "title": {
            "standoff": 15
           },
           "zerolinecolor": "white",
           "zerolinewidth": 2
          }
         }
        },
        "title": {
         "text": "Previsão Modelo MLP (Temperatura Mínima T+1)"
        },
        "width": 800,
        "xaxis": {
         "anchor": "y",
         "domain": [
          0,
          1
         ],
         "title": {
          "text": "Date"
         }
        },
        "yaxis": {
         "anchor": "x",
         "domain": [
          0,
          1
         ],
         "title": {
          "text": "Temperatura Minima Seoul (°C)"
         }
        }
       }
      }
     },
     "metadata": {},
     "output_type": "display_data"
    }
   ],
   "source": [
    "fig = px.line(forecast_results, x='Date', y=['Next_Tmin', 'Previsão'], labels={'value': 'Temperatura Minima Seoul (°C)'}, title='Previsão Modelo MLP (Temperatura Mínima T+1)', width=800, height=400)\n",
    "fig.show()\n"
   ]
  },
  {
   "cell_type": "markdown",
   "metadata": {},
   "source": [
    "# Random Forest"
   ]
  },
  {
   "cell_type": "markdown",
   "metadata": {},
   "source": [
    "## Model Implementation fo Tmax"
   ]
  },
  {
   "cell_type": "markdown",
   "metadata": {},
   "source": [
    "### For all 25 stations"
   ]
  },
  {
   "cell_type": "code",
   "execution_count": 35,
   "metadata": {},
   "outputs": [
    {
     "name": "stdout",
     "output_type": "stream",
     "text": [
      "R-squared: 0.6288600510029183\n",
      "MSE: 0.379740347098654\n"
     ]
    }
   ],
   "source": [
    "from sklearn.ensemble import RandomForestRegressor\n",
    "regressor = RandomForestRegressor(\n",
    "    n_estimators=200, criterion='mse', random_state=0)\n",
    "regressor.fit(X_train, y_train_Tmax)\n",
    "yfit_Tmax_RF = regressor.predict(X_test)\n",
    "print(\"R-squared:\", r2_score(y_test_Tmax, yfit_Tmax_RF))\n",
    "print(\"MSE:\", mean_squared_error(y_test_Tmax, yfit_Tmax_RF))\n"
   ]
  },
  {
   "cell_type": "code",
   "execution_count": 40,
   "metadata": {},
   "outputs": [
    {
     "data": {
      "image/png": "[encoded data removed]",
      "text/plain": [
       "<Figure size 432x288 with 1 Axes>"
      ]
     },
     "metadata": {
      "needs_background": "light"
     },
     "output_type": "display_data"
    }
   ],
   "source": [
    "slope, intercept, r_value, p_value, std_err = stats.linregress(\n",
    "    y_scaler_fit_Tmax.inverse_transform(y_test_Tmax), y_scaler_fit_Tmax.inverse_transform(yfit_Tmax_RF))\n",
    "ax = sns.regplot(x=y_scaler_fit_Tmax.inverse_transform(y_test_Tmax), y=y_scaler_fit_Tmax.inverse_transform(\n",
    "    yfit_Tmax_RF), line_kws={'color': 'red', 'label': \"y={0:.1f}x+{1:.1f}\".format(slope, intercept)})\n",
    "sns.kdeplot(y_scaler_fit_Tmax.inverse_transform(y_test_Tmax),\n",
    "            y_scaler_fit_Tmax.inverse_transform(yfit_Tmax_RF))\n",
    "ax.legend(loc='upper left')\n",
    "ax.set(xlabel='Next_Tmin (°C)', ylabel='Previsão (°C)', title='RF')\n",
    "ax.figure.savefig(\"RF_tmax.jpeg\")\n"
   ]
  },
  {
   "cell_type": "code",
   "execution_count": 23,
   "metadata": {},
   "outputs": [
    {
     "name": "stdout",
     "output_type": "stream",
     "text": [
      "R-squared: 0.6890073099989509\n",
      "MSE: 0.27686293507533666\n"
     ]
    }
   ],
   "source": [
    "yfit_RF = regressor.predict(X_test_st1)\n",
    "print(\"R-squared:\", r2_score(y_test_Tmax_st1, yfit_RF))\n",
    "print(\"MSE:\", mean_squared_error(y_test_Tmax_st1, yfit_RF))\n"
   ]
  },
  {
   "cell_type": "code",
   "execution_count": 25,
   "metadata": {},
   "outputs": [
    {
     "data": {
      "text/html": [
       "<div>\n",
       "<style scoped>\n",
       "    .dataframe tbody tr th:only-of-type {\n",
       "        vertical-align: middle;\n",
       "    }\n",
       "\n",
       "    .dataframe tbody tr th {\n",
       "        vertical-align: top;\n",
       "    }\n",
       "\n",
       "    .dataframe thead th {\n",
       "        text-align: right;\n",
       "    }\n",
       "</style>\n",
       "<table border=\"1\" class=\"dataframe\">\n",
       "  <thead>\n",
       "    <tr style=\"text-align: right;\">\n",
       "      <th></th>\n",
       "      <th>station</th>\n",
       "      <th>Date</th>\n",
       "      <th>Year</th>\n",
       "      <th>Present_Tmax</th>\n",
       "      <th>Present_Tmin</th>\n",
       "      <th>LDAPS_RHmin</th>\n",
       "      <th>LDAPS_RHmax</th>\n",
       "      <th>LDAPS_Tmax_lapse</th>\n",
       "      <th>LDAPS_Tmin_lapse</th>\n",
       "      <th>LDAPS_WS</th>\n",
       "      <th>...</th>\n",
       "      <th>LDAPS_PPT2</th>\n",
       "      <th>LDAPS_PPT3</th>\n",
       "      <th>LDAPS_PPT4</th>\n",
       "      <th>lat</th>\n",
       "      <th>lon</th>\n",
       "      <th>DEM</th>\n",
       "      <th>Slope</th>\n",
       "      <th>Solar radiation</th>\n",
       "      <th>Next_Tmax</th>\n",
       "      <th>Previsão</th>\n",
       "    </tr>\n",
       "  </thead>\n",
       "  <tbody>\n",
       "    <tr>\n",
       "      <th>0</th>\n",
       "      <td>1.0000000000</td>\n",
       "      <td>2017-06-30</td>\n",
       "      <td>2017</td>\n",
       "      <td>-0.6353088184</td>\n",
       "      <td>-1.3677698573</td>\n",
       "      <td>0.1786262381</td>\n",
       "      <td>1.3296752649</td>\n",
       "      <td>-0.9846526951</td>\n",
       "      <td>-1.1434685968</td>\n",
       "      <td>-0.3077624363</td>\n",
       "      <td>...</td>\n",
       "      <td>-0.2896729941</td>\n",
       "      <td>-0.2525800675</td>\n",
       "      <td>-0.1928158068</td>\n",
       "      <td>1.1906687093</td>\n",
       "      <td>-0.0008005538</td>\n",
       "      <td>2.7726693600</td>\n",
       "      <td>1.1163202881</td>\n",
       "      <td>1.5175509274</td>\n",
       "      <td>29.2000000000</td>\n",
       "      <td>27.6280000000</td>\n",
       "    </tr>\n",
       "    <tr>\n",
       "      <th>1</th>\n",
       "      <td>1.0000000000</td>\n",
       "      <td>2017-07-01</td>\n",
       "      <td>2017</td>\n",
       "      <td>-0.1975405447</td>\n",
       "      <td>-1.4093038588</td>\n",
       "      <td>2.4081613579</td>\n",
       "      <td>1.6303044350</td>\n",
       "      <td>-1.8206951910</td>\n",
       "      <td>-0.3916778506</td>\n",
       "      <td>1.0452531562</td>\n",
       "      <td>...</td>\n",
       "      <td>0.0044358885</td>\n",
       "      <td>0.4212376731</td>\n",
       "      <td>2.5402188894</td>\n",
       "      <td>1.1906687093</td>\n",
       "      <td>-0.0008005538</td>\n",
       "      <td>2.7726693600</td>\n",
       "      <td>1.1163202881</td>\n",
       "      <td>1.5054912834</td>\n",
       "      <td>24.1000000000</td>\n",
       "      <td>24.1250000000</td>\n",
       "    </tr>\n",
       "    <tr>\n",
       "      <th>2</th>\n",
       "      <td>1.0000000000</td>\n",
       "      <td>2017-07-02</td>\n",
       "      <td>2017</td>\n",
       "      <td>-2.0159626049</td>\n",
       "      <td>-1.0770318467</td>\n",
       "      <td>2.5316435620</td>\n",
       "      <td>1.6313746261</td>\n",
       "      <td>-1.9865524721</td>\n",
       "      <td>-0.6483755441</td>\n",
       "      <td>1.6574241297</td>\n",
       "      <td>...</td>\n",
       "      <td>6.9196671336</td>\n",
       "      <td>-0.2449624428</td>\n",
       "      <td>-0.1149365838</td>\n",
       "      <td>1.1906687093</td>\n",
       "      <td>-0.0008005538</td>\n",
       "      <td>2.7726693600</td>\n",
       "      <td>1.1163202881</td>\n",
       "      <td>1.4921225140</td>\n",
       "      <td>25.5000000000</td>\n",
       "      <td>24.1860000000</td>\n",
       "    </tr>\n",
       "    <tr>\n",
       "      <th>3</th>\n",
       "      <td>1.0000000000</td>\n",
       "      <td>2017-07-03</td>\n",
       "      <td>2017</td>\n",
       "      <td>-1.6118688137</td>\n",
       "      <td>-1.1185658482</td>\n",
       "      <td>0.1989934770</td>\n",
       "      <td>1.1605716197</td>\n",
       "      <td>-0.1451819785</td>\n",
       "      <td>-0.7643095525</td>\n",
       "      <td>0.0932883947</td>\n",
       "      <td>...</td>\n",
       "      <td>-0.2896729941</td>\n",
       "      <td>-0.2525800675</td>\n",
       "      <td>-0.2308736478</td>\n",
       "      <td>1.1906687093</td>\n",
       "      <td>-0.0008005538</td>\n",
       "      <td>2.7726693600</td>\n",
       "      <td>1.1163202881</td>\n",
       "      <td>1.4774400722</td>\n",
       "      <td>29.9000000000</td>\n",
       "      <td>27.9325000000</td>\n",
       "    </tr>\n",
       "    <tr>\n",
       "      <th>4</th>\n",
       "      <td>1.0000000000</td>\n",
       "      <td>2017-07-04</td>\n",
       "      <td>2017</td>\n",
       "      <td>-0.3995874402</td>\n",
       "      <td>-0.5786238285</td>\n",
       "      <td>-0.3558916090</td>\n",
       "      <td>0.0327526714</td>\n",
       "      <td>-0.0197111715</td>\n",
       "      <td>-0.4632657877</td>\n",
       "      <td>-0.3097391219</td>\n",
       "      <td>...</td>\n",
       "      <td>-0.2896729941</td>\n",
       "      <td>-0.2525800675</td>\n",
       "      <td>-0.2308736478</td>\n",
       "      <td>1.1906687093</td>\n",
       "      <td>-0.0008005538</td>\n",
       "      <td>2.7726693600</td>\n",
       "      <td>1.1163202881</td>\n",
       "      <td>1.4614439534</td>\n",
       "      <td>30.0000000000</td>\n",
       "      <td>29.9050000000</td>\n",
       "    </tr>\n",
       "  </tbody>\n",
       "</table>\n",
       "<p>5 rows × 26 columns</p>\n",
       "</div>"
      ],
      "text/plain": [
       "       station       Date  Year  Present_Tmax  Present_Tmin   LDAPS_RHmin  \\\n",
       "0 1.0000000000 2017-06-30  2017 -0.6353088184 -1.3677698573  0.1786262381   \n",
       "1 1.0000000000 2017-07-01  2017 -0.1975405447 -1.4093038588  2.4081613579   \n",
       "2 1.0000000000 2017-07-02  2017 -2.0159626049 -1.0770318467  2.5316435620   \n",
       "3 1.0000000000 2017-07-03  2017 -1.6118688137 -1.1185658482  0.1989934770   \n",
       "4 1.0000000000 2017-07-04  2017 -0.3995874402 -0.5786238285 -0.3558916090   \n",
       "\n",
       "   LDAPS_RHmax  LDAPS_Tmax_lapse  LDAPS_Tmin_lapse      LDAPS_WS  ...  \\\n",
       "0 1.3296752649     -0.9846526951     -1.1434685968 -0.3077624363  ...   \n",
       "1 1.6303044350     -1.8206951910     -0.3916778506  1.0452531562  ...   \n",
       "2 1.6313746261     -1.9865524721     -0.6483755441  1.6574241297  ...   \n",
       "3 1.1605716197     -0.1451819785     -0.7643095525  0.0932883947  ...   \n",
       "4 0.0327526714     -0.0197111715     -0.4632657877 -0.3097391219  ...   \n",
       "\n",
       "     LDAPS_PPT2    LDAPS_PPT3    LDAPS_PPT4          lat           lon  \\\n",
       "0 -0.2896729941 -0.2525800675 -0.1928158068 1.1906687093 -0.0008005538   \n",
       "1  0.0044358885  0.4212376731  2.5402188894 1.1906687093 -0.0008005538   \n",
       "2  6.9196671336 -0.2449624428 -0.1149365838 1.1906687093 -0.0008005538   \n",
       "3 -0.2896729941 -0.2525800675 -0.2308736478 1.1906687093 -0.0008005538   \n",
       "4 -0.2896729941 -0.2525800675 -0.2308736478 1.1906687093 -0.0008005538   \n",
       "\n",
       "           DEM        Slope  Solar radiation     Next_Tmax      Previsão  \n",
       "0 2.7726693600 1.1163202881     1.5175509274 29.2000000000 27.6280000000  \n",
       "1 2.7726693600 1.1163202881     1.5054912834 24.1000000000 24.1250000000  \n",
       "2 2.7726693600 1.1163202881     1.4921225140 25.5000000000 24.1860000000  \n",
       "3 2.7726693600 1.1163202881     1.4774400722 29.9000000000 27.9325000000  \n",
       "4 2.7726693600 1.1163202881     1.4614439534 30.0000000000 29.9050000000  \n",
       "\n",
       "[5 rows x 26 columns]"
      ]
     },
     "execution_count": 25,
     "metadata": {},
     "output_type": "execute_result"
    }
   ],
   "source": [
    "y_test_Tmax_st1_frame = y_test_Tmax_st1.to_frame('Next_Tmax')\n",
    "y_test_Tmax_st1_frame['Next_Tmax'] = y_scaler_fit_Tmax.inverse_transform(\n",
    "    y_test_Tmax_st1)\n",
    "forecast_results = pd.merge(\n",
    "    X_test_st1, y_test_Tmax_st1_frame, left_index=True, right_index=True)\n",
    "forecast_results = forecast_results.reset_index()\n",
    "forecast_results = forecast_results.merge(pd.DataFrame(y_scaler_fit_Tmax.inverse_transform(\n",
    "    yfit_RF), columns=['Previsão']).reset_index(drop=True), left_index=True, right_index=True)\n",
    "forecast_results.head()\n"
   ]
  },
  {
   "cell_type": "code",
   "execution_count": 46,
   "metadata": {},
   "outputs": [
    {
     "ename": "ValueError",
     "evalue": "All arguments should have the same length. The length of argument `y` is 2, whereas the length of  previously-processed arguments ['Date'] is 61",
     "output_type": "error",
     "traceback": [
      "\u001b[1;31m---------------------------------------------------------------------------\u001b[0m",
      "\u001b[1;31mValueError\u001b[0m                                Traceback (most recent call last)",
      "\u001b[1;32m<ipython-input-46-45fadcdf599e>\u001b[0m in \u001b[0;36m<module>\u001b[1;34m\u001b[0m\n\u001b[1;32m----> 1\u001b[1;33m fig = px.line(forecast_results, x='Date', y=['Next_Tmax', 'Previsão'], labels={\n\u001b[0m\u001b[0;32m      2\u001b[0m               'value': \"Temperatura Máxima Seoul (°C)\"}, title='Previsão Modelo RF (Temperatura Máxima T+1)', width=800, height=400)\n\u001b[0;32m      3\u001b[0m \u001b[0mfig\u001b[0m\u001b[1;33m.\u001b[0m\u001b[0mshow\u001b[0m\u001b[1;33m(\u001b[0m\u001b[1;33m)\u001b[0m\u001b[1;33m\u001b[0m\u001b[1;33m\u001b[0m\u001b[0m\n",
      "\u001b[1;32m~\\AppData\\Local\\Programs\\Python\\Python39\\lib\\site-packages\\plotly\\express\\_chart_types.py\u001b[0m in \u001b[0;36mline\u001b[1;34m(data_frame, x, y, line_group, color, line_dash, hover_name, hover_data, custom_data, text, facet_row, facet_col, facet_col_wrap, facet_row_spacing, facet_col_spacing, error_x, error_x_minus, error_y, error_y_minus, animation_frame, animation_group, category_orders, labels, orientation, color_discrete_sequence, color_discrete_map, line_dash_sequence, line_dash_map, log_x, log_y, range_x, range_y, line_shape, render_mode, title, template, width, height)\u001b[0m\n\u001b[0;32m    250\u001b[0m     \u001b[0ma\u001b[0m \u001b[0mpolyline\u001b[0m \u001b[0mmark\u001b[0m \u001b[1;32min\u001b[0m \u001b[1;36m2\u001b[0m\u001b[0mD\u001b[0m \u001b[0mspace\u001b[0m\u001b[1;33m.\u001b[0m\u001b[1;33m\u001b[0m\u001b[1;33m\u001b[0m\u001b[0m\n\u001b[0;32m    251\u001b[0m     \"\"\"\n\u001b[1;32m--> 252\u001b[1;33m     \u001b[1;32mreturn\u001b[0m \u001b[0mmake_figure\u001b[0m\u001b[1;33m(\u001b[0m\u001b[0margs\u001b[0m\u001b[1;33m=\u001b[0m\u001b[0mlocals\u001b[0m\u001b[1;33m(\u001b[0m\u001b[1;33m)\u001b[0m\u001b[1;33m,\u001b[0m \u001b[0mconstructor\u001b[0m\u001b[1;33m=\u001b[0m\u001b[0mgo\u001b[0m\u001b[1;33m.\u001b[0m\u001b[0mScatter\u001b[0m\u001b[1;33m)\u001b[0m\u001b[1;33m\u001b[0m\u001b[1;33m\u001b[0m\u001b[0m\n\u001b[0m\u001b[0;32m    253\u001b[0m \u001b[1;33m\u001b[0m\u001b[0m\n\u001b[0;32m    254\u001b[0m \u001b[1;33m\u001b[0m\u001b[0m\n",
      "\u001b[1;32m~\\AppData\\Local\\Programs\\Python\\Python39\\lib\\site-packages\\plotly\\express\\_core.py\u001b[0m in \u001b[0;36mmake_figure\u001b[1;34m(args, constructor, trace_patch, layout_patch)\u001b[0m\n\u001b[0;32m   1859\u001b[0m     \u001b[0mapply_default_cascade\u001b[0m\u001b[1;33m(\u001b[0m\u001b[0margs\u001b[0m\u001b[1;33m)\u001b[0m\u001b[1;33m\u001b[0m\u001b[1;33m\u001b[0m\u001b[0m\n\u001b[0;32m   1860\u001b[0m \u001b[1;33m\u001b[0m\u001b[0m\n\u001b[1;32m-> 1861\u001b[1;33m     \u001b[0margs\u001b[0m \u001b[1;33m=\u001b[0m \u001b[0mbuild_dataframe\u001b[0m\u001b[1;33m(\u001b[0m\u001b[0margs\u001b[0m\u001b[1;33m,\u001b[0m \u001b[0mconstructor\u001b[0m\u001b[1;33m)\u001b[0m\u001b[1;33m\u001b[0m\u001b[1;33m\u001b[0m\u001b[0m\n\u001b[0m\u001b[0;32m   1862\u001b[0m     \u001b[1;32mif\u001b[0m \u001b[0mconstructor\u001b[0m \u001b[1;32min\u001b[0m \u001b[1;33m[\u001b[0m\u001b[0mgo\u001b[0m\u001b[1;33m.\u001b[0m\u001b[0mTreemap\u001b[0m\u001b[1;33m,\u001b[0m \u001b[0mgo\u001b[0m\u001b[1;33m.\u001b[0m\u001b[0mSunburst\u001b[0m\u001b[1;33m]\u001b[0m \u001b[1;32mand\u001b[0m \u001b[0margs\u001b[0m\u001b[1;33m[\u001b[0m\u001b[1;34m\"path\"\u001b[0m\u001b[1;33m]\u001b[0m \u001b[1;32mis\u001b[0m \u001b[1;32mnot\u001b[0m \u001b[1;32mNone\u001b[0m\u001b[1;33m:\u001b[0m\u001b[1;33m\u001b[0m\u001b[1;33m\u001b[0m\u001b[0m\n\u001b[0;32m   1863\u001b[0m         \u001b[0margs\u001b[0m \u001b[1;33m=\u001b[0m \u001b[0mprocess_dataframe_hierarchy\u001b[0m\u001b[1;33m(\u001b[0m\u001b[0margs\u001b[0m\u001b[1;33m)\u001b[0m\u001b[1;33m\u001b[0m\u001b[1;33m\u001b[0m\u001b[0m\n",
      "\u001b[1;32m~\\AppData\\Local\\Programs\\Python\\Python39\\lib\\site-packages\\plotly\\express\\_core.py\u001b[0m in \u001b[0;36mbuild_dataframe\u001b[1;34m(args, constructor)\u001b[0m\n\u001b[0;32m   1375\u001b[0m     \u001b[1;31m# now that things have been prepped, we do the systematic rewriting of `args`\u001b[0m\u001b[1;33m\u001b[0m\u001b[1;33m\u001b[0m\u001b[1;33m\u001b[0m\u001b[0m\n\u001b[0;32m   1376\u001b[0m \u001b[1;33m\u001b[0m\u001b[0m\n\u001b[1;32m-> 1377\u001b[1;33m     df_output, wide_id_vars = process_args_into_dataframe(\n\u001b[0m\u001b[0;32m   1378\u001b[0m         \u001b[0margs\u001b[0m\u001b[1;33m,\u001b[0m \u001b[0mwide_mode\u001b[0m\u001b[1;33m,\u001b[0m \u001b[0mvar_name\u001b[0m\u001b[1;33m,\u001b[0m \u001b[0mvalue_name\u001b[0m\u001b[1;33m\u001b[0m\u001b[1;33m\u001b[0m\u001b[0m\n\u001b[0;32m   1379\u001b[0m     )\n",
      "\u001b[1;32m~\\AppData\\Local\\Programs\\Python\\Python39\\lib\\site-packages\\plotly\\express\\_core.py\u001b[0m in \u001b[0;36mprocess_args_into_dataframe\u001b[1;34m(args, wide_mode, var_name, value_name)\u001b[0m\n\u001b[0;32m   1219\u001b[0m \u001b[1;33m\u001b[0m\u001b[0m\n\u001b[0;32m   1220\u001b[0m                 \u001b[1;32mif\u001b[0m \u001b[0mlength\u001b[0m \u001b[1;32mand\u001b[0m \u001b[0mlen\u001b[0m\u001b[1;33m(\u001b[0m\u001b[0margument\u001b[0m\u001b[1;33m)\u001b[0m \u001b[1;33m!=\u001b[0m \u001b[0mlength\u001b[0m\u001b[1;33m:\u001b[0m\u001b[1;33m\u001b[0m\u001b[1;33m\u001b[0m\u001b[0m\n\u001b[1;32m-> 1221\u001b[1;33m                     raise ValueError(\n\u001b[0m\u001b[0;32m   1222\u001b[0m                         \u001b[1;34m\"All arguments should have the same length. \"\u001b[0m\u001b[1;33m\u001b[0m\u001b[1;33m\u001b[0m\u001b[0m\n\u001b[0;32m   1223\u001b[0m                         \u001b[1;34m\"The length of argument `%s` is %d, whereas the \"\u001b[0m\u001b[1;33m\u001b[0m\u001b[1;33m\u001b[0m\u001b[0m\n",
      "\u001b[1;31mValueError\u001b[0m: All arguments should have the same length. The length of argument `y` is 2, whereas the length of  previously-processed arguments ['Date'] is 61"
     ]
    }
   ],
   "source": [
    "fig = px.line(forecast_results, x='Date', y=['Next_Tmax', 'Previsão'], labels={\n",
    "              'value': \"Temperatura Máxima Seoul (°C)\"}, title='Previsão Modelo RF (Temperatura Máxima T+1)', width=800, height=400)\n",
    "fig.show()\n"
   ]
  },
  {
   "cell_type": "markdown",
   "metadata": {},
   "source": [
    "### Model Implementation For Tmin"
   ]
  },
  {
   "cell_type": "code",
   "execution_count": 52,
   "metadata": {},
   "outputs": [
    {
     "name": "stdout",
     "output_type": "stream",
     "text": [
      "R-squared: 0.8708354052284503\n",
      "MSE: 0.13009656977483236\n"
     ]
    }
   ],
   "source": [
    "regressor = RandomForestRegressor(\n",
    "    n_estimators=200, criterion='mse', random_state=0)\n",
    "regressor.fit(X_train, y_train_Tmin)\n",
    "yfit_Tmin_RF = regressor.predict(X_test)\n",
    "print(\"R-squared:\", r2_score(y_test_Tmin, yfit_Tmin_RF))\n",
    "print(\"MSE:\", mean_squared_error(y_test_Tmin, yfit_Tmin_RF))\n"
   ]
  },
  {
   "cell_type": "code",
   "execution_count": 53,
   "metadata": {},
   "outputs": [
    {
     "data": {
      "image/png": "[encoded data removed]",
      "text/plain": [
       "<Figure size 432x288 with 1 Axes>"
      ]
     },
     "metadata": {
      "needs_background": "light"
     },
     "output_type": "display_data"
    }
   ],
   "source": [
    "slope, intercept, r_value, p_value, std_err = stats.linregress(\n",
    "    y_scaler_fit_Tmin.inverse_transform(y_test_Tmin), y_scaler_fit_Tmin.inverse_transform(yfit_Tmin_RF))\n",
    "ax = sns.regplot(x=y_scaler_fit_Tmin.inverse_transform(y_test_Tmin), y=y_scaler_fit_Tmin.inverse_transform(\n",
    "    yfit_Tmin_RF), line_kws={'color': 'red', 'label': \"y={0:.1f}x+{1:.1f}\".format(slope, intercept)})\n",
    "sns.kdeplot(y_scaler_fit_Tmin.inverse_transform(y_test_Tmin),\n",
    "            y_scaler_fit_Tmin.inverse_transform(yfit_Tmin_RF))\n",
    "ax.legend(loc='upper left')\n",
    "ax.set(xlabel='Next_Tmin (°C)', ylabel='Previsão (°C)', title='RF')\n",
    "ax.figure.savefig(\"RF_tmin.jpeg\")\n"
   ]
  },
  {
   "cell_type": "code",
   "execution_count": 57,
   "metadata": {},
   "outputs": [
    {
     "name": "stdout",
     "output_type": "stream",
     "text": [
      "R-squared: 0.8884843593325582\n",
      "MSE: 0.09606706162926369\n"
     ]
    }
   ],
   "source": [
    "yfit_Tmin_RF = regressor.predict(X_test_st1)\n",
    "print(\"R-squared:\", r2_score(y_test_Tmin_st1, yfit_Tmin_RF))\n",
    "print(\"MSE:\", mean_squared_error(y_test_Tmin_st1, yfit_Tmin_RF))\n"
   ]
  },
  {
   "cell_type": "code",
   "execution_count": 55,
   "metadata": {},
   "outputs": [
    {
     "data": {
      "text/html": [
       "<div>\n",
       "<style scoped>\n",
       "    .dataframe tbody tr th:only-of-type {\n",
       "        vertical-align: middle;\n",
       "    }\n",
       "\n",
       "    .dataframe tbody tr th {\n",
       "        vertical-align: top;\n",
       "    }\n",
       "\n",
       "    .dataframe thead th {\n",
       "        text-align: right;\n",
       "    }\n",
       "</style>\n",
       "<table border=\"1\" class=\"dataframe\">\n",
       "  <thead>\n",
       "    <tr style=\"text-align: right;\">\n",
       "      <th></th>\n",
       "      <th>station</th>\n",
       "      <th>Date</th>\n",
       "      <th>Year</th>\n",
       "      <th>Present_Tmax</th>\n",
       "      <th>Present_Tmin</th>\n",
       "      <th>LDAPS_RHmin</th>\n",
       "      <th>LDAPS_RHmax</th>\n",
       "      <th>LDAPS_Tmax_lapse</th>\n",
       "      <th>LDAPS_Tmin_lapse</th>\n",
       "      <th>LDAPS_WS</th>\n",
       "      <th>...</th>\n",
       "      <th>LDAPS_PPT2</th>\n",
       "      <th>LDAPS_PPT3</th>\n",
       "      <th>LDAPS_PPT4</th>\n",
       "      <th>lat</th>\n",
       "      <th>lon</th>\n",
       "      <th>DEM</th>\n",
       "      <th>Slope</th>\n",
       "      <th>Solar radiation</th>\n",
       "      <th>Next_Tmin</th>\n",
       "      <th>Previsão</th>\n",
       "    </tr>\n",
       "  </thead>\n",
       "  <tbody>\n",
       "    <tr>\n",
       "      <th>0</th>\n",
       "      <td>1.0000000000</td>\n",
       "      <td>2017-06-30</td>\n",
       "      <td>2017</td>\n",
       "      <td>-0.6353088184</td>\n",
       "      <td>-1.3677698573</td>\n",
       "      <td>0.1786262381</td>\n",
       "      <td>1.3296752649</td>\n",
       "      <td>-0.9846526951</td>\n",
       "      <td>-1.1434685968</td>\n",
       "      <td>-0.3077624363</td>\n",
       "      <td>...</td>\n",
       "      <td>-0.2896729941</td>\n",
       "      <td>-0.2525800675</td>\n",
       "      <td>-0.1928158068</td>\n",
       "      <td>1.1906687093</td>\n",
       "      <td>-0.0008005538</td>\n",
       "      <td>2.7726693600</td>\n",
       "      <td>1.1163202881</td>\n",
       "      <td>1.5175509274</td>\n",
       "      <td>19.6000000000</td>\n",
       "      <td>19.8960000000</td>\n",
       "    </tr>\n",
       "    <tr>\n",
       "      <th>1</th>\n",
       "      <td>1.0000000000</td>\n",
       "      <td>2017-07-01</td>\n",
       "      <td>2017</td>\n",
       "      <td>-0.1975405447</td>\n",
       "      <td>-1.4093038588</td>\n",
       "      <td>2.4081613579</td>\n",
       "      <td>1.6303044350</td>\n",
       "      <td>-1.8206951910</td>\n",
       "      <td>-0.3916778506</td>\n",
       "      <td>1.0452531562</td>\n",
       "      <td>...</td>\n",
       "      <td>0.0044358885</td>\n",
       "      <td>0.4212376731</td>\n",
       "      <td>2.5402188894</td>\n",
       "      <td>1.1906687093</td>\n",
       "      <td>-0.0008005538</td>\n",
       "      <td>2.7726693600</td>\n",
       "      <td>1.1163202881</td>\n",
       "      <td>1.5054912834</td>\n",
       "      <td>20.4000000000</td>\n",
       "      <td>21.2295000000</td>\n",
       "    </tr>\n",
       "    <tr>\n",
       "      <th>2</th>\n",
       "      <td>1.0000000000</td>\n",
       "      <td>2017-07-02</td>\n",
       "      <td>2017</td>\n",
       "      <td>-2.0159626049</td>\n",
       "      <td>-1.0770318467</td>\n",
       "      <td>2.5316435620</td>\n",
       "      <td>1.6313746261</td>\n",
       "      <td>-1.9865524721</td>\n",
       "      <td>-0.6483755441</td>\n",
       "      <td>1.6574241297</td>\n",
       "      <td>...</td>\n",
       "      <td>6.9196671336</td>\n",
       "      <td>-0.2449624428</td>\n",
       "      <td>-0.1149365838</td>\n",
       "      <td>1.1906687093</td>\n",
       "      <td>-0.0008005538</td>\n",
       "      <td>2.7726693600</td>\n",
       "      <td>1.1163202881</td>\n",
       "      <td>1.4921225140</td>\n",
       "      <td>20.5000000000</td>\n",
       "      <td>20.4970000000</td>\n",
       "    </tr>\n",
       "    <tr>\n",
       "      <th>3</th>\n",
       "      <td>1.0000000000</td>\n",
       "      <td>2017-07-03</td>\n",
       "      <td>2017</td>\n",
       "      <td>-1.6118688137</td>\n",
       "      <td>-1.1185658482</td>\n",
       "      <td>0.1989934770</td>\n",
       "      <td>1.1605716197</td>\n",
       "      <td>-0.1451819785</td>\n",
       "      <td>-0.7643095525</td>\n",
       "      <td>0.0932883947</td>\n",
       "      <td>...</td>\n",
       "      <td>-0.2896729941</td>\n",
       "      <td>-0.2525800675</td>\n",
       "      <td>-0.2308736478</td>\n",
       "      <td>1.1906687093</td>\n",
       "      <td>-0.0008005538</td>\n",
       "      <td>2.7726693600</td>\n",
       "      <td>1.1163202881</td>\n",
       "      <td>1.4774400722</td>\n",
       "      <td>20.6000000000</td>\n",
       "      <td>20.4665000000</td>\n",
       "    </tr>\n",
       "    <tr>\n",
       "      <th>4</th>\n",
       "      <td>1.0000000000</td>\n",
       "      <td>2017-07-04</td>\n",
       "      <td>2017</td>\n",
       "      <td>-0.3995874402</td>\n",
       "      <td>-0.5786238285</td>\n",
       "      <td>-0.3558916090</td>\n",
       "      <td>0.0327526714</td>\n",
       "      <td>-0.0197111715</td>\n",
       "      <td>-0.4632657877</td>\n",
       "      <td>-0.3097391219</td>\n",
       "      <td>...</td>\n",
       "      <td>-0.2896729941</td>\n",
       "      <td>-0.2525800675</td>\n",
       "      <td>-0.2308736478</td>\n",
       "      <td>1.1906687093</td>\n",
       "      <td>-0.0008005538</td>\n",
       "      <td>2.7726693600</td>\n",
       "      <td>1.1163202881</td>\n",
       "      <td>1.4614439534</td>\n",
       "      <td>20.5000000000</td>\n",
       "      <td>21.1250000000</td>\n",
       "    </tr>\n",
       "  </tbody>\n",
       "</table>\n",
       "<p>5 rows × 26 columns</p>\n",
       "</div>"
      ],
      "text/plain": [
       "       station       Date  Year  Present_Tmax  Present_Tmin   LDAPS_RHmin  \\\n",
       "0 1.0000000000 2017-06-30  2017 -0.6353088184 -1.3677698573  0.1786262381   \n",
       "1 1.0000000000 2017-07-01  2017 -0.1975405447 -1.4093038588  2.4081613579   \n",
       "2 1.0000000000 2017-07-02  2017 -2.0159626049 -1.0770318467  2.5316435620   \n",
       "3 1.0000000000 2017-07-03  2017 -1.6118688137 -1.1185658482  0.1989934770   \n",
       "4 1.0000000000 2017-07-04  2017 -0.3995874402 -0.5786238285 -0.3558916090   \n",
       "\n",
       "   LDAPS_RHmax  LDAPS_Tmax_lapse  LDAPS_Tmin_lapse      LDAPS_WS  ...  \\\n",
       "0 1.3296752649     -0.9846526951     -1.1434685968 -0.3077624363  ...   \n",
       "1 1.6303044350     -1.8206951910     -0.3916778506  1.0452531562  ...   \n",
       "2 1.6313746261     -1.9865524721     -0.6483755441  1.6574241297  ...   \n",
       "3 1.1605716197     -0.1451819785     -0.7643095525  0.0932883947  ...   \n",
       "4 0.0327526714     -0.0197111715     -0.4632657877 -0.3097391219  ...   \n",
       "\n",
       "     LDAPS_PPT2    LDAPS_PPT3    LDAPS_PPT4          lat           lon  \\\n",
       "0 -0.2896729941 -0.2525800675 -0.1928158068 1.1906687093 -0.0008005538   \n",
       "1  0.0044358885  0.4212376731  2.5402188894 1.1906687093 -0.0008005538   \n",
       "2  6.9196671336 -0.2449624428 -0.1149365838 1.1906687093 -0.0008005538   \n",
       "3 -0.2896729941 -0.2525800675 -0.2308736478 1.1906687093 -0.0008005538   \n",
       "4 -0.2896729941 -0.2525800675 -0.2308736478 1.1906687093 -0.0008005538   \n",
       "\n",
       "           DEM        Slope  Solar radiation     Next_Tmin      Previsão  \n",
       "0 2.7726693600 1.1163202881     1.5175509274 19.6000000000 19.8960000000  \n",
       "1 2.7726693600 1.1163202881     1.5054912834 20.4000000000 21.2295000000  \n",
       "2 2.7726693600 1.1163202881     1.4921225140 20.5000000000 20.4970000000  \n",
       "3 2.7726693600 1.1163202881     1.4774400722 20.6000000000 20.4665000000  \n",
       "4 2.7726693600 1.1163202881     1.4614439534 20.5000000000 21.1250000000  \n",
       "\n",
       "[5 rows x 26 columns]"
      ]
     },
     "execution_count": 55,
     "metadata": {},
     "output_type": "execute_result"
    }
   ],
   "source": [
    "y_test_Tmin_st1_frame = y_test_Tmin_st1.to_frame('Next_Tmin')\n",
    "y_test_Tmin_st1_frame['Next_Tmin'] = y_scaler_fit_Tmin.inverse_transform(\n",
    "    y_test_Tmin_st1)\n",
    "forecast_results = pd.merge(\n",
    "    X_test_st1, y_test_Tmin_st1_frame, left_index=True, right_index=True)\n",
    "forecast_results = forecast_results.reset_index()\n",
    "forecast_results = forecast_results.merge(pd.DataFrame(y_scaler_fit_Tmin.inverse_transform(\n",
    "    yfit_Tmin_RF), columns=['Previsão']).reset_index(drop=True), left_index=True, right_index=True)\n",
    "forecast_results.head()\n"
   ]
  },
  {
   "cell_type": "code",
   "execution_count": 56,
   "metadata": {},
   "outputs": [
    {
     "data": {
      "application/vnd.plotly.v1+json": {
       "config": {
        "plotlyServerURL": "https://plot.ly"
       },
       "data": [
        {
         "hovertemplate": "variable=Next_Tmin<br>Date=%{x}<br>Temperatura Máxima Seoul (°C)=%{y}<extra></extra>",
         "legendgroup": "Next_Tmin",
         "line": {
          "color": "#636efa",
          "dash": "solid"
         },
         "mode": "lines",
         "name": "Next_Tmin",
         "orientation": "v",
         "showlegend": true,
         "type": "scatter",
         "x": [
          "2017-06-30T00:00:00",
          "2017-07-01T00:00:00",
          "2017-07-02T00:00:00",
          "2017-07-03T00:00:00",
          "2017-07-04T00:00:00",
          "2017-07-05T00:00:00",
          "2017-07-06T00:00:00",
          "2017-07-07T00:00:00",
          "2017-07-08T00:00:00",
          "2017-07-09T00:00:00",
          "2017-07-10T00:00:00",
          "2017-07-11T00:00:00",
          "2017-07-12T00:00:00",
          "2017-07-13T00:00:00",
          "2017-07-14T00:00:00",
          "2017-07-15T00:00:00",
          "2017-07-16T00:00:00",
          "2017-07-17T00:00:00",
          "2017-07-18T00:00:00",
          "2017-07-19T00:00:00",
          "2017-07-20T00:00:00",
          "2017-07-21T00:00:00",
          "2017-07-22T00:00:00",
          "2017-07-23T00:00:00",
          "2017-07-24T00:00:00",
          "2017-07-25T00:00:00",
          "2017-07-26T00:00:00",
          "2017-07-27T00:00:00",
          "2017-07-28T00:00:00",
          "2017-07-29T00:00:00",
          "2017-07-30T00:00:00",
          "2017-07-31T00:00:00",
          "2017-08-01T00:00:00",
          "2017-08-02T00:00:00",
          "2017-08-03T00:00:00",
          "2017-08-04T00:00:00",
          "2017-08-05T00:00:00",
          "2017-08-06T00:00:00",
          "2017-08-07T00:00:00",
          "2017-08-08T00:00:00",
          "2017-08-09T00:00:00",
          "2017-08-10T00:00:00",
          "2017-08-11T00:00:00",
          "2017-08-12T00:00:00",
          "2017-08-13T00:00:00",
          "2017-08-15T00:00:00",
          "2017-08-16T00:00:00",
          "2017-08-17T00:00:00",
          "2017-08-18T00:00:00",
          "2017-08-19T00:00:00",
          "2017-08-20T00:00:00",
          "2017-08-21T00:00:00",
          "2017-08-22T00:00:00",
          "2017-08-23T00:00:00",
          "2017-08-24T00:00:00",
          "2017-08-25T00:00:00",
          "2017-08-26T00:00:00",
          "2017-08-27T00:00:00",
          "2017-08-28T00:00:00",
          "2017-08-29T00:00:00",
          "2017-08-30T00:00:00"
         ],
         "xaxis": "x",
         "y": [
          19.6,
          20.4,
          20.5,
          20.6,
          20.5,
          21.5,
          22.1,
          22.6,
          21.7,
          20.7,
          20.3,
          22.4,
          21.7,
          23.7,
          21.2,
          21.4,
          21.9,
          21.8,
          21.8,
          23.2,
          24.6,
          24.7,
          23.5,
          22.5,
          22.5,
          21.7,
          21.9,
          22,
          22.6,
          22.1,
          22.2,
          21.7,
          24.1,
          24.4,
          22.8,
          25.3,
          24.6,
          23.1,
          22.5,
          21.9,
          21.6,
          21.4,
          21,
          21.3,
          20.4,
          18.8,
          19.1,
          21.3,
          20.8,
          20.2,
          21.6,
          20.8,
          22.2,
          21.8,
          19.2,
          17.8,
          17.2,
          15.9,
          13.6,
          14.6,
          15.100000000000001
         ],
         "yaxis": "y"
        },
        {
         "hovertemplate": "variable=Previsão<br>Date=%{x}<br>Temperatura Máxima Seoul (°C)=%{y}<extra></extra>",
         "legendgroup": "Previsão",
         "line": {
          "color": "#EF553B",
          "dash": "solid"
         },
         "mode": "lines",
         "name": "Previsão",
         "orientation": "v",
         "showlegend": true,
         "type": "scatter",
         "x": [
          "2017-06-30T00:00:00",
          "2017-07-01T00:00:00",
          "2017-07-02T00:00:00",
          "2017-07-03T00:00:00",
          "2017-07-04T00:00:00",
          "2017-07-05T00:00:00",
          "2017-07-06T00:00:00",
          "2017-07-07T00:00:00",
          "2017-07-08T00:00:00",
          "2017-07-09T00:00:00",
          "2017-07-10T00:00:00",
          "2017-07-11T00:00:00",
          "2017-07-12T00:00:00",
          "2017-07-13T00:00:00",
          "2017-07-14T00:00:00",
          "2017-07-15T00:00:00",
          "2017-07-16T00:00:00",
          "2017-07-17T00:00:00",
          "2017-07-18T00:00:00",
          "2017-07-19T00:00:00",
          "2017-07-20T00:00:00",
          "2017-07-21T00:00:00",
          "2017-07-22T00:00:00",
          "2017-07-23T00:00:00",
          "2017-07-24T00:00:00",
          "2017-07-25T00:00:00",
          "2017-07-26T00:00:00",
          "2017-07-27T00:00:00",
          "2017-07-28T00:00:00",
          "2017-07-29T00:00:00",
          "2017-07-30T00:00:00",
          "2017-07-31T00:00:00",
          "2017-08-01T00:00:00",
          "2017-08-02T00:00:00",
          "2017-08-03T00:00:00",
          "2017-08-04T00:00:00",
          "2017-08-05T00:00:00",
          "2017-08-06T00:00:00",
          "2017-08-07T00:00:00",
          "2017-08-08T00:00:00",
          "2017-08-09T00:00:00",
          "2017-08-10T00:00:00",
          "2017-08-11T00:00:00",
          "2017-08-12T00:00:00",
          "2017-08-13T00:00:00",
          "2017-08-15T00:00:00",
          "2017-08-16T00:00:00",
          "2017-08-17T00:00:00",
          "2017-08-18T00:00:00",
          "2017-08-19T00:00:00",
          "2017-08-20T00:00:00",
          "2017-08-21T00:00:00",
          "2017-08-22T00:00:00",
          "2017-08-23T00:00:00",
          "2017-08-24T00:00:00",
          "2017-08-25T00:00:00",
          "2017-08-26T00:00:00",
          "2017-08-27T00:00:00",
          "2017-08-28T00:00:00",
          "2017-08-29T00:00:00",
          "2017-08-30T00:00:00"
         ],
         "xaxis": "x",
         "y": [
          19.895999999999997,
          21.2295,
          20.497,
          20.4665,
          21.125,
          21.581000000000003,
          21.7065,
          22.34,
          22.174500000000002,
          21.1795,
          20.428,
          21.015,
          21.3965,
          22.3345,
          22.194,
          21.674,
          22.5985,
          21.6035,
          21.2565,
          22.355999999999998,
          23.892,
          24.4295,
          24.635,
          23.458,
          22.95,
          21.749,
          21.173,
          21.621499999999997,
          22.368,
          21.5435,
          22.3975,
          21.278000000000002,
          23.469,
          23.838,
          23.543,
          23.6515,
          25.404999999999998,
          23.809,
          23.157,
          22.239,
          22.843,
          21.9885,
          21.2295,
          20.8055,
          19.5,
          19.084,
          19.825,
          20.6325,
          20.3335,
          19.756,
          21.271,
          21.275000000000002,
          21.8665,
          21.465500000000002,
          20.712,
          18.406000000000006,
          17.136999999999997,
          18.562,
          15.358499999999996,
          14.962,
          14.637999999999998
         ],
         "yaxis": "y"
        }
       ],
       "layout": {
        "height": 400,
        "legend": {
         "title": {
          "text": "variable"
         },
         "tracegroupgap": 0
        },
        "template": {
         "data": {
          "bar": [
           {
            "error_x": {
             "color": "#2a3f5f"
            },
            "error_y": {
             "color": "#2a3f5f"
            },
            "marker": {
             "line": {
              "color": "#E5ECF6",
              "width": 0.5
             }
            },
            "type": "bar"
           }
          ],
          "barpolar": [
           {
            "marker": {
             "line": {
              "color": "#E5ECF6",
              "width": 0.5
             }
            },
            "type": "barpolar"
           }
          ],
          "carpet": [
           {
            "aaxis": {
             "endlinecolor": "#2a3f5f",
             "gridcolor": "white",
             "linecolor": "white",
             "minorgridcolor": "white",
             "startlinecolor": "#2a3f5f"
            },
            "baxis": {
             "endlinecolor": "#2a3f5f",
             "gridcolor": "white",
             "linecolor": "white",
             "minorgridcolor": "white",
             "startlinecolor": "#2a3f5f"
            },
            "type": "carpet"
           }
          ],
          "choropleth": [
           {
            "colorbar": {
             "outlinewidth": 0,
             "ticks": ""
            },
            "type": "choropleth"
           }
          ],
          "contour": [
           {
            "colorbar": {
             "outlinewidth": 0,
             "ticks": ""
            },
            "colorscale": [
             [
              0,
              "#0d0887"
             ],
             [
              0.1111111111111111,
              "#46039f"
             ],
             [
              0.2222222222222222,
              "#7201a8"
             ],
             [
              0.3333333333333333,
              "#9c179e"
             ],
             [
              0.4444444444444444,
              "#bd3786"
             ],
             [
              0.5555555555555556,
              "#d8576b"
             ],
             [
              0.6666666666666666,
              "#ed7953"
             ],
             [
              0.7777777777777778,
              "#fb9f3a"
             ],
             [
              0.8888888888888888,
              "#fdca26"
             ],
             [
              1,
              "#f0f921"
             ]
            ],
            "type": "contour"
           }
          ],
          "contourcarpet": [
           {
            "colorbar": {
             "outlinewidth": 0,
             "ticks": ""
            },
            "type": "contourcarpet"
           }
          ],
          "heatmap": [
           {
            "colorbar": {
             "outlinewidth": 0,
             "ticks": ""
            },
            "colorscale": [
             [
              0,
              "#0d0887"
             ],
             [
              0.1111111111111111,
              "#46039f"
             ],
             [
              0.2222222222222222,
              "#7201a8"
             ],
             [
              0.3333333333333333,
              "#9c179e"
             ],
             [
              0.4444444444444444,
              "#bd3786"
             ],
             [
              0.5555555555555556,
              "#d8576b"
             ],
             [
              0.6666666666666666,
              "#ed7953"
             ],
             [
              0.7777777777777778,
              "#fb9f3a"
             ],
             [
              0.8888888888888888,
              "#fdca26"
             ],
             [
              1,
              "#f0f921"
             ]
            ],
            "type": "heatmap"
           }
          ],
          "heatmapgl": [
           {
            "colorbar": {
             "outlinewidth": 0,
             "ticks": ""
            },
            "colorscale": [
             [
              0,
              "#0d0887"
             ],
             [
              0.1111111111111111,
              "#46039f"
             ],
             [
              0.2222222222222222,
              "#7201a8"
             ],
             [
              0.3333333333333333,
              "#9c179e"
             ],
             [
              0.4444444444444444,
              "#bd3786"
             ],
             [
              0.5555555555555556,
              "#d8576b"
             ],
             [
              0.6666666666666666,
              "#ed7953"
             ],
             [
              0.7777777777777778,
              "#fb9f3a"
             ],
             [
              0.8888888888888888,
              "#fdca26"
             ],
             [
              1,
              "#f0f921"
             ]
            ],
            "type": "heatmapgl"
           }
          ],
          "histogram": [
           {
            "marker": {
             "colorbar": {
              "outlinewidth": 0,
              "ticks": ""
             }
            },
            "type": "histogram"
           }
          ],
          "histogram2d": [
           {
            "colorbar": {
             "outlinewidth": 0,
             "ticks": ""
            },
            "colorscale": [
             [
              0,
              "#0d0887"
             ],
             [
              0.1111111111111111,
              "#46039f"
             ],
             [
              0.2222222222222222,
              "#7201a8"
             ],
             [
              0.3333333333333333,
              "#9c179e"
             ],
             [
              0.4444444444444444,
              "#bd3786"
             ],
             [
              0.5555555555555556,
              "#d8576b"
             ],
             [
              0.6666666666666666,
              "#ed7953"
             ],
             [
              0.7777777777777778,
              "#fb9f3a"
             ],
             [
              0.8888888888888888,
              "#fdca26"
             ],
             [
              1,
              "#f0f921"
             ]
            ],
            "type": "histogram2d"
           }
          ],
          "histogram2dcontour": [
           {
            "colorbar": {
             "outlinewidth": 0,
             "ticks": ""
            },
            "colorscale": [
             [
              0,
              "#0d0887"
             ],
             [
              0.1111111111111111,
              "#46039f"
             ],
             [
              0.2222222222222222,
              "#7201a8"
             ],
             [
              0.3333333333333333,
              "#9c179e"
             ],
             [
              0.4444444444444444,
              "#bd3786"
             ],
             [
              0.5555555555555556,
              "#d8576b"
             ],
             [
              0.6666666666666666,
              "#ed7953"
             ],
             [
              0.7777777777777778,
              "#fb9f3a"
             ],
             [
              0.8888888888888888,
              "#fdca26"
             ],
             [
              1,
              "#f0f921"
             ]
            ],
            "type": "histogram2dcontour"
           }
          ],
          "mesh3d": [
           {
            "colorbar": {
             "outlinewidth": 0,
             "ticks": ""
            },
            "type": "mesh3d"
           }
          ],
          "parcoords": [
           {
            "line": {
             "colorbar": {
              "outlinewidth": 0,
              "ticks": ""
             }
            },
            "type": "parcoords"
           }
          ],
          "pie": [
           {
            "automargin": true,
            "type": "pie"
           }
          ],
          "scatter": [
           {
            "marker": {
             "colorbar": {
              "outlinewidth": 0,
              "ticks": ""
             }
            },
            "type": "scatter"
           }
          ],
          "scatter3d": [
           {
            "line": {
             "colorbar": {
              "outlinewidth": 0,
              "ticks": ""
             }
            },
            "marker": {
             "colorbar": {
              "outlinewidth": 0,
              "ticks": ""
             }
            },
            "type": "scatter3d"
           }
          ],
          "scattercarpet": [
           {
            "marker": {
             "colorbar": {
              "outlinewidth": 0,
              "ticks": ""
             }
            },
            "type": "scattercarpet"
           }
          ],
          "scattergeo": [
           {
            "marker": {
             "colorbar": {
              "outlinewidth": 0,
              "ticks": ""
             }
            },
            "type": "scattergeo"
           }
          ],
          "scattergl": [
           {
            "marker": {
             "colorbar": {
              "outlinewidth": 0,
              "ticks": ""
             }
            },
            "type": "scattergl"
           }
          ],
          "scattermapbox": [
           {
            "marker": {
             "colorbar": {
              "outlinewidth": 0,
              "ticks": ""
             }
            },
            "type": "scattermapbox"
           }
          ],
          "scatterpolar": [
           {
            "marker": {
             "colorbar": {
              "outlinewidth": 0,
              "ticks": ""
             }
            },
            "type": "scatterpolar"
           }
          ],
          "scatterpolargl": [
           {
            "marker": {
             "colorbar": {
              "outlinewidth": 0,
              "ticks": ""
             }
            },
            "type": "scatterpolargl"
           }
          ],
          "scatterternary": [
           {
            "marker": {
             "colorbar": {
              "outlinewidth": 0,
              "ticks": ""
             }
            },
            "type": "scatterternary"
           }
          ],
          "surface": [
           {
            "colorbar": {
             "outlinewidth": 0,
             "ticks": ""
            },
            "colorscale": [
             [
              0,
              "#0d0887"
             ],
             [
              0.1111111111111111,
              "#46039f"
             ],
             [
              0.2222222222222222,
              "#7201a8"
             ],
             [
              0.3333333333333333,
              "#9c179e"
             ],
             [
              0.4444444444444444,
              "#bd3786"
             ],
             [
              0.5555555555555556,
              "#d8576b"
             ],
             [
              0.6666666666666666,
              "#ed7953"
             ],
             [
              0.7777777777777778,
              "#fb9f3a"
             ],
             [
              0.8888888888888888,
              "#fdca26"
             ],
             [
              1,
              "#f0f921"
             ]
            ],
            "type": "surface"
           }
          ],
          "table": [
           {
            "cells": {
             "fill": {
              "color": "#EBF0F8"
             },
             "line": {
              "color": "white"
             }
            },
            "header": {
             "fill": {
              "color": "#C8D4E3"
             },
             "line": {
              "color": "white"
             }
            },
            "type": "table"
           }
          ]
         },
         "layout": {
          "annotationdefaults": {
           "arrowcolor": "#2a3f5f",
           "arrowhead": 0,
           "arrowwidth": 1
          },
          "autotypenumbers": "strict",
          "coloraxis": {
           "colorbar": {
            "outlinewidth": 0,
            "ticks": ""
           }
          },
          "colorscale": {
           "diverging": [
            [
             0,
             "#8e0152"
            ],
            [
             0.1,
             "#c51b7d"
            ],
            [
             0.2,
             "#de77ae"
            ],
            [
             0.3,
             "#f1b6da"
            ],
            [
             0.4,
             "#fde0ef"
            ],
            [
             0.5,
             "#f7f7f7"
            ],
            [
             0.6,
             "#e6f5d0"
            ],
            [
             0.7,
             "#b8e186"
            ],
            [
             0.8,
             "#7fbc41"
            ],
            [
             0.9,
             "#4d9221"
            ],
            [
             1,
             "#276419"
            ]
           ],
           "sequential": [
            [
             0,
             "#0d0887"
            ],
            [
             0.1111111111111111,
             "#46039f"
            ],
            [
             0.2222222222222222,
             "#7201a8"
            ],
            [
             0.3333333333333333,
             "#9c179e"
            ],
            [
             0.4444444444444444,
             "#bd3786"
            ],
            [
             0.5555555555555556,
             "#d8576b"
            ],
            [
             0.6666666666666666,
             "#ed7953"
            ],
            [
             0.7777777777777778,
             "#fb9f3a"
            ],
            [
             0.8888888888888888,
             "#fdca26"
            ],
            [
             1,
             "#f0f921"
            ]
           ],
           "sequentialminus": [
            [
             0,
             "#0d0887"
            ],
            [
             0.1111111111111111,
             "#46039f"
            ],
            [
             0.2222222222222222,
             "#7201a8"
            ],
            [
             0.3333333333333333,
             "#9c179e"
            ],
            [
             0.4444444444444444,
             "#bd3786"
            ],
            [
             0.5555555555555556,
             "#d8576b"
            ],
            [
             0.6666666666666666,
             "#ed7953"
            ],
            [
             0.7777777777777778,
             "#fb9f3a"
            ],
            [
             0.8888888888888888,
             "#fdca26"
            ],
            [
             1,
             "#f0f921"
            ]
           ]
          },
          "colorway": [
           "#636efa",
           "#EF553B",
           "#00cc96",
           "#ab63fa",
           "#FFA15A",
           "#19d3f3",
           "#FF6692",
           "#B6E880",
           "#FF97FF",
           "#FECB52"
          ],
          "font": {
           "color": "#2a3f5f"
          },
          "geo": {
           "bgcolor": "white",
           "lakecolor": "white",
           "landcolor": "#E5ECF6",
           "showlakes": true,
           "showland": true,
           "subunitcolor": "white"
          },
          "hoverlabel": {
           "align": "left"
          },
          "hovermode": "closest",
          "mapbox": {
           "style": "light"
          },
          "paper_bgcolor": "white",
          "plot_bgcolor": "#E5ECF6",
          "polar": {
           "angularaxis": {
            "gridcolor": "white",
            "linecolor": "white",
            "ticks": ""
           },
           "bgcolor": "#E5ECF6",
           "radialaxis": {
            "gridcolor": "white",
            "linecolor": "white",
            "ticks": ""
           }
          },
          "scene": {
           "xaxis": {
            "backgroundcolor": "#E5ECF6",
            "gridcolor": "white",
            "gridwidth": 2,
            "linecolor": "white",
            "showbackground": true,
            "ticks": "",
            "zerolinecolor": "white"
           },
           "yaxis": {
            "backgroundcolor": "#E5ECF6",
            "gridcolor": "white",
            "gridwidth": 2,
            "linecolor": "white",
            "showbackground": true,
            "ticks": "",
            "zerolinecolor": "white"
           },
           "zaxis": {
            "backgroundcolor": "#E5ECF6",
            "gridcolor": "white",
            "gridwidth": 2,
            "linecolor": "white",
            "showbackground": true,
            "ticks": "",
            "zerolinecolor": "white"
           }
          },
          "shapedefaults": {
           "line": {
            "color": "#2a3f5f"
           }
          },
          "ternary": {
           "aaxis": {
            "gridcolor": "white",
            "linecolor": "white",
            "ticks": ""
           },
           "baxis": {
            "gridcolor": "white",
            "linecolor": "white",
            "ticks": ""
           },
           "bgcolor": "#E5ECF6",
           "caxis": {
            "gridcolor": "white",
            "linecolor": "white",
            "ticks": ""
           }
          },
          "title": {
           "x": 0.05
          },
          "xaxis": {
           "automargin": true,
           "gridcolor": "white",
           "linecolor": "white",
           "ticks": "",
           "title": {
            "standoff": 15
           },
           "zerolinecolor": "white",
           "zerolinewidth": 2
          },
          "yaxis": {
           "automargin": true,
           "gridcolor": "white",
           "linecolor": "white",
           "ticks": "",
           "title": {
            "standoff": 15
           },
           "zerolinecolor": "white",
           "zerolinewidth": 2
          }
         }
        },
        "title": {
         "text": "Previsão Modelo RF (Temperatura Mínima T+1)"
        },
        "width": 800,
        "xaxis": {
         "anchor": "y",
         "domain": [
          0,
          1
         ],
         "title": {
          "text": "Date"
         }
        },
        "yaxis": {
         "anchor": "x",
         "domain": [
          0,
          1
         ],
         "title": {
          "text": "Temperatura Máxima Seoul (°C)"
         }
        }
       }
      }
     },
     "metadata": {},
     "output_type": "display_data"
    }
   ],
   "source": [
    "fig = px.line(forecast_results, x='Date', y=['Next_Tmin', 'Previsão'], labels={\n",
    "              'value': \"Temperatura Máxima Seoul (°C)\"}, title='Previsão Modelo RF (Temperatura Mínima T+1)', width=800, height=400)\n",
    "fig.show()\n"
   ]
  }
 ],
 "metadata": {
  "interpreter": {
   "hash": "1f581d018a546ff485bbe9afc04fe925a6dbac1faa56a245c7e60b68a5d49f26"
  },
  "kernelspec": {
   "display_name": "Python 3.9.1 64-bit",
   "name": "python3"
  },
  "language_info": {
   "codemirror_mode": {
    "name": "ipython",
    "version": 3
   },
   "file_extension": ".py",
   "mimetype": "text/x-python",
   "name": "python",
   "nbconvert_exporter": "python",
   "pygments_lexer": "ipython3",
   "version": "3.9.1"
  }
 },
 "nbformat": 4,
 "nbformat_minor": 5
}
